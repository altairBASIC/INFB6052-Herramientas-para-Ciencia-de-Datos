{
 "cells": [
  {
   "cell_type": "markdown",
   "id": "53f394b0",
   "metadata": {},
   "source": [
    "# Perceptrón: Implementación y Análisis\n",
    "**Asignatura:** INFB6052 – Herramientas para la Ciencia de Datos\\n\n",
    "## Objetivo\n",
    "Implementar un perceptrón simple para aprender funciones lógicamente linealmente separables (AND / OR), visualizar su proceso de entrenamiento y analizar resultados.\n",
    "## Temas Clave\n",
    "- Modelo de neurona artificial\n",
    "- Función de activación escalón\n",
    "- Regla de actualización de pesos\\n\n",
    "- Convergencia en problemas linealmente separables"
   ]
  },
  {
   "cell_type": "markdown",
   "id": "859e432a",
   "metadata": {},
   "source": [
    "## 1. Importar Librerías\n",
    "Cargamos NumPy para operaciones numéricas, pandas para el dataset y matplotlib para visualizar métricas."
   ]
  },
  {
   "cell_type": "code",
   "execution_count": null,
   "id": "cb3d0b24",
   "metadata": {},
   "outputs": [],
   "source": [
    "import numpy as np\n",
    "import pandas as pd\n",
    "import matplotlib.pyplot as plt\n",
    "from perceptron import Perceptron\n",
    "plt.style.use('seaborn-v0_8-whitegrid')"
   ]
  },
  {
   "cell_type": "markdown",
   "id": "0459d457",
   "metadata": {},
   "source": [
    "## 2. Cargar Dataset de Compuertas Lógicas\n",
    "El dataset contiene ejemplos para AND y OR. Seleccionaremos una compuerta para entrenar."
   ]
  },
  {
   "cell_type": "code",
   "execution_count": null,
   "id": "83f9ab35",
   "metadata": {},
   "outputs": [],
   "source": [
    "df = pd.read_csv('../data/logic_gates.csv')\n",
    "df"
   ]
  },
  {
   "cell_type": "markdown",
   "id": "9abc83c5",
   "metadata": {},
   "source": [
    "## 3. Definir Funciones Auxiliares\n",
    "Función para seleccionar compuerta y separar X (entradas) e y (etiquetas)."
   ]
  },
  {
   "cell_type": "code",
   "execution_count": null,
   "id": "2d3d309b",
   "metadata": {},
   "outputs": [],
   "source": [
    "def load_gate(gate: str):\n",
    "    subset = df[df['gate']==gate].copy()\n",
    "    X = subset[['x1','x2']].values\n",
    "    y = subset['y'].values\n",
    "    return X, y\n",
    "X_and, y_and = load_gate('AND')\n",
    "X_or, y_or = load_gate('OR')\n",
    "X_and, y_and"
   ]
  },
  {
   "cell_type": "markdown",
   "id": "3136b7ae",
   "metadata": {},
   "source": [
    "## 4. Clase Perceptrón\n",
    "La implementación está en el módulo `perceptron/perceptron.py`. A continuación mostramos la firma principal y descripción de sus métodos:\n",
    "- `fit`: entrena y guarda historial de errores, accuracy y pesos.\n",
    "- `predict`: devuelve clase binaria.\n",
    "- `score`: accuracy sobre datos dados."
   ]
  },
  {
   "cell_type": "code",
   "execution_count": null,
   "id": "2028086d",
   "metadata": {},
   "outputs": [],
   "source": [
    "from inspect import getsource\n",
    "import perceptron.perceptron as pmod\n",
    "print(getsource(pmod.Perceptron))"
   ]
  },
  {
   "cell_type": "markdown",
   "id": "53ff4ab0",
   "metadata": {},
   "source": [
    "## 5. Entrenamiento\n",
    "Entrenaremos el modelo sobre AND y OR para comparar convergencia."
   ]
  },
  {
   "cell_type": "code",
   "execution_count": null,
   "id": "d863fb26",
   "metadata": {},
   "outputs": [],
   "source": [
    "per_and = Perceptron(n_inputs=2, learning_rate=0.1, random_state=1)\n",
    "hist_and = per_and.fit(X_and, y_and, epochs=15)\n",
    "per_or = Perceptron(n_inputs=2, learning_rate=0.1, random_state=1)\n",
    "hist_or = per_or.fit(X_or, y_or, epochs=15)\n",
    "print('Accuracy AND:', per_and.score(X_and, y_and))\n",
    "print('Accuracy OR:', per_or.score(X_or, y_or))\n",
    "hist_and.errors, hist_or.errors"
   ]
  },
  {
   "cell_type": "markdown",
   "id": "40c34798",
   "metadata": {},
   "source": [
    "## 6. Gráficos de Métricas\n",
    "Graficamos evolución de errores y accuracy por época."
   ]
  },
  {
   "cell_type": "code",
   "execution_count": null,
   "id": "355de822",
   "metadata": {},
   "outputs": [],
   "source": [
    "fig, axes = plt.subplots(1,2, figsize=(10,4))\n",
    "axes[0].plot(hist_and.errors, label='AND - Errores')\n",
    "axes[0].plot(hist_or.errors, label='OR - Errores')\n",
    "axes[0].set_xlabel('Época'); axes[0].set_ylabel('Errores'); axes[0].legend()\n",
    "axes[1].plot(hist_and.accuracy, label='AND - Acc')\n",
    "axes[1].plot(hist_or.accuracy, label='OR - Acc')\n",
    "axes[1].set_xlabel('Época'); axes[1].set_ylabel('Accuracy'); axes[1].legend()\n",
    "plt.tight_layout()\n",
    "plt.show()"
   ]
  },
  {
   "cell_type": "markdown",
   "id": "ddf28910",
   "metadata": {},
   "source": [
    "## 7. Frontera de Decisión\n",
    "Función para visualizar la frontera aprendida en 2D."
   ]
  },
  {
   "cell_type": "code",
   "execution_count": null,
   "id": "d4286a81",
   "metadata": {},
   "outputs": [],
   "source": [
    "def plot_decision_boundary(model, X, y, ax, title):\n",
    "    x_min, x_max = -0.5, 1.5\n",
    "    y_min, y_max = -0.5, 1.5\n",
    "    xx, yy = np.meshgrid(np.linspace(x_min, x_max, 200), np.linspace(y_min, y_max, 200))\n",
    "    grid = np.c_[xx.ravel(), yy.ravel()]\n",
    "    Z = model.predict(grid).reshape(xx.shape)\n",
    "    ax.contourf(xx, yy, Z, alpha=0.3, cmap='coolwarm')\n",
    "    ax.scatter(X[:,0], X[:,1], c=y, cmap='coolwarm', edgecolor='k', s=80)\n",
    "    ax.set_title(title)\n",
    "    ax.set_xlim(x_min, x_max); ax.set_ylim(y_min, y_max)\n",
    "fig, axes = plt.subplots(1,2, figsize=(10,4))\n",
    "plot_decision_boundary(per_and, X_and, y_and, axes[0], 'Frontera AND')\n",
    "plot_decision_boundary(per_or, X_or, y_or, axes[1], 'Frontera OR')\n",
    "plt.tight_layout(); plt.show()"
   ]
  },
  {
   "cell_type": "markdown",
   "id": "ceaf69bd",
   "metadata": {},
   "source": [
    "## 8. Evolución de los Pesos\n",
    "Mostramos cómo cambian los pesos (incluyendo bias) a lo largo de las épocas."
   ]
  },
  {
   "cell_type": "code",
   "execution_count": null,
   "id": "95254ef1",
   "metadata": {},
   "outputs": [],
   "source": [
    "def plot_weights(history, title):\n",
    "    W = np.array(history.weights)\n",
    "    plt.figure(figsize=(6,4))\n",
    "    for i in range(W.shape[1]):\n",
    "        plt.plot(W[:,i], label=f'w{i}')\n",
    "    plt.xlabel('Época'); plt.ylabel('Valor'); plt.title(title); plt.legend(); plt.show()\n",
    "plot_weights(hist_and, 'Pesos AND')\n",
    "plot_weights(hist_or, 'Pesos OR')"
   ]
  },
  {
   "cell_type": "markdown",
   "id": "cf599251",
   "metadata": {},
   "source": [
    "## 9. Interpretación de Resultados\n",
    "- El perceptrón converge rápidamente para AND y OR porque son linealmente separables.\n",
    "- Los errores disminuyen hasta 0 y el accuracy alcanza 1.0 (100%).\n",
    "- La frontera de decisión separa correctamente las clases.\n",
    "- La evolución de pesos muestra estabilización una vez que no hay errores.\n",
    "## 10. Trabajo Futuro\n",
    "- Probar con problemas no linealmente separables (XOR) y observar fracaso.\n",
    "- Extender a perceptrón multicapa (MLP) con backpropagation."
   ]
  }
 ],
 "metadata": {
  "kernelspec": {
   "display_name": "Python 3",
   "language": "python",
   "name": "python3"
  },
  "language_info": {
   "name": "python",
   "version": "3.10.11"
  }
 },
 "nbformat": 4,
 "nbformat_minor": 5
}
