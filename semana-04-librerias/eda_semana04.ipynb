{
 "cells": [
  {
   "cell_type": "markdown",
   "id": "5df0dbe8",
   "metadata": {},
   "source": [
    "# Semana 04 - Análisis Exploratorio de Datos (EDA)\n",
    "\n",
    "Este notebook guía un flujo EDA completo: calidad, distribuciones, relaciones, outliers, transformaciones y una baseline rápida de modelo.\n",
    "\n",
    "> Nota: El dataset generado es sintético (placeholder). Sustituir por datos reales cuando estén disponibles."
   ]
  },
  {
   "cell_type": "markdown",
   "id": "ead306bf",
   "metadata": {},
   "source": [
    "## 1. Configuración del Entorno y Carga de Librerías"
   ]
  },
  {
   "cell_type": "code",
   "execution_count": null,
   "id": "d8cf21e4",
   "metadata": {},
   "outputs": [],
   "source": [
    "import numpy as np\n",
    "import pandas as pd\n",
    "import seaborn as sns\n",
    "import matplotlib.pyplot as plt\n",
    "from scipy import stats\n",
    "from sklearn.impute import KNNImputer\n",
    "from sklearn.preprocessing import PowerTransformer\n",
    "from sklearn.ensemble import RandomForestClassifier\n",
    "from sklearn.metrics import classification_report\n",
    "from sklearn.linear_model import LinearRegression\n",
    "from sklearn.feature_selection import f_regression\n",
    "from sklearn.model_selection import train_test_split\n",
    "from sklearn.preprocessing import StandardScaler\n",
    "import textwrap, math, hashlib, random\n",
    "np.random.seed(42)\n",
    "random.seed(42)\n",
    "sns.set_theme(style='whitegrid')\n",
    "plt.rcParams['figure.figsize']=(8,4)"
   ]
  },
  {
   "cell_type": "markdown",
   "id": "fd316c79",
   "metadata": {},
   "source": [
    "## 2. Carga de Datos Crudos (Train/Test)\n",
    "Creamos un dataset sintético para demostración. Reemplaza esta celda por la lectura real (CSV/Parquet)."
   ]
  },
  {
   "cell_type": "code",
   "execution_count": null,
   "id": "a4e1d5e7",
   "metadata": {},
   "outputs": [],
   "source": [
    "N=1000\n",
    "dates = pd.date_range('2024-01-01', periods=N, freq='D')\n",
    "age = np.random.normal(40, 12, N).clip(18,80)\n",
    "income = np.random.lognormal(mean=10, sigma=0.5, size=N) / 1000  # escala miles\n",
    "score = np.random.beta(2,5, N)*100\n",
    "segment = np.random.choice(['A','B','C','D','E'], p=[0.35,0.25,0.2,0.15,0.05], size=N)\n",
    "city = np.random.choice(['Santiago','Valparaiso','Concepcion','Serena','Otra'], size=N, p=[0.45,0.2,0.15,0.1,0.1])\n",
    "# texto sintético\n",
    "words = ['data','model','quality','python','big','value','cloud','batch','stream','etl']\n",
    "comment = [' '.join(np.random.choice(words, size=np.random.randint(4,11))) for _ in range(N)]\n",
    "# target binaria dependiente de income y score\n",
    "logit = -5 + 0.4*(income>np.median(income)) + 0.03*score + 0.02*(age-40)\n",
    "prob = 1/(1+np.exp(-logit))\n",
    "target = (np.random.rand(N) < prob).astype(int)\n",
    "df = pd.DataFrame({ 'date':dates,'age':age,'income':income,'score':score,'segment':segment,'city':city,'comment':comment,'target':target })\n",
    "# Introducimos nulos y outliers\n",
    "for col,pct in [('age',0.02),('income',0.03),('score',0.01)]:\n",
    "    mask = np.random.rand(N) < pct\n",
    "    df.loc[mask,col] = np.nan\n",
    "# outliers extremos income\n",
    "df.loc[np.random.choice(df.index,5), 'income'] *= 8\n",
    "# Mezclar\n",
    "df = df.sample(frac=1, random_state=42).reset_index(drop=True)\n",
    "df.head()"
   ]
  },
  {
   "cell_type": "code",
   "execution_count": null,
   "id": "81987797",
   "metadata": {},
   "outputs": [],
   "source": [
    "print('Shape:', df.shape)\n",
    "print('Columnas:', list(df.columns))\n",
    "print('Hash SHA256 dataset actual:', hashlib.sha256(pd.util.hash_pandas_object(df, index=True).values).hexdigest()[:16])"
   ]
  },
  {
   "cell_type": "markdown",
   "id": "5971fd26",
   "metadata": {},
   "source": [
    "## 3. Inspección Estructural Inicial (shape, dtypes, memoria)"
   ]
  },
  {
   "cell_type": "code",
   "execution_count": null,
   "id": "e32bf500",
   "metadata": {},
   "outputs": [],
   "source": [
    "def memory_usage_report(df: pd.DataFrame):\n",
    "    mu = (df.memory_usage(deep=True)/1024).sort_values(ascending=False)\n",
    "    return pd.DataFrame({'kB':mu, 'kB_pct': mu/mu.sum()*100})\n",
    "memory_usage_report(df)"
   ]
  },
  {
   "cell_type": "markdown",
   "id": "22bdc505",
   "metadata": {},
   "source": [
    "## 4. Diccionario de Variables (Automático + Ajustes Manuales)"
   ]
  },
  {
   "cell_type": "code",
   "execution_count": null,
   "id": "b1702dd8",
   "metadata": {},
   "outputs": [],
   "source": [
    "def variable_dictionary(df):\n",
    "    rows=[]\n",
    "    for c in df.columns:\n",
    "        s=df[c]\n",
    "        rows.append({\n",
    "            'variable':c,\n",
    "            'tipo':s.dtype.name,\n",
    "            '%nulos': s.isna().mean()*100,\n",
    "            'cardinalidad': s.nunique(dropna=True),\n",
    "            'ejemplo': s.dropna().iloc[0] if s.dropna().size else None,\n",
    "            'descripcion':'<editar>'\n",
    "        })\n",
    "    return pd.DataFrame(rows)\n",
    "var_dict = variable_dictionary(df)\n",
    "var_dict"
   ]
  },
  {
   "cell_type": "markdown",
   "id": "502da28d",
   "metadata": {},
   "source": [
    "## 5. Conversión y Optimización de Tipos"
   ]
  },
  {
   "cell_type": "code",
   "execution_count": null,
   "id": "8bd1acbd",
   "metadata": {},
   "outputs": [],
   "source": [
    "def optimize_types(df):\n",
    "    df_opt = df.copy()\n",
    "    before = df_opt.memory_usage(deep=True).sum()/1024\n",
    "    # fechas\n",
    "    df_opt['date'] = pd.to_datetime(df_opt['date'])\n",
    "    # categorías\n",
    "    for c in ['segment','city']:\n",
    "        df_opt[c] = df_opt[c].astype('category')\n",
    "    # downcast numéricos\n",
    "    for c in df_opt.select_dtypes(include=['float64','int64']).columns:\n",
    "        df_opt[c] = pd.to_numeric(df_opt[c], downcast='float')\n",
    "    after = df_opt.memory_usage(deep=True).sum()/1024\n",
    "    return df_opt, before, after\n",
    "df_opt, mem_before, mem_after = optimize_types(df)\n",
    "print(f'Memoria antes: {mem_before:.1f} kB / después: {mem_after:.1f} kB / ahorro {(1-mem_after/mem_before)*100:.2f}%')"
   ]
  },
  {
   "cell_type": "markdown",
   "id": "865c0662",
   "metadata": {},
   "source": [
    "## 6. Análisis de Valores Faltantes (Matriz, Porcentajes, Patrones)"
   ]
  },
  {
   "cell_type": "code",
   "execution_count": null,
   "id": "96d7bbdc",
   "metadata": {},
   "outputs": [],
   "source": [
    "missing_pct = df.isna().mean().sort_values(ascending=False)*100\n",
    "missing_pct"
   ]
  },
  {
   "cell_type": "markdown",
   "id": "0ddd60e5",
   "metadata": {},
   "source": [
    "## 7. Imputaciones Rápidas de Prueba (No Definitivas)"
   ]
  },
  {
   "cell_type": "code",
   "execution_count": null,
   "id": "1d80b17e",
   "metadata": {},
   "outputs": [],
   "source": [
    "impute_cols = ['age','income','score']\n",
    "df_mean_imp = df.copy()\n",
    "for c in impute_cols: df_mean_imp[c]=df_mean_imp[c].fillna(df_mean_imp[c].mean())\n",
    "knn_imp = KNNImputer(n_neighbors=5)\n",
    "df_knn = df.copy()\n",
    "df_knn[impute_cols] = knn_imp.fit_transform(df_knn[impute_cols])\n",
    "df_knn[impute_cols].head()"
   ]
  },
  {
   "cell_type": "markdown",
   "id": "ccd59730",
   "metadata": {},
   "source": [
    "## 8. Detección de Duplicados y Registros Potencialmente Erróneos"
   ]
  },
  {
   "cell_type": "code",
   "execution_count": null,
   "id": "d3dcc71d",
   "metadata": {},
   "outputs": [],
   "source": [
    "dup_total = df.duplicated().sum()\n",
    "dup_subset = df.duplicated(subset=['segment','city','date']).sum()\n",
    "{'duplicados_totales':dup_total,'duplicados_segment_city_date':dup_subset}"
   ]
  },
  {
   "cell_type": "markdown",
   "id": "1d9ebd91",
   "metadata": {},
   "source": [
    "## 9. Análisis Univariado Variables Numéricas"
   ]
  },
  {
   "cell_type": "code",
   "execution_count": null,
   "id": "1ae62323",
   "metadata": {},
   "outputs": [],
   "source": [
    "num_cols = df.select_dtypes(include=['float64','float32','int64','int32']).columns.tolist()\n",
    "univar_metrics=[]\n",
    "for c in num_cols:\n",
    "    s=df[c]\n",
    "    univar_metrics.append({'var':c,'mean':s.mean(),'median':s.median(),'std':s.std(),'skew':s.skew(),'kurt':s.kurt()})\n",
    "    sns.histplot(s, kde=True); plt.title(f'Distribución {c}'); plt.show()\n",
    "pd.DataFrame(univar_metrics)"
   ]
  },
  {
   "cell_type": "markdown",
   "id": "2271328d",
   "metadata": {},
   "source": [
    "## 10. Análisis Univariado Variables Categóricas"
   ]
  },
  {
   "cell_type": "code",
   "execution_count": null,
   "id": "7f7a4bf7",
   "metadata": {},
   "outputs": [],
   "source": [
    "cat_cols = df.select_dtypes(include=['object','category']).columns.tolist()\n",
    "freq_tables={}\n",
    "for c in cat_cols:\n",
    "    vc = df[c].value_counts(dropna=False)\n",
    "    freq = (vc/len(df)*100).rename('pct')\n",
    "    ft = pd.concat([vc, freq.cumsum().rename('pct_acum')], axis=1)\n",
    "    freq_tables[c]=ft\n",
    "    display(ft.head())"
   ]
  },
  {
   "cell_type": "markdown",
   "id": "d6cbbfe4",
   "metadata": {},
   "source": [
    "## 11. Métricas de Dispersión y Rangos (IQR, MAD, z-score)"
   ]
  },
  {
   "cell_type": "code",
   "execution_count": null,
   "id": "ec7fa9f1",
   "metadata": {},
   "outputs": [],
   "source": [
    "disp_rows=[]\n",
    "for c in num_cols:\n",
    "    s=df[c].dropna()\n",
    "    q1,q3 = s.quantile([0.25,0.75])\n",
    "    iqr = q3-q1\n",
    "    mad = stats.median_abs_deviation(s, scale='normal') if s.size>0 else np.nan\n",
    "    mean, std = s.mean(), s.std()\n",
    "    disp_rows.append({'var':c,'iqr':iqr,'mad':mad,'std':std})\n",
    "disp_df = pd.DataFrame(disp_rows); disp_df"
   ]
  },
  {
   "cell_type": "markdown",
   "id": "e5338779",
   "metadata": {},
   "source": [
    "## 12. Detección de Outliers (IQR, Z-Score, Robust Z)"
   ]
  },
  {
   "cell_type": "code",
   "execution_count": null,
   "id": "d65ee3c8",
   "metadata": {},
   "outputs": [],
   "source": [
    "def detect_outliers(series):\n",
    "    s=series.dropna()\n",
    "    if s.empty: return {'iqr_outliers':0,'z_outliers':0,'robust_outliers':0}\n",
    "    q1,q3 = s.quantile([0.25,0.75])\n",
    "    iqr=q3-q1\n",
    "    lower, upper = q1-1.5*iqr, q3+1.5*iqr\n",
    "    iqr_o = ((s<lower)|(s>upper)).sum()\n",
    "    z = (s - s.mean())/s.std(ddof=0)\n",
    "    z_o = (np.abs(z)>3).sum()\n",
    "    mad = stats.median_abs_deviation(s, scale='normal')\n",
    "    robust_z = (s - s.median())/(1.4826*mad) if mad>0 else np.zeros_like(s)\n",
    "    rz_o = (np.abs(robust_z)>3.5).sum()\n",
    "    return {'iqr_outliers':iqr_o,'z_outliers':z_o,'robust_outliers':rz_o}\n",
    "out_summary=[]\n",
    "for c in num_cols:\n",
    "    out = detect_outliers(df[c])\n",
    "    out['var']=c\n",
    "    out_summary.append(out)\n",
    "pd.DataFrame(out_summary)"
   ]
  },
  {
   "cell_type": "markdown",
   "id": "3f40c80e",
   "metadata": {},
   "source": [
    "## 13. Transformaciones de Escala y Distribución (Log, Box-Cox, Yeo-Johnson)"
   ]
  },
  {
   "cell_type": "code",
   "execution_count": null,
   "id": "cb9a3130",
   "metadata": {},
   "outputs": [],
   "source": [
    "trans_cols=['income']\n",
    "skew_report=[]\n",
    "for c in trans_cols:\n",
    "    orig = df[c].dropna()\n",
    "    skew_report.append({'var':c,'stage':'original','skew':orig.skew()})\n",
    "    log_tr = np.log1p(orig)\n",
    "    skew_report.append({'var':c,'stage':'log','skew':log_tr.skew()})\n",
    "    # Yeo-Johnson (funciona con ceros/negativos)\n",
    "    pt = PowerTransformer(method='yeo-johnson')\n",
    "    yj = pt.fit_transform(orig.values.reshape(-1,1)).ravel()\n",
    "    skew_report.append({'var':c,'stage':'yeo-johnson','skew':pd.Series(yj).skew()})\n",
    "pd.DataFrame(skew_report)"
   ]
  },
  {
   "cell_type": "markdown",
   "id": "29636ca9",
   "metadata": {},
   "source": [
    "## 14. Análisis Bivariado Numérico vs Numérico"
   ]
  },
  {
   "cell_type": "code",
   "execution_count": null,
   "id": "efcda645",
   "metadata": {},
   "outputs": [],
   "source": [
    "sns.pairplot(df.sample(250, random_state=42), vars=['age','income','score'], hue='segment'); plt.show()"
   ]
  },
  {
   "cell_type": "markdown",
   "id": "3768f04f",
   "metadata": {},
   "source": [
    "## 15. Análisis Categórico vs Numérico (Boxplots, Violin, ANOVA)"
   ]
  },
  {
   "cell_type": "code",
   "execution_count": null,
   "id": "32251ea1",
   "metadata": {},
   "outputs": [],
   "source": [
    "anova_rows=[]\n",
    "for cat in ['segment','city']:\n",
    "    for num in ['age','income','score']:\n",
    "        sns.boxplot(data=df, x=cat, y=num); plt.title(f'{num} por {cat}'); plt.xticks(rotation=45); plt.show()\n",
    "        # ANOVA rápida (ignore NaN)\n",
    "        groups=[g.dropna().values for _,g in df.groupby(cat)[num]]\n",
    "        if all(len(g)>1 for g in groups):\n",
    "            f,p = stats.f_oneway(*groups)\n",
    "            anova_rows.append({'cat':cat,'num':num,'p_value':p})\n",
    "pd.DataFrame(anova_rows).sort_values('p_value').head()"
   ]
  },
  {
   "cell_type": "markdown",
   "id": "a641f347",
   "metadata": {},
   "source": [
    "## 16. Matrices de Correlaciones (Pearson, Spearman, Kendall)"
   ]
  },
  {
   "cell_type": "code",
   "execution_count": null,
   "id": "82ee6788",
   "metadata": {},
   "outputs": [],
   "source": [
    "num_df = df[['age','income','score','target']].copy()\n",
    "corr_pearson = num_df.corr(method='pearson')\n",
    "corr_spearman = num_df.corr(method='spearman')\n",
    "corr_kendall = num_df.corr(method='kendall')\n",
    "corr_pearson"
   ]
  },
  {
   "cell_type": "markdown",
   "id": "1756287f",
   "metadata": {},
   "source": [
    "## 17. Mapa de Calor de Correlaciones Filtrado (|r| > 0.3)"
   ]
  },
  {
   "cell_type": "code",
   "execution_count": null,
   "id": "68153054",
   "metadata": {},
   "outputs": [],
   "source": [
    "mask = corr_pearson.abs() > 0.3\n",
    "sns.heatmap(corr_pearson.where(mask), annot=True, cmap='coolwarm', vmin=-1, vmax=1); plt.show()"
   ]
  },
  {
   "cell_type": "markdown",
   "id": "b83ac13f",
   "metadata": {},
   "source": [
    "## 18. Detección de Colinealidad (VIF)"
   ]
  },
  {
   "cell_type": "code",
   "execution_count": null,
   "id": "889279c4",
   "metadata": {},
   "outputs": [],
   "source": [
    "from statsmodels.stats.outliers_influence import variance_inflation_factor\n",
    "import statsmodels.api as sm\n",
    "vif_df = pd.DataFrame()\n",
    "X = num_df.drop(columns=['target']).dropna()\n",
    "X_const = sm.add_constant(X)\n",
    "vif_df['variable'] = X.columns\n",
    "vif_df['VIF'] = [variance_inflation_factor(X_const.values, i+1) for i in range(len(X.columns))]\n",
    "vif_df"
   ]
  },
  {
   "cell_type": "markdown",
   "id": "522fb85c",
   "metadata": {},
   "source": [
    "## 19. Interacciones Iniciales (Feature Crossing Simple)"
   ]
  },
  {
   "cell_type": "code",
   "execution_count": null,
   "id": "f1764848",
   "metadata": {},
   "outputs": [],
   "source": [
    "df_fx = df.copy()\n",
    "df_fx['income_score'] = df_fx['income']*df_fx['score']\n",
    "df_fx['score_per_age'] = df_fx['score']/(df_fx['age']+1)\n",
    "df_fx[['income_score','score_per_age']].head()"
   ]
  },
  {
   "cell_type": "markdown",
   "id": "60659d6e",
   "metadata": {},
   "source": [
    "## 20. Relación con Variable Objetivo"
   ]
  },
  {
   "cell_type": "code",
   "execution_count": null,
   "id": "3cb22e31",
   "metadata": {},
   "outputs": [],
   "source": [
    "sns.boxplot(data=df, x='target', y='income'); plt.title('Income vs target'); plt.show()\n",
    "sns.histplot(data=df, x='score', hue='target', element='step', stat='density', common_norm=False); plt.show()"
   ]
  },
  {
   "cell_type": "markdown",
   "id": "b8c0867d",
   "metadata": {},
   "source": [
    "## 21. Análisis Temporal (si existe fecha)"
   ]
  },
  {
   "cell_type": "code",
   "execution_count": null,
   "id": "5b666cda",
   "metadata": {},
   "outputs": [],
   "source": [
    "ts = df.set_index('date').resample('M')['income'].mean()\n",
    "ts.plot(marker='o'); plt.title('Income promedio mensual'); plt.show()"
   ]
  },
  {
   "cell_type": "markdown",
   "id": "52903dbd",
   "metadata": {},
   "source": [
    "## 22. Análisis de Texto (si existen campos textuales)"
   ]
  },
  {
   "cell_type": "code",
   "execution_count": null,
   "id": "041e827a",
   "metadata": {},
   "outputs": [],
   "source": [
    "text_len = df['comment'].str.len()\n",
    "tokens = df['comment'].str.split()\n",
    "vocab_size = len(set([w for toks in tokens for w in toks]))\n",
    "{'longitud_media': text_len.mean(), 'vocab_size': vocab_size}"
   ]
  },
  {
   "cell_type": "markdown",
   "id": "0b3320ad",
   "metadata": {},
   "source": [
    "## 23. Engineering Exploratorio de Variables Derivadas"
   ]
  },
  {
   "cell_type": "code",
   "execution_count": null,
   "id": "462bbfb8",
   "metadata": {},
   "outputs": [],
   "source": [
    "df_eng = df.copy()\n",
    "df_eng['is_income_outlier'] = (df_eng['income'] > df['income'].quantile(0.99)).astype(int)\n",
    "df_eng['rare_segment'] = df_eng['segment'].isin(['D','E']).astype(int)\n",
    "df_eng[['is_income_outlier','rare_segment']].mean()"
   ]
  },
  {
   "cell_type": "markdown",
   "id": "08781331",
   "metadata": {},
   "source": [
    "## 24. Chequeo de Fugas de Información (Leakage Heurístico)"
   ]
  },
  {
   "cell_type": "code",
   "execution_count": null,
   "id": "9972717f",
   "metadata": {},
   "outputs": [],
   "source": [
    "# Heurística: correlaciones casi perfectas con target o campos derivados posteriores a un evento\n",
    "leak_suspects = []\n",
    "for c in num_df.columns:\n",
    "    if c!='target':\n",
    "        corr = num_df[['target',c]].corr().iloc[0,1]\n",
    "        if abs(corr) > 0.95: leak_suspects.append({'variable':c,'corr_target':corr})\n",
    "leak_suspects"
   ]
  },
  {
   "cell_type": "markdown",
   "id": "1ff8e2e9",
   "metadata": {},
   "source": [
    "## 25. Baseline Rápido (Modelo Simple)"
   ]
  },
  {
   "cell_type": "code",
   "execution_count": null,
   "id": "04b33e09",
   "metadata": {},
   "outputs": [],
   "source": [
    "model_df = df[['age','income','score','segment','city','target']].copy()\n",
    "# imputación simple para baseline\n",
    "model_df[['age','income','score']] = model_df[['age','income','score']].fillna(model_df[['age','income','score']].median())\n",
    "model_df = pd.get_dummies(model_df, columns=['segment','city'], drop_first=True)\n",
    "X = model_df.drop(columns=['target'])\n",
    "y = model_df['target']\n",
    "X_train,X_test,y_train,y_test = train_test_split(X,y,test_size=0.25,random_state=42,stratify=y)\n",
    "clf = RandomForestClassifier(n_estimators=100, random_state=42)\n",
    "clf.fit(X_train,y_train)\n",
    "y_pred = clf.predict(X_test)\n",
    "print(classification_report(y_test,y_pred))\n",
    "feat_imp = pd.Series(clf.feature_importances_, index=X.columns).sort_values(ascending=False).head(15)\n",
    "feat_imp"
   ]
  },
  {
   "cell_type": "markdown",
   "id": "270bd43e",
   "metadata": {},
   "source": [
    "## 26. Reporte Resumen (Hallazgos + Sugerencias)\n",
    "Construimos una tabla conceptual de issues detectados (placeholder editable)."
   ]
  },
  {
   "cell_type": "code",
   "execution_count": null,
   "id": "7899c016",
   "metadata": {},
   "outputs": [],
   "source": [
    "issues=[]\n",
    "# Ejemplos basados en análisis previo\n",
    "if missing_pct.max()>0: issues.append({'variable':missing_pct.idxmax(),'issue':'Valores faltantes','recomendacion':'Evaluar imputación apropiada o eliminar si no aporta'})\n",
    "top_out = sorted(out_summary, key=lambda d: d['iqr_outliers'], reverse=True)[0]\n",
    "issues.append({'variable':top_out['var'],'issue':'Outliers detectados','recomendacion':'Aplicar winsorización o transformación robusta'})\n",
    "issues.append({'variable':'income','issue':'Skew alto','recomendacion':'Considerar log/yeo-johnson'})\n",
    "summary_df = pd.DataFrame(issues) if issues else pd.DataFrame(columns=['variable','issue','recomendacion'])\n",
    "summary_df"
   ]
  },
  {
   "cell_type": "markdown",
   "id": "71875c16",
   "metadata": {},
   "source": [
    "### Exportar reporte resumen a Markdown"
   ]
  },
  {
   "cell_type": "code",
   "execution_count": null,
   "id": "f4f92abc",
   "metadata": {},
   "outputs": [],
   "source": [
    "summary_md = summary_df.to_markdown(index=False) if not summary_df.empty else '# Sin issues'\n",
    "with open('reporte_hallazgos.md','w',encoding='utf-8') as f: f.write('# Hallazgos EDA\n",
    "\n",
    "' + summary_md)\n",
    "print('Archivo generado: reporte_hallazgos.md')"
   ]
  }
 ],
 "metadata": {
  "language_info": {
   "name": "python"
  }
 },
 "nbformat": 4,
 "nbformat_minor": 5
}
