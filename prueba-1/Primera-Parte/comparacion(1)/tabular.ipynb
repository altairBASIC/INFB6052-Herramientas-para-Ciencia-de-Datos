{
 "cells": [
  {
   "cell_type": "code",
   "execution_count": 1,
   "id": "8461388d",
   "metadata": {},
   "outputs": [],
   "source": [
    "import pandas as pd\n",
    "\n",
    "# Cargar y combinar ambos CSVs\n",
    "cols = [\"trans_date_trans_time\",\"merchant\",\"category\",\"amt\",\"gender\",\"city\",\"state\",\n",
    "        \"zip\",\"lat\",\"long\",\"city_pop\",\"job\",\"dob\",\"trans_num\",\"unix_time\",\"merch_lat\",\n",
    "        \"merch_long\",\"is_fraud\"]\n",
    "\n",
    "df_train = pd.read_csv(\"fraudTrain.csv\", low_memory=False)\n",
    "df_test = pd.read_csv(\"fraudTest.csv\", low_memory=False)\n",
    "df = pd.concat([df_train, df_test], ignore_index=True)\n"
   ]
  },
  {
   "cell_type": "code",
   "execution_count": null,
   "id": "c7ddd919",
   "metadata": {},
   "outputs": [],
   "source": [
    "\n"
   ]
  },
  {
   "cell_type": "code",
   "execution_count": null,
   "id": "c95ea6c4",
   "metadata": {},
   "outputs": [],
   "source": []
  }
 ],
 "metadata": {
  "kernelspec": {
   "display_name": ".venv (3.13.7)",
   "language": "python",
   "name": "python3"
  },
  "language_info": {
   "codemirror_mode": {
    "name": "ipython",
    "version": 3
   },
   "file_extension": ".py",
   "mimetype": "text/x-python",
   "name": "python",
   "nbconvert_exporter": "python",
   "pygments_lexer": "ipython3",
   "version": "3.13.7"
  }
 },
 "nbformat": 4,
 "nbformat_minor": 5
}
