{
 "cells": [
  {
   "cell_type": "markdown",
   "id": "ddf1223c",
   "metadata": {},
   "source": [
    "## Exploración y carga de datasets\n",
    "Exploracion de dataset tabular"
   ]
  },
  {
   "cell_type": "markdown",
   "id": "e280b898",
   "metadata": {},
   "source": [
    "## Carga de datasets tabulares de transacciones\n",
    "En la siguiente celda se cargan los archivos `fraudTrain.csv` y `fraudTest.csv`, se añade una columna `dataset` para identificar el origen y se concatenan. Se imprime el tiempo de carga y se muestra una vista previa (head)."
   ]
  },
  {
   "cell_type": "code",
   "execution_count": 2,
   "id": "8461388d",
   "metadata": {},
   "outputs": [
    {
     "name": "stdout",
     "output_type": "stream",
     "text": [
      "Tiempo necesario para cargar y combinar archivos CSV: 5.62 seconds\n",
      "\n",
      " Vista previa de los datos:\n"
     ]
    },
    {
     "data": {
      "text/html": [
       "<div>\n",
       "<style scoped>\n",
       "    .dataframe tbody tr th:only-of-type {\n",
       "        vertical-align: middle;\n",
       "    }\n",
       "\n",
       "    .dataframe tbody tr th {\n",
       "        vertical-align: top;\n",
       "    }\n",
       "\n",
       "    .dataframe thead th {\n",
       "        text-align: right;\n",
       "    }\n",
       "</style>\n",
       "<table border=\"1\" class=\"dataframe\">\n",
       "  <thead>\n",
       "    <tr style=\"text-align: right;\">\n",
       "      <th></th>\n",
       "      <th>Unnamed: 0</th>\n",
       "      <th>trans_date_trans_time</th>\n",
       "      <th>cc_num</th>\n",
       "      <th>merchant</th>\n",
       "      <th>category</th>\n",
       "      <th>amt</th>\n",
       "      <th>first</th>\n",
       "      <th>last</th>\n",
       "      <th>gender</th>\n",
       "      <th>street</th>\n",
       "      <th>...</th>\n",
       "      <th>long</th>\n",
       "      <th>city_pop</th>\n",
       "      <th>job</th>\n",
       "      <th>dob</th>\n",
       "      <th>trans_num</th>\n",
       "      <th>unix_time</th>\n",
       "      <th>merch_lat</th>\n",
       "      <th>merch_long</th>\n",
       "      <th>is_fraud</th>\n",
       "      <th>dataset</th>\n",
       "    </tr>\n",
       "  </thead>\n",
       "  <tbody>\n",
       "    <tr>\n",
       "      <th>0</th>\n",
       "      <td>0</td>\n",
       "      <td>2019-01-01 00:00:18</td>\n",
       "      <td>2703186189652095</td>\n",
       "      <td>fraud_Rippin, Kub and Mann</td>\n",
       "      <td>misc_net</td>\n",
       "      <td>4.97</td>\n",
       "      <td>Jennifer</td>\n",
       "      <td>Banks</td>\n",
       "      <td>F</td>\n",
       "      <td>561 Perry Cove</td>\n",
       "      <td>...</td>\n",
       "      <td>-81.1781</td>\n",
       "      <td>3495</td>\n",
       "      <td>Psychologist, counselling</td>\n",
       "      <td>1988-03-09</td>\n",
       "      <td>0b242abb623afc578575680df30655b9</td>\n",
       "      <td>1325376018</td>\n",
       "      <td>36.011293</td>\n",
       "      <td>-82.048315</td>\n",
       "      <td>0</td>\n",
       "      <td>train</td>\n",
       "    </tr>\n",
       "    <tr>\n",
       "      <th>1</th>\n",
       "      <td>1</td>\n",
       "      <td>2019-01-01 00:00:44</td>\n",
       "      <td>630423337322</td>\n",
       "      <td>fraud_Heller, Gutmann and Zieme</td>\n",
       "      <td>grocery_pos</td>\n",
       "      <td>107.23</td>\n",
       "      <td>Stephanie</td>\n",
       "      <td>Gill</td>\n",
       "      <td>F</td>\n",
       "      <td>43039 Riley Greens Suite 393</td>\n",
       "      <td>...</td>\n",
       "      <td>-118.2105</td>\n",
       "      <td>149</td>\n",
       "      <td>Special educational needs teacher</td>\n",
       "      <td>1978-06-21</td>\n",
       "      <td>1f76529f8574734946361c461b024d99</td>\n",
       "      <td>1325376044</td>\n",
       "      <td>49.159047</td>\n",
       "      <td>-118.186462</td>\n",
       "      <td>0</td>\n",
       "      <td>train</td>\n",
       "    </tr>\n",
       "    <tr>\n",
       "      <th>2</th>\n",
       "      <td>2</td>\n",
       "      <td>2019-01-01 00:00:51</td>\n",
       "      <td>38859492057661</td>\n",
       "      <td>fraud_Lind-Buckridge</td>\n",
       "      <td>entertainment</td>\n",
       "      <td>220.11</td>\n",
       "      <td>Edward</td>\n",
       "      <td>Sanchez</td>\n",
       "      <td>M</td>\n",
       "      <td>594 White Dale Suite 530</td>\n",
       "      <td>...</td>\n",
       "      <td>-112.2620</td>\n",
       "      <td>4154</td>\n",
       "      <td>Nature conservation officer</td>\n",
       "      <td>1962-01-19</td>\n",
       "      <td>a1a22d70485983eac12b5b88dad1cf95</td>\n",
       "      <td>1325376051</td>\n",
       "      <td>43.150704</td>\n",
       "      <td>-112.154481</td>\n",
       "      <td>0</td>\n",
       "      <td>train</td>\n",
       "    </tr>\n",
       "    <tr>\n",
       "      <th>3</th>\n",
       "      <td>3</td>\n",
       "      <td>2019-01-01 00:01:16</td>\n",
       "      <td>3534093764340240</td>\n",
       "      <td>fraud_Kutch, Hermiston and Farrell</td>\n",
       "      <td>gas_transport</td>\n",
       "      <td>45.00</td>\n",
       "      <td>Jeremy</td>\n",
       "      <td>White</td>\n",
       "      <td>M</td>\n",
       "      <td>9443 Cynthia Court Apt. 038</td>\n",
       "      <td>...</td>\n",
       "      <td>-112.1138</td>\n",
       "      <td>1939</td>\n",
       "      <td>Patent attorney</td>\n",
       "      <td>1967-01-12</td>\n",
       "      <td>6b849c168bdad6f867558c3793159a81</td>\n",
       "      <td>1325376076</td>\n",
       "      <td>47.034331</td>\n",
       "      <td>-112.561071</td>\n",
       "      <td>0</td>\n",
       "      <td>train</td>\n",
       "    </tr>\n",
       "    <tr>\n",
       "      <th>4</th>\n",
       "      <td>4</td>\n",
       "      <td>2019-01-01 00:03:06</td>\n",
       "      <td>375534208663984</td>\n",
       "      <td>fraud_Keeling-Crist</td>\n",
       "      <td>misc_pos</td>\n",
       "      <td>41.96</td>\n",
       "      <td>Tyler</td>\n",
       "      <td>Garcia</td>\n",
       "      <td>M</td>\n",
       "      <td>408 Bradley Rest</td>\n",
       "      <td>...</td>\n",
       "      <td>-79.4629</td>\n",
       "      <td>99</td>\n",
       "      <td>Dance movement psychotherapist</td>\n",
       "      <td>1986-03-28</td>\n",
       "      <td>a41d7549acf90789359a9aa5346dcb46</td>\n",
       "      <td>1325376186</td>\n",
       "      <td>38.674999</td>\n",
       "      <td>-78.632459</td>\n",
       "      <td>0</td>\n",
       "      <td>train</td>\n",
       "    </tr>\n",
       "  </tbody>\n",
       "</table>\n",
       "<p>5 rows × 24 columns</p>\n",
       "</div>"
      ],
      "text/plain": [
       "   Unnamed: 0 trans_date_trans_time            cc_num  \\\n",
       "0           0   2019-01-01 00:00:18  2703186189652095   \n",
       "1           1   2019-01-01 00:00:44      630423337322   \n",
       "2           2   2019-01-01 00:00:51    38859492057661   \n",
       "3           3   2019-01-01 00:01:16  3534093764340240   \n",
       "4           4   2019-01-01 00:03:06   375534208663984   \n",
       "\n",
       "                             merchant       category     amt      first  \\\n",
       "0          fraud_Rippin, Kub and Mann       misc_net    4.97   Jennifer   \n",
       "1     fraud_Heller, Gutmann and Zieme    grocery_pos  107.23  Stephanie   \n",
       "2                fraud_Lind-Buckridge  entertainment  220.11     Edward   \n",
       "3  fraud_Kutch, Hermiston and Farrell  gas_transport   45.00     Jeremy   \n",
       "4                 fraud_Keeling-Crist       misc_pos   41.96      Tyler   \n",
       "\n",
       "      last gender                        street  ...      long city_pop  \\\n",
       "0    Banks      F                561 Perry Cove  ...  -81.1781     3495   \n",
       "1     Gill      F  43039 Riley Greens Suite 393  ... -118.2105      149   \n",
       "2  Sanchez      M      594 White Dale Suite 530  ... -112.2620     4154   \n",
       "3    White      M   9443 Cynthia Court Apt. 038  ... -112.1138     1939   \n",
       "4   Garcia      M              408 Bradley Rest  ...  -79.4629       99   \n",
       "\n",
       "                                 job         dob  \\\n",
       "0          Psychologist, counselling  1988-03-09   \n",
       "1  Special educational needs teacher  1978-06-21   \n",
       "2        Nature conservation officer  1962-01-19   \n",
       "3                    Patent attorney  1967-01-12   \n",
       "4     Dance movement psychotherapist  1986-03-28   \n",
       "\n",
       "                          trans_num   unix_time  merch_lat  merch_long  \\\n",
       "0  0b242abb623afc578575680df30655b9  1325376018  36.011293  -82.048315   \n",
       "1  1f76529f8574734946361c461b024d99  1325376044  49.159047 -118.186462   \n",
       "2  a1a22d70485983eac12b5b88dad1cf95  1325376051  43.150704 -112.154481   \n",
       "3  6b849c168bdad6f867558c3793159a81  1325376076  47.034331 -112.561071   \n",
       "4  a41d7549acf90789359a9aa5346dcb46  1325376186  38.674999  -78.632459   \n",
       "\n",
       "  is_fraud  dataset  \n",
       "0        0    train  \n",
       "1        0    train  \n",
       "2        0    train  \n",
       "3        0    train  \n",
       "4        0    train  \n",
       "\n",
       "[5 rows x 24 columns]"
      ]
     },
     "metadata": {},
     "output_type": "display_data"
    }
   ],
   "source": [
    "import pandas as pd\n",
    "import numpy as np\n",
    "import time\n",
    "import matplotlib.pyplot as plt\n",
    "\n",
    "# Cargar y combinar ambos CSVs\n",
    "cols = [\"trans_date_trans_time\",\"merchant\",\"category\",\"amt\",\"gender\",\"city\",\"state\",\n",
    "        \"zip\",\"lat\",\"long\",\"city_pop\",\"job\",\"dob\",\"trans_num\",\"unix_time\",\"merch_lat\",\n",
    "        \"merch_long\",\"is_fraud\"]\n",
    "start = time.time()\n",
    "\n",
    "df_train = pd.read_csv(\"fraudTrain.csv\", low_memory=False)\n",
    "df_test = pd.read_csv(\"fraudTest.csv\", low_memory=False)\n",
    "#agregamos una columna para identificar el origen de los datos\n",
    "df_train[\"dataset\"] = \"train\"\n",
    "df_test[\"dataset\"] = \"test\"\n",
    "df = pd.concat([df_train, df_test], ignore_index=True)\n",
    "end = time.time()\n",
    "print(f\"Tiempo necesario para cargar y combinar archivos CSV: {end - start:.2f} seconds\")\n",
    "print(\"\\n Vista previa de los datos:\")\n",
    "display(df.head())"
   ]
  },
  {
   "cell_type": "markdown",
   "id": "eb1e93b4",
   "metadata": {},
   "source": [
    "## Exploración básica del dataset combinado\n",
    "Esta celda ejecuta `info()`, revisa nulos y duplicados. Observa el número de filas/columnas, tipos y columnas con valores faltantes para decidir la limpieza posterior."
   ]
  },
  {
   "cell_type": "code",
   "execution_count": 3,
   "id": "14bbe016",
   "metadata": {},
   "outputs": [
    {
     "name": "stdout",
     "output_type": "stream",
     "text": [
      "<class 'pandas.core.frame.DataFrame'>\n",
      "RangeIndex: 1852394 entries, 0 to 1852393\n",
      "Data columns (total 24 columns):\n",
      " #   Column                 Dtype  \n",
      "---  ------                 -----  \n",
      " 0   Unnamed: 0             int64  \n",
      " 1   trans_date_trans_time  object \n",
      " 2   cc_num                 int64  \n",
      " 3   merchant               object \n",
      " 4   category               object \n",
      " 5   amt                    float64\n",
      " 6   first                  object \n",
      " 7   last                   object \n",
      " 8   gender                 object \n",
      " 9   street                 object \n",
      " 10  city                   object \n",
      " 11  state                  object \n",
      " 12  zip                    int64  \n",
      " 13  lat                    float64\n",
      " 14  long                   float64\n",
      " 15  city_pop               int64  \n",
      " 16  job                    object \n",
      " 17  dob                    object \n",
      " 18  trans_num              object \n",
      " 19  unix_time              int64  \n",
      " 20  merch_lat              float64\n",
      " 21  merch_long             float64\n",
      " 22  is_fraud               int64  \n",
      " 23  dataset                object \n",
      "dtypes: float64(5), int64(6), object(13)\n",
      "memory usage: 339.2+ MB\n",
      "¿Hay nulos? False\n",
      "Unnamed: 0               0\n",
      "trans_date_trans_time    0\n",
      "cc_num                   0\n",
      "merchant                 0\n",
      "category                 0\n",
      "amt                      0\n",
      "first                    0\n",
      "last                     0\n",
      "gender                   0\n",
      "street                   0\n",
      "city                     0\n",
      "state                    0\n",
      "zip                      0\n",
      "lat                      0\n",
      "long                     0\n",
      "city_pop                 0\n",
      "job                      0\n",
      "dob                      0\n",
      "trans_num                0\n",
      "unix_time                0\n",
      "merch_lat                0\n",
      "merch_long               0\n",
      "is_fraud                 0\n",
      "dataset                  0\n",
      "dtype: int64\n",
      "Duplicados encontrados: 0\n"
     ]
    }
   ],
   "source": [
    "#Resumen de los datos combinados\n",
    "df.info()\n",
    "#Verifico nulos\n",
    "print(\"¿Hay nulos?\", df.isnull().values.any())\n",
    "print(df.isnull().sum())\n",
    "#verifico duplicados\n",
    "dupes = df.duplicated().sum()\n",
    "print(f\"Duplicados encontrados: {dupes}\")"
   ]
  },
  {
   "cell_type": "markdown",
   "id": "1d3d5444",
   "metadata": {},
   "source": [
    "## Estadísticas numéricas\n",
    "Se calculan estadísticas básicas (`count`, `mean`, `std`, `min`, `max`) de las columnas numéricas. Útil para detectar outliers y escalas disímiles."
   ]
  },
  {
   "cell_type": "code",
   "execution_count": 4,
   "id": "9eb88121",
   "metadata": {},
   "outputs": [
    {
     "name": "stdout",
     "output_type": "stream",
     "text": [
      "📈 Estadísticas básicas:\n",
      "\n",
      "                count          mean           std           min           max\n",
      "Unnamed: 0  1852394.0  5.371934e+05  3.669110e+05  0.000000e+00  1.296674e+06\n",
      "cc_num      1852394.0  4.173860e+17  1.309115e+18  6.041621e+10  4.992346e+18\n",
      "amt         1852394.0  7.006357e+01  1.592540e+02  1.000000e+00  2.894890e+04\n",
      "zip         1852394.0  4.881326e+04  2.688185e+04  1.257000e+03  9.992100e+04\n",
      "lat         1852394.0  3.853931e+01  5.071470e+00  2.002710e+01  6.669330e+01\n",
      "long        1852394.0 -9.022783e+01  1.374789e+01 -1.656723e+02 -6.795030e+01\n",
      "city_pop    1852394.0  8.864367e+04  3.014876e+05  2.300000e+01  2.906700e+06\n",
      "unix_time   1852394.0  1.358674e+09  1.819508e+07  1.325376e+09  1.388534e+09\n",
      "merch_lat   1852394.0  3.853898e+01  5.105604e+00  1.902742e+01  6.751027e+01\n",
      "merch_long  1852394.0 -9.022794e+01  1.375969e+01 -1.666716e+02 -6.695090e+01\n",
      "is_fraud    1852394.0  5.210015e-03  7.199217e-02  0.000000e+00  1.000000e+00\n"
     ]
    }
   ],
   "source": [
    "# Estadísticas numéricas básicas\n",
    "numeric_stats = df.describe().T[['count', 'mean', 'std', 'min', 'max']]\n",
    "print(\"📈 Estadísticas básicas:\\n\")\n",
    "print(numeric_stats)"
   ]
  },
  {
   "cell_type": "markdown",
   "id": "50d8d4c5",
   "metadata": {},
   "source": [
    "## Conteos de variables categóricas\n",
    "Aquí se listan variables detectadas como objeto y se muestran los top valores de columnas relevantes (`category`, `gender`, `state`, `job`). Sirve para revisar cardinalidad y categorías dominantes."
   ]
  },
  {
   "cell_type": "code",
   "execution_count": 5,
   "id": "b2780845",
   "metadata": {},
   "outputs": [
    {
     "name": "stdout",
     "output_type": "stream",
     "text": [
      "\n",
      " Variables categóricas detectadas:\n",
      "['trans_date_trans_time', 'merchant', 'category', 'first', 'last', 'gender', 'street', 'city', 'state', 'job', 'dob', 'trans_num', 'dataset']\n",
      "\n",
      "--- CATEGORY ---\n",
      "category\n",
      "gas_transport     188029\n",
      "grocery_pos       176191\n",
      "home              175460\n",
      "shopping_pos      166463\n",
      "kids_pets         161727\n",
      "shopping_net      139322\n",
      "entertainment     134118\n",
      "food_dining       130729\n",
      "personal_care     130085\n",
      "health_fitness    122553\n",
      "Name: count, dtype: int64\n",
      "\n",
      "--- GENDER ---\n",
      "gender\n",
      "F    1014749\n",
      "M     837645\n",
      "Name: count, dtype: int64\n",
      "\n",
      "--- STATE ---\n",
      "state\n",
      "TX    135269\n",
      "NY    119419\n",
      "PA    114173\n",
      "CA     80495\n",
      "OH     66627\n",
      "MI     65825\n",
      "IL     62212\n",
      "FL     60775\n",
      "AL     58521\n",
      "MO     54904\n",
      "Name: count, dtype: int64\n",
      "\n",
      "--- JOB ---\n",
      "job\n",
      "Film/video editor             13898\n",
      "Exhibition designer           13167\n",
      "Surveyor, land/geomatics      12436\n",
      "Naval architect               12434\n",
      "Materials engineer            11711\n",
      "Designer, ceramics/pottery    11688\n",
      "Environmental consultant      10974\n",
      "Financial adviser             10963\n",
      "Systems developer             10962\n",
      "IT trainer                    10943\n",
      "Name: count, dtype: int64\n"
     ]
    }
   ],
   "source": [
    "# Conteos para variables categóricas\n",
    "cat_cols = df.select_dtypes(include='object').columns\n",
    "print(\"\\n Variables categóricas detectadas:\")\n",
    "print(list(cat_cols))\n",
    "\n",
    "for c in ['category', 'gender', 'state', 'job']:\n",
    "    if c in df.columns:\n",
    "        print(f\"\\n--- {c.upper()} ---\")\n",
    "        print(df[c].value_counts().head(10))"
   ]
  },
  {
   "cell_type": "markdown",
   "id": "9613ee40",
   "metadata": {},
   "source": [
    "## Visualizaciones rápidas\n",
    "Se grafican las top categorías y la distribución por genero. Observa forma de la distribución (asimetría, colas) y categorías más frecuentes."
   ]
  },
  {
   "cell_type": "code",
   "execution_count": 6,
   "id": "31b1f3b5",
   "metadata": {},
   "outputs": [
    {
     "data": {
      "image/png": "[encoded data removed]",
      "text/plain": [
       "<Figure size 800x400 with 1 Axes>"
      ]
     },
     "metadata": {},
     "output_type": "display_data"
    },
    {
     "data": {
      "image/png": "[encoded data removed]",
      "text/plain": [
       "<Figure size 500x400 with 1 Axes>"
      ]
     },
     "metadata": {},
     "output_type": "display_data"
    }
   ],
   "source": [
    "# Visualizaciones rápidas\n",
    "if 'category' in df.columns:\n",
    "    plt.figure(figsize=(8,4))\n",
    "    df['category'].value_counts().head(10).plot(kind='bar', color='salmon')\n",
    "    plt.title(\"Top 10 categorías de transacción\")\n",
    "    plt.xlabel(\"Categoría\")\n",
    "    plt.ylabel(\"Cantidad de operaciones\")\n",
    "    plt.show()\n",
    "if 'gender' in df.columns:\n",
    "    plt.figure(figsize=(5,4))\n",
    "    df['gender'].value_counts().plot(kind='bar', color='lightgreen')\n",
    "    plt.title(\"Distribución por género\")\n",
    "    plt.xlabel(\"Género\")\n",
    "    plt.ylabel(\"Cantidad de registros\")\n",
    "    plt.show()"
   ]
  },
  {
   "cell_type": "markdown",
   "id": "76b6de8a",
   "metadata": {},
   "source": [
    "## Estadísticas agrupadas\n",
    "Se calculan promedios por `gender` y por `state` (top 10). Útil para detectar diferencias sistemáticas entre grupos."
   ]
  },
  {
   "cell_type": "code",
   "execution_count": 7,
   "id": "7e7e87ac",
   "metadata": {},
   "outputs": [
    {
     "name": "stdout",
     "output_type": "stream",
     "text": [
      "\n",
      "💰 Monto promedio por género:\n",
      "         mean     std    count\n",
      "gender                        \n",
      "F       69.96  156.15  1014749\n",
      "M       70.19  162.93   837645\n",
      "\n",
      "🏙️ Monto promedio por estado (Top 10):\n",
      "state\n",
      "DE    514.49\n",
      "VT     80.57\n",
      "CO     77.77\n",
      "NC     77.20\n",
      "NH     75.87\n",
      "WY     75.58\n",
      "AR     75.55\n",
      "AZ     75.27\n",
      "DC     75.22\n",
      "ID     75.03\n",
      "Name: amt, dtype: float64\n"
     ]
    }
   ],
   "source": [
    "# Promedio de monto por género\n",
    "if {'gender', 'amt'}.issubset(df.columns):\n",
    "    print(\"\\n💰 Monto promedio por género:\")\n",
    "    print(df.groupby('gender')['amt'].agg(['mean','std','count']).round(2))\n",
    "\n",
    "# Promedio de monto por estado (Top 10)\n",
    "if {'state', 'amt'}.issubset(df.columns):\n",
    "    print(\"\\n🏙️ Monto promedio por estado (Top 10):\")\n",
    "    print(df.groupby('state')['amt'].mean().sort_values(ascending=False).head(10).round(2))"
   ]
  },
  {
   "cell_type": "markdown",
   "id": "11ba369c",
   "metadata": {},
   "source": [
    "## Exploracion dataset no-tabular"
   ]
  },
  {
   "cell_type": "code",
   "execution_count": 8,
   "id": "c7ddd919",
   "metadata": {},
   "outputs": [
    {
     "name": "stdout",
     "output_type": "stream",
     "text": [
      "Tiempo necesario para cargar y combinar archivos CSV: 0.22 seconds\n",
      "\n",
      " Vista previa de los datos:\n"
     ]
    },
    {
     "data": {
      "text/html": [
       "<div>\n",
       "<style scoped>\n",
       "    .dataframe tbody tr th:only-of-type {\n",
       "        vertical-align: middle;\n",
       "    }\n",
       "\n",
       "    .dataframe tbody tr th {\n",
       "        vertical-align: top;\n",
       "    }\n",
       "\n",
       "    .dataframe thead th {\n",
       "        text-align: right;\n",
       "    }\n",
       "</style>\n",
       "<table border=\"1\" class=\"dataframe\">\n",
       "  <thead>\n",
       "    <tr style=\"text-align: right;\">\n",
       "      <th></th>\n",
       "      <th>video_1</th>\n",
       "      <th>video_2</th>\n",
       "      <th>label</th>\n",
       "      <th>dataset</th>\n",
       "    </tr>\n",
       "  </thead>\n",
       "  <tbody>\n",
       "    <tr>\n",
       "      <th>0</th>\n",
       "      <td>sNabaB-eb3Y</td>\n",
       "      <td>wHkPb68dxEw</td>\n",
       "      <td>left</td>\n",
       "      <td>train</td>\n",
       "    </tr>\n",
       "    <tr>\n",
       "      <th>1</th>\n",
       "      <td>sNabaB-eb3Y</td>\n",
       "      <td>y2emSXSE-N4</td>\n",
       "      <td>left</td>\n",
       "      <td>train</td>\n",
       "    </tr>\n",
       "    <tr>\n",
       "      <th>2</th>\n",
       "      <td>fY_FQMQpjok</td>\n",
       "      <td>sNabaB-eb3Y</td>\n",
       "      <td>left</td>\n",
       "      <td>train</td>\n",
       "    </tr>\n",
       "    <tr>\n",
       "      <th>3</th>\n",
       "      <td>Vr4D8xO2lBY</td>\n",
       "      <td>sNabaB-eb3Y</td>\n",
       "      <td>right</td>\n",
       "      <td>train</td>\n",
       "    </tr>\n",
       "    <tr>\n",
       "      <th>4</th>\n",
       "      <td>sNabaB-eb3Y</td>\n",
       "      <td>dDtRnstrefE</td>\n",
       "      <td>left</td>\n",
       "      <td>train</td>\n",
       "    </tr>\n",
       "  </tbody>\n",
       "</table>\n",
       "</div>"
      ],
      "text/plain": [
       "       video_1      video_2  label dataset\n",
       "0  sNabaB-eb3Y  wHkPb68dxEw   left   train\n",
       "1  sNabaB-eb3Y  y2emSXSE-N4   left   train\n",
       "2  fY_FQMQpjok  sNabaB-eb3Y   left   train\n",
       "3  Vr4D8xO2lBY  sNabaB-eb3Y  right   train\n",
       "4  sNabaB-eb3Y  dDtRnstrefE   left   train"
      ]
     },
     "metadata": {},
     "output_type": "display_data"
    }
   ],
   "source": [
    "start = time.time()\n",
    "# Rutas de los archivos asignados a \"train__path\" y \"test_path\"\n",
    "train_path=\"comedy_comparisons.train\"\n",
    "test_path=\"comedy_comparisons.test\"\n",
    "# Cargamos ambos datasets\n",
    "train_df = pd.read_csv(train_path, header=None, names=[\"video_1\", \"video_2\", \"label\"])\n",
    "test_df = pd.read_csv(test_path, header=None, names=[\"video_1\", \"video_2\", \"label\"])\n",
    "# Agregamos una columna para saber cual es su origen\n",
    "train_df[\"dataset\"] = \"train\"\n",
    "test_df[\"dataset\"] = \"test\"\n",
    "# Unir ambos (uno debajo del otro)\n",
    "combined_df = pd.concat([train_df, test_df], ignore_index=True)\n",
    "end = time.time()\n",
    "print(f\"Tiempo necesario para cargar y combinar archivos CSV: {end - start:.2f} seconds\")\n",
    "print(\"\\n Vista previa de los datos:\")\n",
    "display(combined_df.head())"
   ]
  },
  {
   "cell_type": "markdown",
   "id": "3d945ef0",
   "metadata": {},
   "source": [
    "## Resumen de la estructura y calidad del dataset comedy\n",
    "Se imprime `info()`, se revisan valores únicos de `label` y la presencia de nulos. Si `label` contiene sólo `left`/`right` (u otros valores esperados), se continúa con análisis; en caso contrario revisar el parseo."
   ]
  },
  {
   "cell_type": "code",
   "execution_count": 9,
   "id": "422a1934",
   "metadata": {},
   "outputs": [
    {
     "name": "stdout",
     "output_type": "stream",
     "text": [
      "<class 'pandas.core.frame.DataFrame'>\n",
      "RangeIndex: 1138562 entries, 0 to 1138561\n",
      "Data columns (total 4 columns):\n",
      " #   Column   Non-Null Count    Dtype \n",
      "---  ------   --------------    ----- \n",
      " 0   video_1  1138562 non-null  object\n",
      " 1   video_2  1138562 non-null  object\n",
      " 2   label    1138562 non-null  object\n",
      " 3   dataset  1138562 non-null  object\n",
      "dtypes: object(4)\n",
      "memory usage: 34.7+ MB\n",
      "¿Hay nulos en el dataset?: False\n",
      "video_1    0\n",
      "video_2    0\n",
      "label      0\n",
      "dataset    0\n",
      "dtype: int64\n",
      "Valores únicos en label: ['left' 'right']\n"
     ]
    }
   ],
   "source": [
    "#Resumen de los datos combinados\n",
    "combined_df.info()\n",
    "#reviso si label tiene algun valor distinto a left y right\n",
    "combined_df['label'].unique()\n",
    "#Verifico nulos\n",
    "print(\"¿Hay nulos en el dataset?:\", combined_df.isnull().values.any())\n",
    "print(combined_df.isnull().sum())\n",
    "if \"label\" in combined_df.columns:\n",
    "    print(\"Valores únicos en label:\", combined_df[\"label\"].unique())"
   ]
  },
  {
   "cell_type": "markdown",
   "id": "0c79b907",
   "metadata": {},
   "source": [
    "## Conteos y proporciones\n",
    "Se muestran conteos por etiqueta y por origen (`train`/`test`). Esto permite detectar desbalances y verificar que la concatenación fue correcta."
   ]
  },
  {
   "cell_type": "code",
   "execution_count": 10,
   "id": "50e973f5",
   "metadata": {},
   "outputs": [
    {
     "name": "stdout",
     "output_type": "stream",
     "text": [
      "label\n",
      "right    589052\n",
      "left     549510\n",
      "Name: count, dtype: int64\n",
      "dataset\n",
      "train    912969\n",
      "test     225593\n",
      "Name: count, dtype: int64\n"
     ]
    }
   ],
   "source": [
    "# Conteo por etiqueta y por dataset\n",
    "if \"label\" in combined_df.columns:\n",
    "    print(combined_df[\"label\"].value_counts(dropna=False).head(20))\n",
    "\n",
    "if \"dataset\" in combined_df.columns:\n",
    "    print(combined_df[\"dataset\"].value_counts(dropna=False))\n"
   ]
  },
  {
   "cell_type": "markdown",
   "id": "a4c8194c",
   "metadata": {},
   "source": [
    "## Estadísticas numéricas derivadas y features simples\n",
    "Aquí se detectan columnas numéricas (si existen) y se crean features sencillas como la longitud de las rutas/nombres de video para tener proxies numéricos de contenido."
   ]
  },
  {
   "cell_type": "code",
   "execution_count": 11,
   "id": "e561bfb3",
   "metadata": {},
   "outputs": [
    {
     "name": "stdout",
     "output_type": "stream",
     "text": [
      "Columnas numéricas: []\n"
     ]
    }
   ],
   "source": [
    "num_cols = combined_df.select_dtypes(include=np.number).columns.tolist()\n",
    "print(\"Columnas numéricas:\", num_cols)\n",
    "\n",
    "if num_cols:\n",
    "    # Promedios, desviaciones, etc.\n",
    "    basic_stats = combined_df[num_cols].agg([\"count\",\"mean\",\"std\",\"min\",\"max\"]).T\n",
    "    print(basic_stats)\n"
   ]
  },
  {
   "cell_type": "code",
   "execution_count": 12,
   "id": "38b2da4b",
   "metadata": {},
   "outputs": [
    {
     "name": "stdout",
     "output_type": "stream",
     "text": [
      "              count  mean  std   min   max\n",
      "len_v1    1138562.0  11.0  0.0  11.0  11.0\n",
      "len_v2    1138562.0  11.0  0.0  11.0  11.0\n",
      "pair_len  1138562.0  22.0  0.0  22.0  22.0\n",
      "Proporción de clases (%):\n",
      " label\n",
      "right    51.74\n",
      "left     48.26\n",
      "Name: proportion, dtype: float64\n"
     ]
    }
   ],
   "source": [
    "if {\"video_1\",\"video_2\"}.issubset(combined_df.columns):\n",
    "    # largo del nombre/ruta como proxy numérico\n",
    "    combined_df[\"len_v1\"] = combined_df[\"video_1\"].astype(str).str.len()\n",
    "    combined_df[\"len_v2\"] = combined_df[\"video_2\"].astype(str).str.len()\n",
    "    combined_df[\"pair_len\"] = combined_df[\"len_v1\"] + combined_df[\"len_v2\"]\n",
    "\n",
    "    print(\n",
    "        combined_df[[\"len_v1\",\"len_v2\",\"pair_len\"]]\n",
    "        .agg([\"count\",\"mean\",\"std\",\"min\",\"max\"]).T\n",
    "    )\n",
    "\n",
    "# proporciones de clase (útil en clasificación)\n",
    "if \"label\" in combined_df.columns:\n",
    "    prop = (combined_df[\"label\"].value_counts(normalize=True)*100).round(2)\n",
    "    print(\"Proporción de clases (%):\\n\", prop)"
   ]
  },
  {
   "cell_type": "markdown",
   "id": "b4f051a7",
   "metadata": {},
   "source": [
    "## Visualizaciones finales del dataset comedy\n",
    "Se grafican la distribución de `label` y el origen (`dataset`). Observa si hay sesgos entre train y test y el balance de clases."
   ]
  },
  {
   "cell_type": "code",
   "execution_count": 13,
   "id": "3c38d154",
   "metadata": {},
   "outputs": [
    {
     "data": {
      "image/png": "[encoded data removed]",
      "text/plain": [
       "<Figure size 640x480 with 1 Axes>"
      ]
     },
     "metadata": {},
     "output_type": "display_data"
    },
    {
     "data": {
      "image/png": "[encoded data removed]",
      "text/plain": [
       "<Figure size 640x480 with 1 Axes>"
      ]
     },
     "metadata": {},
     "output_type": "display_data"
    }
   ],
   "source": [
    "\n",
    "# 1) Barras: distribución de labels\n",
    "if \"label\" in combined_df.columns:\n",
    "    combined_df[\"label\"].value_counts().plot(kind=\"bar\")\n",
    "    plt.title(\"Distribución de labels\")\n",
    "    plt.xlabel(\"label\"); plt.ylabel(\"conteo\")\n",
    "    plt.show()\n",
    "\n",
    "# 2) Barras: distribución de datasets\n",
    "if \"dataset\" in combined_df.columns:\n",
    "    combined_df[\"dataset\"].value_counts().plot(kind=\"bar\")\n",
    "    plt.title(\"Distribución por dataset\")\n",
    "    plt.xlabel(\"dataset\"); plt.ylabel(\"conteo\")\n",
    "    plt.show()\n"
   ]
  },
  {
   "cell_type": "markdown",
   "id": "fc64cbab",
   "metadata": {},
   "source": [
    "# Diferencias entre datos tabulares y no tabulares\n",
    "\n",
    "### Complejidad de análisis\n",
    "- Los datos tabulares (estructurados) son aquellos que se organizan en filas y columnas, como hojas de cálculo o bases SQL. Cada columna representa una variable y cada fila un registro.\n",
    "Estos datos son fáciles de analizar con herramientas como Pandas o NumPy, ya que su estructura regular permite realizar operaciones estadísticas, filtrados o agregaciones directamente.\n",
    "- En cambio, los datos no tabulares (no estructurados) no siguen una forma fija. Pueden ser texto libre, archivos JSON jerárquicos, imágenes, audio, o incluso videos.\n",
    "Su análisis requiere preprocesamiento adicional para convertirlos a una forma numérica o estructurada antes de aplicar modelos o estadísticas.\n",
    "### Complejidad de preprocesamiento\n",
    "Tabular:\n",
    "- Eliminación de duplicados y valores nulos.\n",
    "- Conversión de tipos de datos (object → float).\n",
    "- Normalización o estandarización numérica.\n",
    "- Creación de variables derivadas (monto_log = log(amt)).\n",
    "- Codificación de variables categóricas (one-hot encoding, label encoding).\n",
    "No tabular (texto):\n",
    "- Eliminación de signos de puntuación y mayúsculas.\n",
    "- Eliminación de stopwords.\n",
    "- Lematización o stemming.\n",
    "- Tokenización.\n",
    "- Vectorización (TF-IDF, Word2Vec, embeddings).\n",
    "\n",
    "### Utilidad en Ciencia de Datos\n",
    "- Los datos tabulares son ideales para modelos estadísticos y de machine learning clásico (regresión, árboles, clustering).\n",
    "- Los datos no tabulares son más útiles en deep learning (aprendizaje profundo), donde se aplican redes neuronales convolucionales (CNN) para imágenes o modelos de lenguaje (Transformers, LSTM) para texto."
   ]
  },
  {
   "cell_type": "markdown",
   "id": "2c3941e7",
   "metadata": {},
   "source": [
    "# Ejemplos concretos de transformaciones\n",
    "\n",
    "### Transformaciones de datos tabulares"
   ]
  },
  {
   "cell_type": "markdown",
   "id": "e6c47ea8",
   "metadata": {},
   "source": [
    "Explicación del siguiente bloque de código (tabular → texto vectorizado):\n",
    "\n",
    "- Se crea un DataFrame de ejemplo con una columna `description` que simula mensajes/textos reales.\n",
    "- `clean_text`: limpieza básica → pasar a minúsculas y eliminar caracteres que no sean letras/números/espacios .\n",
    "- `CountVectorizer(stop_words='english')`: tokeniza y construye una matriz \"bag-of-words\" (conteo de tokens) ignorando palabras vacías en inglés.\n",
    "- `X` es la matriz dispersa resultante; la última línea construye un DataFrame denso para visualizar la matriz de conteos con columnas = vocabulario.\n",
    "\n",
    "Qué observar al ejecutar:\n",
    "- Columnas resultantes: tokens encontrados tras limpieza y tokenización.\n",
    "- Filas: una por texto de ejemplo; valores numéricos: conteos de cada token."
   ]
  },
  {
   "cell_type": "code",
   "execution_count": 17,
   "id": "86a122b0",
   "metadata": {},
   "outputs": [
    {
     "data": {
      "text/html": [
       "<div>\n",
       "<style scoped>\n",
       "    .dataframe tbody tr th:only-of-type {\n",
       "        vertical-align: middle;\n",
       "    }\n",
       "\n",
       "    .dataframe tbody tr th {\n",
       "        vertical-align: top;\n",
       "    }\n",
       "\n",
       "    .dataframe thead th {\n",
       "        text-align: right;\n",
       "    }\n",
       "</style>\n",
       "<table border=\"1\" class=\"dataframe\">\n",
       "  <thead>\n",
       "    <tr style=\"text-align: right;\">\n",
       "      <th></th>\n",
       "      <th>card</th>\n",
       "      <th>charge</th>\n",
       "      <th>customer</th>\n",
       "      <th>declined</th>\n",
       "      <th>error</th>\n",
       "      <th>possible</th>\n",
       "      <th>processed</th>\n",
       "      <th>refund</th>\n",
       "      <th>reports</th>\n",
       "      <th>successfully</th>\n",
       "      <th>transaction</th>\n",
       "      <th>unauthorized</th>\n",
       "    </tr>\n",
       "  </thead>\n",
       "  <tbody>\n",
       "    <tr>\n",
       "      <th>0</th>\n",
       "      <td>1</td>\n",
       "      <td>1</td>\n",
       "      <td>1</td>\n",
       "      <td>0</td>\n",
       "      <td>0</td>\n",
       "      <td>0</td>\n",
       "      <td>0</td>\n",
       "      <td>0</td>\n",
       "      <td>1</td>\n",
       "      <td>0</td>\n",
       "      <td>0</td>\n",
       "      <td>1</td>\n",
       "    </tr>\n",
       "    <tr>\n",
       "      <th>1</th>\n",
       "      <td>0</td>\n",
       "      <td>0</td>\n",
       "      <td>0</td>\n",
       "      <td>1</td>\n",
       "      <td>1</td>\n",
       "      <td>1</td>\n",
       "      <td>0</td>\n",
       "      <td>0</td>\n",
       "      <td>0</td>\n",
       "      <td>0</td>\n",
       "      <td>1</td>\n",
       "      <td>0</td>\n",
       "    </tr>\n",
       "    <tr>\n",
       "      <th>2</th>\n",
       "      <td>0</td>\n",
       "      <td>0</td>\n",
       "      <td>0</td>\n",
       "      <td>0</td>\n",
       "      <td>0</td>\n",
       "      <td>0</td>\n",
       "      <td>1</td>\n",
       "      <td>1</td>\n",
       "      <td>0</td>\n",
       "      <td>1</td>\n",
       "      <td>0</td>\n",
       "      <td>0</td>\n",
       "    </tr>\n",
       "  </tbody>\n",
       "</table>\n",
       "</div>"
      ],
      "text/plain": [
       "   card  charge  customer  declined  error  possible  processed  refund  \\\n",
       "0     1       1         1         0      0         0          0       0   \n",
       "1     0       0         0         1      1         1          0       0   \n",
       "2     0       0         0         0      0         0          1       1   \n",
       "\n",
       "   reports  successfully  transaction  unauthorized  \n",
       "0        1             0            0             1  \n",
       "1        0             0            1             0  \n",
       "2        0             1            0             0  "
      ]
     },
     "execution_count": 17,
     "metadata": {},
     "output_type": "execute_result"
    }
   ],
   "source": [
    "# Creamos ejemplos de texto que podrían venir en tu dataset real\n",
    "text_data = pd.DataFrame({\n",
    "    \"description\": [\n",
    "        \"Customer reports unauthorized charge on card\",\n",
    "        \"Transaction declined, possible system error\",\n",
    "        \"Refund processed successfully\"\n",
    "    ]\n",
    "})\n",
    "\n",
    "# Limpieza y vectorización básica\n",
    "text_data['clean_text'] = text_data['description'].str.lower().str.replace(r'[^\\w\\s]', '', regex=True)\n",
    "\n",
    "from sklearn.feature_extraction.text import CountVectorizer\n",
    "vectorizer = CountVectorizer(stop_words='english')\n",
    "X = vectorizer.fit_transform(text_data['clean_text'])\n",
    "\n",
    "# Mostrar matriz resultante\n",
    "pd.DataFrame(X.toarray(), columns=vectorizer.get_feature_names_out())\n"
   ]
  },
  {
   "cell_type": "markdown",
   "id": "5f95de59",
   "metadata": {},
   "source": [
    "### Transformaciones de datos no tabulares"
   ]
  },
  {
   "cell_type": "markdown",
   "id": "ef17277c",
   "metadata": {},
   "source": [
    "Explicación del siguiente bloque de código (texto no estructurado → vectorización):\n",
    "\n",
    "- Se reutiliza un pequeño conjunto de ejemplos textuales para mostrar el pipeline mínimo de preprocesamiento y vectorización.\n",
    "- Pasos clave idénticos al ejemplo anterior: limpieza (lower + remoción de puntuación), vectorización con CountVectorizer y creación de una representación matricial.\n",
    "- Propósito: ilustrar cómo convertir texto no estructurado en una forma numérica (matriz de conteos) que puede ser usada por modelos de ML clásicos.\n",
    "\n",
    "Qué observar al ejecutar:\n",
    "- Repite el proceso para otros textos reales; revisar tamaño del vocabulario y filas con tokens más frecuentes."
   ]
  },
  {
   "cell_type": "code",
   "execution_count": null,
   "id": "b841e61e",
   "metadata": {},
   "outputs": [
    {
     "data": {
      "text/html": [
       "<div>\n",
       "<style scoped>\n",
       "    .dataframe tbody tr th:only-of-type {\n",
       "        vertical-align: middle;\n",
       "    }\n",
       "\n",
       "    .dataframe tbody tr th {\n",
       "        vertical-align: top;\n",
       "    }\n",
       "\n",
       "    .dataframe thead th {\n",
       "        text-align: right;\n",
       "    }\n",
       "</style>\n",
       "<table border=\"1\" class=\"dataframe\">\n",
       "  <thead>\n",
       "    <tr style=\"text-align: right;\">\n",
       "      <th></th>\n",
       "      <th>card</th>\n",
       "      <th>charge</th>\n",
       "      <th>customer</th>\n",
       "      <th>declined</th>\n",
       "      <th>error</th>\n",
       "      <th>possible</th>\n",
       "      <th>processed</th>\n",
       "      <th>refund</th>\n",
       "      <th>reports</th>\n",
       "      <th>successfully</th>\n",
       "      <th>transaction</th>\n",
       "      <th>unauthorized</th>\n",
       "    </tr>\n",
       "  </thead>\n",
       "  <tbody>\n",
       "    <tr>\n",
       "      <th>0</th>\n",
       "      <td>1</td>\n",
       "      <td>1</td>\n",
       "      <td>1</td>\n",
       "      <td>0</td>\n",
       "      <td>0</td>\n",
       "      <td>0</td>\n",
       "      <td>0</td>\n",
       "      <td>0</td>\n",
       "      <td>1</td>\n",
       "      <td>0</td>\n",
       "      <td>0</td>\n",
       "      <td>1</td>\n",
       "    </tr>\n",
       "    <tr>\n",
       "      <th>1</th>\n",
       "      <td>0</td>\n",
       "      <td>0</td>\n",
       "      <td>0</td>\n",
       "      <td>1</td>\n",
       "      <td>1</td>\n",
       "      <td>1</td>\n",
       "      <td>0</td>\n",
       "      <td>0</td>\n",
       "      <td>0</td>\n",
       "      <td>0</td>\n",
       "      <td>1</td>\n",
       "      <td>0</td>\n",
       "    </tr>\n",
       "    <tr>\n",
       "      <th>2</th>\n",
       "      <td>0</td>\n",
       "      <td>0</td>\n",
       "      <td>0</td>\n",
       "      <td>0</td>\n",
       "      <td>0</td>\n",
       "      <td>0</td>\n",
       "      <td>1</td>\n",
       "      <td>1</td>\n",
       "      <td>0</td>\n",
       "      <td>1</td>\n",
       "      <td>0</td>\n",
       "      <td>0</td>\n",
       "    </tr>\n",
       "  </tbody>\n",
       "</table>\n",
       "</div>"
      ],
      "text/plain": [
       "   card  charge  customer  declined  error  possible  processed  refund  \\\n",
       "0     1       1         1         0      0         0          0       0   \n",
       "1     0       0         0         1      1         1          0       0   \n",
       "2     0       0         0         0      0         0          1       1   \n",
       "\n",
       "   reports  successfully  transaction  unauthorized  \n",
       "0        1             0            0             1  \n",
       "1        0             0            1             0  \n",
       "2        0             1            0             0  "
      ]
     },
     "execution_count": 15,
     "metadata": {},
     "output_type": "execute_result"
    }
   ],
   "source": [
    "text_data = pd.DataFrame({\n",
    "    \"description\": [\n",
    "        \"Customer reports unauthorized charge on card\",\n",
    "        \"Transaction declined, possible system error\",\n",
    "        \"Refund processed successfully\"\n",
    "    ]\n",
    "})\n",
    "\n",
    "# Limpieza y vectorización básica\n",
    "text_data['clean_text'] = text_data['description'].str.lower().str.replace(r'[^\\w\\s]', '', regex=True)\n",
    "\n",
    "from sklearn.feature_extraction.text import CountVectorizer\n",
    "vectorizer = CountVectorizer(stop_words='english')\n",
    "X = vectorizer.fit_transform(text_data['clean_text'])\n",
    "\n",
    "# Mostrar matriz resultante\n",
    "pd.DataFrame(X.toarray(), columns=vectorizer.get_feature_names_out())\n"
   ]
  },
  {
   "cell_type": "markdown",
   "id": "890ea6a6",
   "metadata": {},
   "source": [
    "# Conclusión final — Comparación entre datos estructurados y no estructurados\n",
    "\n",
    "El análisis realizado evidencia que los datasets tabulares y no tabulares representan dos enfoques complementarios dentro de la Ciencia de Datos, cada uno con ventajas y desafíos propios.\n",
    "Los datos tabulares, como los del conjunto de fraude (fraudTrain y fraudTest), ofrecen una estructura clara y uniforme que facilita el preprocesamiento, la aplicación de estadísticas descriptivas, visualizaciones simples y la implementación directa de modelos de machine learning clásico.\n",
    "Su manipulación con librerías como Pandas es rápida, intuitiva y eficiente, permitiendo obtener información clave a través de operaciones como agrupaciones, normalización o codificación de variables categóricas.\n",
    "\n",
    "Por otro lado, los datos no tabulares, como texto libre o estructuras JSON, requieren mayor complejidad en el análisis y preprocesamiento.\n",
    "Antes de poder aplicar cualquier modelo, deben transformarse en una representación numérica —por ejemplo, mediante vectorización (Bag of Words, TF-IDF) o aplanamiento de jerarquías JSON—.\n",
    "Aunque esto incrementa el trabajo previo, estos datos ofrecen una riqueza semántica y contextual mucho mayor, esencial para tareas de NLP, detección de anomalías o análisis de sentimiento.\n",
    "\n",
    "En conclusión, mientras los datos tabulares destacan por su simplicidad y precisión estructurada, los no tabulares amplían el alcance analítico hacia fuentes de información más complejas y expresivas.\n",
    "La integración de ambos tipos de datos constituye una práctica fundamental en proyectos modernos de Ciencia de Datos, permitiendo construir modelos más completos, robustos y cercanos a la realidad de los fenómenos que se estudian."
   ]
  }
 ],
 "metadata": {
  "kernelspec": {
   "display_name": ".venv (3.13.7)",
   "language": "python",
   "name": "python3"
  },
  "language_info": {
   "codemirror_mode": {
    "name": "ipython",
    "version": 3
   },
   "file_extension": ".py",
   "mimetype": "text/x-python",
   "name": "python",
   "nbconvert_exporter": "python",
   "pygments_lexer": "ipython3",
   "version": "3.13.7"
  }
 },
 "nbformat": 4,
 "nbformat_minor": 5
}
