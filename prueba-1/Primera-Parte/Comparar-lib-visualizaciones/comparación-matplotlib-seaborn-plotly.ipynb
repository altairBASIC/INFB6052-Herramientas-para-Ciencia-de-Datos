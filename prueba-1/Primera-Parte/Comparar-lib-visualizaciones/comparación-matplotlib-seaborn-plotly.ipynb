{
 "cells": [
  {
   "cell_type": "markdown",
   "id": "4d0e3ed1",
   "metadata": {},
   "source": [
    "# Comparación de Librerías de Visualización en Python\n",
    "\n",
    "**Análisis Comparativo: Matplotlib, Seaborn y Plotly**\n",
    "\n",
    "## Objetivo\n",
    "\n",
    "Este notebook presenta un análisis exhaustivo de tres librerías fundamentales para visualización de datos en Python:\n",
    "\n",
    "1. **Matplotlib** - La librería base para visualizaciones estáticas\n",
    "2. **Seaborn** - Librería estadística de alto nivel basada en Matplotlib\n",
    "3. **Plotly** - Librería para visualizaciones interactivas y dashboards\n",
    "\n",
    "Para cada librería se evaluarán:\n",
    "- Características principales\n",
    "- Ventajas y desventajas\n",
    "- Escenarios de uso recomendados\n",
    "- Ejemplos prácticos con el mismo conjunto de datos\n",
    "\n",
    "---"
   ]
  },
  {
   "cell_type": "markdown",
   "id": "34d3994d",
   "metadata": {},
   "source": [
    "## 1. Instalación y Configuración\n",
    "\n",
    "Antes de comenzar, asegurarse de tener instaladas las librerías necesarias:\n",
    "\n",
    "```bash\n",
    "pip install matplotlib seaborn plotly pandas numpy\n",
    "```"
   ]
  },
  {
   "cell_type": "code",
   "execution_count": 12,
   "id": "e2b4027e",
   "metadata": {},
   "outputs": [
    {
     "name": "stdout",
     "output_type": "stream",
     "text": [
      "Matplotlib versión: 3.9.0\n",
      "Seaborn versión: 0.13.2\n",
      "Plotly versión: 6.3.1\n",
      "Pandas versión: 2.2.2\n",
      "NumPy versión: 1.26.4\n"
     ]
    }
   ],
   "source": [
    "# Importación de librerías\n",
    "import numpy as np\n",
    "import pandas as pd\n",
    "import matplotlib.pyplot as plt\n",
    "import seaborn as sns\n",
    "import plotly.express as px\n",
    "import plotly.graph_objects as go\n",
    "from plotly.subplots import make_subplots\n",
    "import plotly\n",
    "\n",
    "# Configuración general\n",
    "import warnings\n",
    "warnings.filterwarnings('ignore')\n",
    "\n",
    "# Configuración de estilo para matplotlib\n",
    "plt.style.use('seaborn-v0_8-darkgrid')\n",
    "sns.set_palette(\"husl\")\n",
    "\n",
    "# Verificar versiones\n",
    "print(f\"Matplotlib versión: {plt.matplotlib.__version__}\")\n",
    "print(f\"Seaborn versión: {sns.__version__}\")\n",
    "print(f\"Plotly versión: {plotly.__version__}\")\n",
    "print(f\"Pandas versión: {pd.__version__}\")\n",
    "print(f\"NumPy versión: {np.__version__}\")"
   ]
  },
  {
   "cell_type": "code",
   "execution_count": 13,
   "id": "96a8dc75",
   "metadata": {},
   "outputs": [
    {
     "name": "stdout",
     "output_type": "stream",
     "text": [
      "Configuración de Plotly completada para VS Code\n",
      "Renderer activo: plotly_mimetype+notebook_connected\n"
     ]
    }
   ],
   "source": [
    "# Configuración de Plotly para Jupyter Notebooks en VS Code\n",
    "import plotly.io as pio\n",
    "\n",
    "# Configurar renderer apropiado para VS Code\n",
    "pio.renderers.default = \"plotly_mimetype+notebook_connected\"\n",
    "\n",
    "# Alternativa: si lo anterior no funciona, descomentar la siguiente línea\n",
    "# pio.renderers.default = \"notebook_connected\"\n",
    "\n",
    "print(\"Configuración de Plotly completada para VS Code\")\n",
    "print(f\"Renderer activo: {pio.renderers.default}\")"
   ]
  },
  {
   "cell_type": "markdown",
   "id": "ff84bbf0",
   "metadata": {},
   "source": [
    "## 2. Preparación de Datos\n",
    "\n",
    "Para realizar una comparación justa, utilizaremos el mismo conjunto de datos en todas las visualizaciones. Crearemos un dataset sintético que simula datos de ventas y rendimiento de productos."
   ]
  },
  {
   "cell_type": "code",
   "execution_count": 14,
   "id": "5c539e32",
   "metadata": {},
   "outputs": [
    {
     "name": "stdout",
     "output_type": "stream",
     "text": [
      "Dataset Principal:\n",
      "      Producto  Categoria       Ventas      Precio  Satisfaccion  Mes Region  \\\n",
      "0   Producto_1      Hogar  4909.194689   57.337003      4.397263  Oct  Norte   \n",
      "1   Producto_2   Deportes  5433.873452   99.285973      3.844599  Jun  Oeste   \n",
      "2   Producto_3  Alimentos  6024.847465  110.095372      3.835009  Dic  Norte   \n",
      "3   Producto_4   Deportes  6086.977382   59.763166      2.177640  Ago    Sur   \n",
      "4   Producto_5   Deportes  5056.198927   27.967363      4.637987  Ene  Norte   \n",
      "5   Producto_6       Ropa  2605.825873  113.465883      4.116163  Oct  Norte   \n",
      "6   Producto_7  Alimentos  6579.345610  190.683329      5.000000  Ago    Sur   \n",
      "7   Producto_8  Alimentos  5862.978927  120.229145      3.940394  Nov  Norte   \n",
      "8   Producto_9  Alimentos  2806.495403  104.503629      4.453072  Jul  Oeste   \n",
      "9  Producto_10   Deportes  3635.396872  104.136522      4.665455  Ene  Norte   \n",
      "\n",
      "       Ingresos  \n",
      "0  2.814785e+05  \n",
      "1  5.395074e+05  \n",
      "2  6.633078e+05  \n",
      "3  3.637770e+05  \n",
      "4  1.414086e+05  \n",
      "5  2.956723e+05  \n",
      "6  1.254572e+06  \n",
      "7  7.049009e+05  \n",
      "8  2.932890e+05  \n",
      "9  3.785776e+05  \n",
      "\n",
      "Dimensiones: (200, 8)\n",
      "\n",
      "Estadísticas descriptivas:\n",
      "             Ventas      Precio  Satisfaccion      Ingresos\n",
      "count    200.000000  200.000000    200.000000  2.000000e+02\n",
      "mean    5084.901116  101.105447      4.013125  5.239216e+05\n",
      "std     1991.683977   51.062818      0.793537  3.572450e+05\n",
      "min      500.000000   10.000000      1.145436  1.578941e+04\n",
      "25%     3726.241508   63.592248      3.512156  2.816793e+05\n",
      "50%     4972.701740  102.393404      4.123416  4.649769e+05\n",
      "75%     6218.965452  132.394595      4.646963  7.319017e+05\n",
      "max    11507.970252  228.666248      5.000000  2.293617e+06\n",
      "\n",
      "Distribución por categoría:\n",
      "Categoria\n",
      "Hogar          49\n",
      "Electrónica    43\n",
      "Alimentos      37\n",
      "Deportes       36\n",
      "Ropa           35\n",
      "Name: count, dtype: int64\n"
     ]
    }
   ],
   "source": [
    "# Generar datos sintéticos reproducibles\n",
    "np.random.seed(42)\n",
    "\n",
    "# Crear dataset de ventas de productos\n",
    "n_samples = 200\n",
    "categorias = ['Electrónica', 'Ropa', 'Alimentos', 'Hogar', 'Deportes']\n",
    "meses = ['Ene', 'Feb', 'Mar', 'Abr', 'May', 'Jun', 'Jul', 'Ago', 'Sep', 'Oct', 'Nov', 'Dic']\n",
    "\n",
    "data = {\n",
    "    'Producto': [f'Producto_{i}' for i in range(1, n_samples + 1)],\n",
    "    'Categoria': np.random.choice(categorias, n_samples),\n",
    "    'Ventas': np.random.normal(5000, 2000, n_samples).clip(500, 15000),\n",
    "    'Precio': np.random.normal(100, 50, n_samples).clip(10, 500),\n",
    "    'Satisfaccion': np.random.normal(4.0, 0.8, n_samples).clip(1, 5),\n",
    "    'Mes': np.random.choice(meses, n_samples),\n",
    "    'Region': np.random.choice(['Norte', 'Sur', 'Este', 'Oeste'], n_samples)\n",
    "}\n",
    "\n",
    "df = pd.DataFrame(data)\n",
    "df['Ingresos'] = df['Ventas'] * df['Precio']\n",
    "\n",
    "# Crear dataset agregado por mes\n",
    "ventas_mensuales = pd.DataFrame({\n",
    "    'Mes': meses,\n",
    "    'Ventas_Total': [np.random.normal(50000, 10000) for _ in meses],\n",
    "    'Clientes': [np.random.randint(800, 1500) for _ in meses]\n",
    "})\n",
    "\n",
    "# Mostrar información del dataset\n",
    "print(\"Dataset Principal:\")\n",
    "print(df.head(10))\n",
    "print(f\"\\nDimensiones: {df.shape}\")\n",
    "print(f\"\\nEstadísticas descriptivas:\")\n",
    "print(df.describe())\n",
    "print(f\"\\nDistribución por categoría:\")\n",
    "print(df['Categoria'].value_counts())"
   ]
  },
  {
   "cell_type": "markdown",
   "id": "56f50f82",
   "metadata": {},
   "source": [
    "---\n",
    "\n",
    "## 3. Matplotlib: La Base de la Visualización en Python\n",
    "\n",
    "### Descripción General\n",
    "\n",
    "**Matplotlib** es la librería de visualización más fundamental en Python. Creada por John D. Hunter en 2003, ofrece control total sobre cada aspecto de una gráfica. Es la base sobre la cual se construyen otras librerías como Seaborn.\n",
    "\n",
    "**Enlaces oficiales:**\n",
    "- PyPI: https://pypi.org/project/matplotlib/\n",
    "- Documentación: https://matplotlib.org/\n",
    "\n",
    "### Ventajas\n",
    "\n",
    "1. **Control granular**: Permite personalizar cada elemento de la visualización\n",
    "2. **Ampliamente adoptada**: Estándar de facto en la comunidad científica\n",
    "3. **Publicaciones académicas**: Ideal para generar gráficas de calidad para papers\n",
    "4. **Flexibilidad**: Soporta múltiples backends y formatos de salida\n",
    "5. **Integración**: Compatible con NumPy, Pandas y ecosistema científico\n",
    "\n",
    "### Desventajas\n",
    "\n",
    "1. **Sintaxis verbosa**: Requiere más código para lograr resultados simples\n",
    "2. **Curva de aprendizaje**: API compleja con múltiples formas de hacer lo mismo\n",
    "3. **Estética predeterminada**: Estilo visual menos moderno sin configuración\n",
    "4. **No interactivo**: Principalmente para gráficas estáticas\n",
    "5. **Configuración manual**: Necesita ajustes explícitos para muchos detalles\n",
    "\n",
    "### Escenarios de Uso Recomendados\n",
    "\n",
    "- Publicaciones científicas y académicas\n",
    "- Reportes estáticos en PDF\n",
    "- Control preciso sobre elementos visuales\n",
    "- Integración con aplicaciones científicas\n",
    "- Cuando se requiere máxima personalización"
   ]
  },
  {
   "cell_type": "markdown",
   "id": "5d1c8596",
   "metadata": {},
   "source": [
    "### Ejemplo 1: Gráfico de Dispersión con Matplotlib"
   ]
  },
  {
   "cell_type": "code",
   "execution_count": 15,
   "id": "e2118f97",
   "metadata": {},
   "outputs": [
    {
     "data": {
      "image/png": "[encoded data removed]",
      "text/plain": [
       "<Figure size 1200x600 with 1 Axes>"
      ]
     },
     "metadata": {},
     "output_type": "display_data"
    },
    {
     "name": "stdout",
     "output_type": "stream",
     "text": [
      "Observaciones:\n",
      "- Control total sobre colores, tamaños y estilos\n",
      "- Requiere configuración manual de cada elemento\n",
      "- Resultado de alta calidad para publicaciones\n"
     ]
    }
   ],
   "source": [
    "# Gráfico de dispersión: Precio vs Ventas por Categoría\n",
    "fig, ax = plt.subplots(figsize=(12, 6))\n",
    "\n",
    "# Crear scatter plot por categoría\n",
    "colors = {'Electrónica': '#FF6B6B', 'Ropa': '#4ECDC4', \n",
    "          'Alimentos': '#45B7D1', 'Hogar': '#FFA07A', 'Deportes': '#98D8C8'}\n",
    "\n",
    "for categoria in categorias:\n",
    "    data_cat = df[df['Categoria'] == categoria]\n",
    "    ax.scatter(data_cat['Precio'], data_cat['Ventas'], \n",
    "              label=categoria, alpha=0.6, s=100, c=colors[categoria], edgecolors='black', linewidth=0.5)\n",
    "\n",
    "# Personalización\n",
    "ax.set_xlabel('Precio (USD)', fontsize=12, fontweight='bold')\n",
    "ax.set_ylabel('Ventas (unidades)', fontsize=12, fontweight='bold')\n",
    "ax.set_title('Relación entre Precio y Ventas por Categoría\\n(Matplotlib)', \n",
    "             fontsize=14, fontweight='bold', pad=20)\n",
    "ax.legend(title='Categoría', title_fontsize=11, fontsize=10, loc='upper right', frameon=True, shadow=True)\n",
    "ax.grid(True, alpha=0.3, linestyle='--')\n",
    "ax.set_axisbelow(True)\n",
    "\n",
    "plt.tight_layout()\n",
    "plt.show()\n",
    "\n",
    "print(\"Observaciones:\")\n",
    "print(\"- Control total sobre colores, tamaños y estilos\")\n",
    "print(\"- Requiere configuración manual de cada elemento\")\n",
    "print(\"- Resultado de alta calidad para publicaciones\")"
   ]
  },
  {
   "cell_type": "markdown",
   "id": "6b890e32",
   "metadata": {},
   "source": [
    "### Ejemplo 2: Gráfico de Barras y Líneas Combinado"
   ]
  },
  {
   "cell_type": "code",
   "execution_count": 16,
   "id": "12544225",
   "metadata": {},
   "outputs": [
    {
     "data": {
      "image/png": "[encoded data removed]",
      "text/plain": [
       "<Figure size 1400x600 with 2 Axes>"
      ]
     },
     "metadata": {},
     "output_type": "display_data"
    },
    {
     "name": "stdout",
     "output_type": "stream",
     "text": [
      "Ventajas demostradas:\n",
      "- Control preciso sobre ejes duales\n",
      "- Personalización completa de colores y estilos\n",
      "- Ideal para reportes técnicos estáticos\n"
     ]
    }
   ],
   "source": [
    "# Gráfico dual: Ventas totales (barras) y número de clientes (línea)\n",
    "fig, ax1 = plt.subplots(figsize=(14, 6))\n",
    "\n",
    "# Eje principal: Barras de ventas\n",
    "color_barras = '#3498db'\n",
    "ax1.bar(ventas_mensuales['Mes'], ventas_mensuales['Ventas_Total'], \n",
    "        color=color_barras, alpha=0.7, label='Ventas Totales', edgecolor='black', linewidth=1.2)\n",
    "ax1.set_xlabel('Mes', fontsize=12, fontweight='bold')\n",
    "ax1.set_ylabel('Ventas Totales (USD)', fontsize=12, fontweight='bold', color=color_barras)\n",
    "ax1.tick_params(axis='y', labelcolor=color_barras)\n",
    "ax1.grid(axis='y', alpha=0.3, linestyle='--')\n",
    "\n",
    "# Eje secundario: Línea de clientes\n",
    "ax2 = ax1.twinx()\n",
    "color_linea = '#e74c3c'\n",
    "ax2.plot(ventas_mensuales['Mes'], ventas_mensuales['Clientes'], \n",
    "         color=color_linea, marker='o', linewidth=2.5, markersize=8, \n",
    "         label='Número de Clientes', markerfacecolor='white', markeredgewidth=2)\n",
    "ax2.set_ylabel('Número de Clientes', fontsize=12, fontweight='bold', color=color_linea)\n",
    "ax2.tick_params(axis='y', labelcolor=color_linea)\n",
    "\n",
    "# Título y leyendas\n",
    "plt.title('Evolución Mensual: Ventas vs Clientes\\n(Matplotlib - Ejes Duales)', \n",
    "          fontsize=14, fontweight='bold', pad=20)\n",
    "\n",
    "# Combinar leyendas\n",
    "lines1, labels1 = ax1.get_legend_handles_labels()\n",
    "lines2, labels2 = ax2.get_legend_handles_labels()\n",
    "ax1.legend(lines1 + lines2, labels1 + labels2, loc='upper left', frameon=True, shadow=True)\n",
    "\n",
    "plt.tight_layout()\n",
    "plt.show()\n",
    "\n",
    "print(\"Ventajas demostradas:\")\n",
    "print(\"- Control preciso sobre ejes duales\")\n",
    "print(\"- Personalización completa de colores y estilos\")\n",
    "print(\"- Ideal para reportes técnicos estáticos\")"
   ]
  },
  {
   "cell_type": "markdown",
   "id": "303813d9",
   "metadata": {},
   "source": [
    "---\n",
    "\n",
    "## 4. Seaborn: Visualización Estadística de Alto Nivel\n",
    "\n",
    "### Descripción General\n",
    "\n",
    "**Seaborn** es una librería de visualización estadística construida sobre Matplotlib. Creada por Michael Waskom, simplifica la creación de gráficos estadísticos complejos con una sintaxis más concisa y estilos visuales modernos por defecto.\n",
    "\n",
    "**Enlaces oficiales:**\n",
    "- PyPI: https://pypi.org/project/seaborn/\n",
    "- Documentación: https://seaborn.pydata.org/\n",
    "\n",
    "### Ventajas\n",
    "\n",
    "1. **Sintaxis concisa**: Menos código para gráficos complejos\n",
    "2. **Integración con Pandas**: Trabaja directamente con DataFrames\n",
    "3. **Estética moderna**: Paletas de colores y estilos atractivos por defecto\n",
    "4. **Visualizaciones estadísticas**: Funciones especializadas (heatmaps, pairplots, violinplots)\n",
    "5. **Configuración inteligente**: Ajusta automáticamente muchos aspectos visuales\n",
    "\n",
    "### Desventajas\n",
    "\n",
    "1. **Menor control**: Menos personalización que Matplotlib puro\n",
    "2. **Dependencia de Matplotlib**: Requiere conocimientos de Matplotlib para personalizaciones avanzadas\n",
    "3. **Rendimiento**: Puede ser más lento con datasets muy grandes\n",
    "4. **No interactivo**: Limitado a visualizaciones estáticas\n",
    "5. **Curva de aprendizaje**: Requiere entender conceptos estadísticos subyacentes\n",
    "\n",
    "### Escenarios de Uso Recomendados\n",
    "\n",
    "- Análisis exploratorio de datos (EDA)\n",
    "- Visualización de distribuciones y relaciones estadísticas\n",
    "- Informes ejecutivos con estética moderna\n",
    "- Análisis de correlaciones y matrices\n",
    "- Cuando se trabaja intensivamente con Pandas DataFrames"
   ]
  },
  {
   "cell_type": "markdown",
   "id": "a1a3a7f2",
   "metadata": {},
   "source": [
    "### Ejemplo 1: Gráfico de Dispersión con Seaborn (mismo dataset)"
   ]
  },
  {
   "cell_type": "code",
   "execution_count": 17,
   "id": "7e37d3d9",
   "metadata": {},
   "outputs": [
    {
     "data": {
      "image/png": "[encoded data removed]",
      "text/plain": [
       "<Figure size 1200x600 with 1 Axes>"
      ]
     },
     "metadata": {},
     "output_type": "display_data"
    },
    {
     "name": "stdout",
     "output_type": "stream",
     "text": [
      "Comparación con Matplotlib:\n",
      "- Código más conciso (una sola línea para el scatter)\n",
      "- Integración directa con DataFrame\n",
      "- Tamaño de puntos variable por 'Satisfaccion' automáticamente\n",
      "- Paleta de colores moderna por defecto\n"
     ]
    }
   ],
   "source": [
    "# Mismo gráfico de dispersión pero con Seaborn\n",
    "plt.figure(figsize=(12, 6))\n",
    "\n",
    "sns.scatterplot(data=df, x='Precio', y='Ventas', hue='Categoria', \n",
    "                size='Satisfaccion', sizes=(50, 300), alpha=0.7, \n",
    "                palette='Set2', edgecolor='black', linewidth=0.5)\n",
    "\n",
    "plt.title('Relación entre Precio y Ventas por Categoría\\n(Seaborn - Sintaxis Simplificada)', \n",
    "          fontsize=14, fontweight='bold', pad=20)\n",
    "plt.xlabel('Precio (USD)', fontsize=12, fontweight='bold')\n",
    "plt.ylabel('Ventas (unidades)', fontsize=12, fontweight='bold')\n",
    "plt.legend(title='Categoría', bbox_to_anchor=(1.05, 1), loc='upper left', frameon=True)\n",
    "plt.grid(True, alpha=0.3, linestyle='--')\n",
    "plt.tight_layout()\n",
    "plt.show()\n",
    "\n",
    "print(\"Comparación con Matplotlib:\")\n",
    "print(\"- Código más conciso (una sola línea para el scatter)\")\n",
    "print(\"- Integración directa con DataFrame\")\n",
    "print(\"- Tamaño de puntos variable por 'Satisfaccion' automáticamente\")\n",
    "print(\"- Paleta de colores moderna por defecto\")"
   ]
  },
  {
   "cell_type": "markdown",
   "id": "29f70597",
   "metadata": {},
   "source": [
    "### Ejemplo 2: Análisis Estadístico Avanzado"
   ]
  },
  {
   "cell_type": "code",
   "execution_count": 18,
   "id": "856c3de3",
   "metadata": {},
   "outputs": [
    {
     "data": {
      "image/png": "[encoded data removed]",
      "text/plain": [
       "<Figure size 1600x1200 with 5 Axes>"
      ]
     },
     "metadata": {},
     "output_type": "display_data"
    },
    {
     "name": "stdout",
     "output_type": "stream",
     "text": [
      "Capacidades estadísticas de Seaborn:\n",
      "- Boxplot: muestra cuartiles, outliers y distribución\n",
      "- Violinplot: combina boxplot con densidad (KDE)\n",
      "- Heatmap: visualización de matrices con anotaciones automáticas\n",
      "- Barplot: calcula estadísticas (media, std) automáticamente\n",
      "\n",
      "Estas visualizaciones serían más complejas de crear en Matplotlib puro\n"
     ]
    }
   ],
   "source": [
    "# Visualización estadística compleja: Distribuciones por categoría\n",
    "fig, axes = plt.subplots(2, 2, figsize=(16, 12))\n",
    "\n",
    "# 1. Boxplot: Distribución de ventas por categoría\n",
    "sns.boxplot(data=df, x='Categoria', y='Ventas', palette='Set3', ax=axes[0, 0])\n",
    "axes[0, 0].set_title('Distribución de Ventas por Categoría\\n(Boxplot)', fontsize=12, fontweight='bold')\n",
    "axes[0, 0].set_xlabel('Categoría', fontsize=11, fontweight='bold')\n",
    "axes[0, 0].set_ylabel('Ventas (unidades)', fontsize=11, fontweight='bold')\n",
    "axes[0, 0].grid(axis='y', alpha=0.3, linestyle='--')\n",
    "\n",
    "# 2. Violinplot: Distribución de satisfacción por categoría\n",
    "sns.violinplot(data=df, x='Categoria', y='Satisfaccion', palette='muted', ax=axes[0, 1])\n",
    "axes[0, 1].set_title('Distribución de Satisfacción por Categoría\\n(Violinplot)', fontsize=12, fontweight='bold')\n",
    "axes[0, 1].set_xlabel('Categoría', fontsize=11, fontweight='bold')\n",
    "axes[0, 1].set_ylabel('Satisfacción (1-5)', fontsize=11, fontweight='bold')\n",
    "axes[0, 1].grid(axis='y', alpha=0.3, linestyle='--')\n",
    "\n",
    "# 3. Heatmap: Correlación entre variables numéricas\n",
    "correlation_matrix = df[['Ventas', 'Precio', 'Satisfaccion', 'Ingresos']].corr()\n",
    "sns.heatmap(correlation_matrix, annot=True, fmt='.2f', cmap='coolwarm', \n",
    "            center=0, square=True, linewidths=1, cbar_kws={\"shrink\": 0.8}, ax=axes[1, 0])\n",
    "axes[1, 0].set_title('Matriz de Correlación\\n(Heatmap)', fontsize=12, fontweight='bold')\n",
    "\n",
    "# 4. Barplot: Promedio de ingresos por región\n",
    "sns.barplot(data=df, x='Region', y='Ingresos', estimator=np.mean, \n",
    "            palette='viridis', ci='sd', capsize=0.1, ax=axes[1, 1])\n",
    "axes[1, 1].set_title('Ingresos Promedio por Región\\n(con Desviación Estándar)', fontsize=12, fontweight='bold')\n",
    "axes[1, 1].set_xlabel('Región', fontsize=11, fontweight='bold')\n",
    "axes[1, 1].set_ylabel('Ingresos Promedio (USD)', fontsize=11, fontweight='bold')\n",
    "axes[1, 1].grid(axis='y', alpha=0.3, linestyle='--')\n",
    "\n",
    "plt.suptitle('Panel de Análisis Estadístico con Seaborn', fontsize=16, fontweight='bold', y=1.00)\n",
    "plt.tight_layout()\n",
    "plt.show()\n",
    "\n",
    "print(\"Capacidades estadísticas de Seaborn:\")\n",
    "print(\"- Boxplot: muestra cuartiles, outliers y distribución\")\n",
    "print(\"- Violinplot: combina boxplot con densidad (KDE)\")\n",
    "print(\"- Heatmap: visualización de matrices con anotaciones automáticas\")\n",
    "print(\"- Barplot: calcula estadísticas (media, std) automáticamente\")\n",
    "print(\"\\nEstas visualizaciones serían más complejas de crear en Matplotlib puro\")"
   ]
  },
  {
   "cell_type": "markdown",
   "id": "22908892",
   "metadata": {},
   "source": [
    "---\n",
    "\n",
    "## 5. Plotly: Visualización Interactiva y Dashboards\n",
    "\n",
    "### Descripción General\n",
    "\n",
    "**Plotly** es una librería de visualización interactiva que genera gráficos basados en JavaScript (D3.js). Es ideal para dashboards web, presentaciones interactivas y aplicaciones donde el usuario necesita explorar los datos dinámicamente.\n",
    "\n",
    "**Enlaces oficiales:**\n",
    "- PyPI: https://pypi.org/project/plotly/\n",
    "- Documentación: https://plotly.com/python/\n",
    "\n",
    "### Ventajas\n",
    "\n",
    "1. **Interactividad nativa**: Zoom, pan, tooltips, filtros sin código adicional\n",
    "2. **Dashboards modernos**: Ideal para aplicaciones web con Dash\n",
    "3. **Exportación flexible**: HTML standalone, imágenes estáticas, JSON\n",
    "4. **Gráficos 3D**: Soporte robusto para visualizaciones tridimensionales\n",
    "5. **Actualización en vivo**: Streaming de datos en tiempo real\n",
    "6. **Aspecto profesional**: Estética moderna y empresarial por defecto\n",
    "\n",
    "### Desventajas\n",
    "\n",
    "1. **Tamaño de archivo**: HTML resultantes pueden ser pesados\n",
    "2. **Dependencia de JavaScript**: Requiere navegador para visualización completa\n",
    "3. **Curva de aprendizaje**: API diferente a Matplotlib/Seaborn\n",
    "4. **Rendimiento**: Puede ser lento con datasets muy grandes (>10k puntos sin optimización)\n",
    "5. **Personalización avanzada**: Algunos ajustes finos requieren conocer estructura JSON\n",
    "\n",
    "### Escenarios de Uso Recomendados\n",
    "\n",
    "- Dashboards interactivos y aplicaciones web\n",
    "- Presentaciones ejecutivas con exploración de datos\n",
    "- Visualizaciones 3D y mapas geográficos\n",
    "- Reportes compartidos en HTML\n",
    "- Análisis exploratorio con interacción directa\n",
    "- Publicaciones online y blogs técnicos"
   ]
  },
  {
   "cell_type": "markdown",
   "id": "c351f707",
   "metadata": {},
   "source": [
    "### Ejemplo 1: Gráfico de Dispersión Interactivo (mismo dataset)"
   ]
  },
  {
   "cell_type": "code",
   "execution_count": 19,
   "id": "4384bf24",
   "metadata": {},
   "outputs": [
    {
     "data": {
      "text/html": [
       "        <script type=\"text/javascript\">\n",
       "        window.PlotlyConfig = {MathJaxConfig: 'local'};\n",
       "        if (window.MathJax && window.MathJax.Hub && window.MathJax.Hub.Config) {window.MathJax.Hub.Config({SVG: {font: \"STIX-Web\"}});}\n",
       "        </script>\n",
       "        <script type=\"module\">import \"https://cdn.plot.ly/plotly-3.1.1.min\"</script>\n",
       "        "
      ]
     },
     "metadata": {},
     "output_type": "display_data"
    },
    {
     "data": {
      "text/html": [
       "<div>            <script src=\"https://cdnjs.cloudflare.com/ajax/libs/mathjax/2.7.5/MathJax.js?config=TeX-AMS-MML_SVG\"></script><script type=\"text/javascript\">if (window.MathJax && window.MathJax.Hub && window.MathJax.Hub.Config) {window.MathJax.Hub.Config({SVG: {font: \"STIX-Web\"}});}</script>                <script type=\"text/javascript\">window.PlotlyConfig = {MathJaxConfig: 'local'};</script>\n",
       "        <script charset=\"utf-8\" src=\"https://cdn.plot.ly/plotly-3.1.1.min.js\" integrity=\"sha256-HUEFyfiTnZJxCxur99FjbKYTvKSzwDaD3/x5TqHpFu4=\" crossorigin=\"anonymous\"></script>                <div id=\"c9b1290d-3c12-4c59-b201-6b7c792de5d0\" class=\"plotly-graph-div\" style=\"height:525px; width:100%;\"></div>            <script type=\"text/javascript\">                window.PLOTLYENV=window.PLOTLYENV || {};                                if (document.getElementById(\"c9b1290d-3c12-4c59-b201-6b7c792de5d0\")) {                    Plotly.newPlot(                        \"c9b1290d-3c12-4c59-b201-6b7c792de5d0\",                        [{\"customdata\":[[\"Producto_1\",\"Norte\",281478.51013498014],[\"Producto_11\",\"Sur\",589963.0147379821],[\"Producto_15\",\"Este\",98584.83253750527],[\"Producto_17\",\"Sur\",1147435.4542767417],[\"Producto_20\",\"Este\",829310.1743202736],[\"Producto_23\",\"Norte\",489757.553404057],[\"Producto_29\",\"Este\",242198.33698850585],[\"Producto_30\",\"Sur\",33067.712862704066],[\"Producto_32\",\"Norte\",150970.36013168492],[\"Producto_33\",\"Sur\",795044.267989604],[\"Producto_41\",\"Oeste\",305638.5517099951],[\"Producto_43\",\"Este\",23398.518689704302],[\"Producto_50\",\"Oeste\",1233009.63334996],[\"Producto_51\",\"Norte\",180536.94910233404],[\"Producto_52\",\"Norte\",464965.5817873484],[\"Producto_53\",\"Sur\",310526.21872576285],[\"Producto_57\",\"Sur\",63376.012666756564],[\"Producto_59\",\"Sur\",391378.53243378486],[\"Producto_62\",\"Sur\",1078034.2778276182],[\"Producto_66\",\"Oeste\",330619.29939200386],[\"Producto_69\",\"Sur\",420780.44635498873],[\"Producto_70\",\"Este\",22196.85817646495],[\"Producto_78\",\"Este\",488711.33588800236],[\"Producto_79\",\"Sur\",1222607.069709681],[\"Producto_80\",\"Norte\",336068.018302739],[\"Producto_89\",\"Sur\",429385.6172432623],[\"Producto_101\",\"Oeste\",370178.3497847018],[\"Producto_103\",\"Este\",41744.76773619787],[\"Producto_108\",\"Sur\",1487434.4353258004],[\"Producto_122\",\"Sur\",675994.4498382013],[\"Producto_126\",\"Norte\",742172.1758735423],[\"Producto_128\",\"Oeste\",784946.0909318222],[\"Producto_133\",\"Sur\",312728.78746149974],[\"Producto_137\",\"Sur\",1389037.979258431],[\"Producto_143\",\"Sur\",749822.3656462718],[\"Producto_144\",\"Norte\",574568.7969340659],[\"Producto_145\",\"Oeste\",1094100.581814728],[\"Producto_146\",\"Norte\",587164.5396923393],[\"Producto_147\",\"Este\",194599.35025802196],[\"Producto_150\",\"Oeste\",923156.1234100902],[\"Producto_157\",\"Este\",487833.49783010985],[\"Producto_167\",\"Norte\",1135253.142604121],[\"Producto_170\",\"Norte\",204335.01425009532],[\"Producto_174\",\"Sur\",281520.20454323315],[\"Producto_175\",\"Oeste\",595690.8681334769],[\"Producto_186\",\"Norte\",54579.57076377081],[\"Producto_193\",\"Norte\",756438.2813280142],[\"Producto_195\",\"Oeste\",45546.26933083371],[\"Producto_200\",\"Este\",163797.59880092312]],\"hovertemplate\":\"Categoria=Hogar\\u003cbr\\u003ePrecio (USD)=%{x}\\u003cbr\\u003eVentas (unidades)=%{y}\\u003cbr\\u003eSatisfaccion=%{marker.size}\\u003cbr\\u003eProducto=%{customdata[0]}\\u003cbr\\u003eRegion=%{customdata[1]}\\u003cbr\\u003eIngresos=%{customdata[2]}\\u003cextra\\u003e\\u003c\\u002fextra\\u003e\",\"legendgroup\":\"Hogar\",\"marker\":{\"color\":\"rgb(102,194,165)\",\"size\":{\"dtype\":\"f8\",\"bdata\":\"d4To\\u002fMuWEUD26UzCFtMEQPnOoMjDDBJAAAAAAAAAFEAX0ps5d3EQQGvfhxt60hJAHwz36VIBEkAgYI0y7YQJQFNzlDG6IQxAkxMRc66iDkAkpXK8kNoRQNqfEqzscBJAVhXwuSryEUAAAAAAAAAUQAQKhhvCoxJAAAAAAAAAFEBkwslegRwBQDjtBdMVFwRAt8k0ks8GAUAVAF4Cy1wKQD3MQrce6w9A9TcdtMJfE0AAAAAAAAAUQA8cGgdcZg1A3kF942zVEEAAAAAAAAAUQFZJEzCKZQpA9lOhMJ8kDEBE\\u002frGyMIINQAI8gLFvlRJAV28INrZDEEAS89RvYwARQDvKe4o6sgtAAAAAAAAAFEBmWHrkLG0KQMZHRnr2rgVAAAAAAAAAFEBTLmt39OMNQLXCK8zzIQ1AAAAAAAAAFEA7ZTY3U2QMQJBHg5466RNABjzNJJcBDEBcgO2yrPYDQFM6D3VSdRBASb1YZWN+EUDqAVGRbOQNQFs3nQjk9AxAgY2lwfyCEUA=\"},\"sizemode\":\"area\",\"sizeref\":0.0125,\"symbol\":\"circle\",\"line\":{\"color\":\"DarkSlateGrey\",\"width\":0.5}},\"mode\":\"markers\",\"name\":\"Hogar\",\"orientation\":\"v\",\"showlegend\":true,\"x\":{\"dtype\":\"f8\",\"bdata\":\"OAA16SKrTEDKeNkwEMVVQIjGomrU6jRA7vQGohshY0CFXjIcA7teQH78Bv5nymRAkep7gkPkT0AAAAAAAAAkQAwhxIe6ZjlAsnUJmkBwZkBGDtDDn9NMQAAAAAAAACRAMeDziw+3W0ApdKfu\\u002fRlTQLCbxWc4DFJAG4Gk\\u002fq+RS0DYYgWRZxxMQEm4iKq7UUlAasDBb6FuZkC1P8T4SLhOQNht1Qv47lBACHB62C34M0BnznL3q15bQPI9dslaP2VAsDdo9jpoU0DuIw213EddQFx4KZAnKl1AAAAAAAAAJEBehsT9z15sQB8Y8eYVwmhAgiBB0lPYW0CGyDUNel9lQDbmy77hsV1AErr+Cikja0DgdxdlYrtiQPYn+uL6DlZAeL8WAeXYXkD+s8u9NDBZQJyxraB9tz9A+Fy5HoAIY0A5bpdwFVFUQMJiV4aBf2FAdcfecs19TkCWuJK2H2NOQJi91qvY5V5AAAAAAAAAJEA03AcjGL9lQMC1ysef2DdAnGXOJK0ZMkA=\"},\"xaxis\":\"x\",\"y\":{\"dtype\":\"f8\",\"bdata\":\"9I4q1zEts0AUJFPyBXe6QOVJo1YTabJAllJRo+FJvUDcwcVJolq6QCiQPhMoAadA0PN0OGmqrUCAtgjmitWpQDlyHSJqN7dAn1NXegVNsUCqviVuUbW0QPNwKyi0R6JAvDD4Xxi5xUDGOccnuHWiQGKjlkTGKLlA8HX7JMj\\u002ftUC0nZ6F\\u002fZyRQJ2izuzdML5ANj9ksjF3t0CmDXqJMgW1QMJP4TtCRLhA1JDAyilekUAVVpaa9m+xQBS7LNqoGLxAwMNAji3psECmV+r7OaSsQGTv0I9ZyqhAlQDWDXpOsEDcCNZgpZm5QPCwpdz6qapA7fOZymoHukDo32RZxO6xQGFcdhO1kaRAy9asTC\\u002f+uECWgaWRoIuzQGJHQd3eb7lAqSfD6YpRwUAVC6vqv8O2QJmsf2eJ97dAUJE8zsyut0C4nOV\\u002f2nK3QPp1EmnYrb9Apz5dCmUtqkAWCyduNxiyQENNZL3X07JAVhv1AvVRtUA4HHfADfywQBbsPCcC2J1AzjJTk7iswUA=\"},\"yaxis\":\"y\",\"type\":\"scatter\"},{\"customdata\":[[\"Producto_2\",\"Oeste\",539507.4107794999],[\"Producto_4\",\"Sur\",363777.03820296744],[\"Producto_5\",\"Norte\",141408.5510847773],[\"Producto_10\",\"Norte\",378577.58559301804],[\"Producto_13\",\"Sur\",265986.7385120989],[\"Producto_18\",\"Sur\",574060.2152110112],[\"Producto_22\",\"Norte\",298591.7286693225],[\"Producto_36\",\"Sur\",1087598.781960735],[\"Producto_38\",\"Oeste\",731791.893917108],[\"Producto_48\",\"Este\",823789.3011935517],[\"Producto_54\",\"Norte\",902359.0620346133],[\"Producto_63\",\"Sur\",656843.1203705572],[\"Producto_72\",\"Este\",683481.9835275287],[\"Producto_73\",\"Norte\",428481.54434877844],[\"Producto_75\",\"Oeste\",525646.2248219794],[\"Producto_81\",\"Norte\",733809.2251146727],[\"Producto_83\",\"Este\",402763.90511138947],[\"Producto_84\",\"Oeste\",231286.7017762544],[\"Producto_97\",\"Oeste\",323710.1710403907],[\"Producto_106\",\"Este\",846448.1844171946],[\"Producto_113\",\"Sur\",929963.7409150411],[\"Producto_116\",\"Sur\",451158.0431951829],[\"Producto_123\",\"Este\",370198.71465210087],[\"Producto_127\",\"Este\",393678.31263068505],[\"Producto_129\",\"Sur\",681885.4361638583],[\"Producto_130\",\"Norte\",1227057.0957132534],[\"Producto_132\",\"Este\",1418176.4774026093],[\"Producto_134\",\"Este\",171491.4002035184],[\"Producto_140\",\"Este\",48218.457383111556],[\"Producto_142\",\"Este\",287111.55773499695],[\"Producto_158\",\"Este\",420626.43001242756],[\"Producto_163\",\"Norte\",202023.3517026295],[\"Producto_179\",\"Oeste\",958363.7384141],[\"Producto_187\",\"Oeste\",322921.5760046644],[\"Producto_192\",\"Norte\",422314.0316518201],[\"Producto_199\",\"Norte\",457376.9389219912]],\"hovertemplate\":\"Categoria=Deportes\\u003cbr\\u003ePrecio (USD)=%{x}\\u003cbr\\u003eVentas (unidades)=%{y}\\u003cbr\\u003eSatisfaccion=%{marker.size}\\u003cbr\\u003eProducto=%{customdata[0]}\\u003cbr\\u003eRegion=%{customdata[1]}\\u003cbr\\u003eIngresos=%{customdata[2]}\\u003cextra\\u003e\\u003c\\u002fextra\\u003e\",\"legendgroup\":\"Deportes\",\"marker\":{\"color\":\"rgb(252,141,98)\",\"size\":{\"dtype\":\"f8\",\"bdata\":\"UCACEL3BDkCbAFdYzmsBQB9lN49MjRJAHkpI6mypEkDXCpCTMD4NQDALzdze2RBAGhYPitgIEEBJFP4wZw8SQAV+fzQ2Ew9AlCRcLp+8B0D1mPAWTnMNQP7DEh+aWQFAAAAAAAAAFEBkSiIOsBoTQO73DTAUvw1AzsIiax2iAUAAAAAAAAAUQO9DXMtTBgpA050c\\u002filwEkByDBKxWtQMQAAAAAAAABRA4ZDrxyH3C0Bc7SNXj7ASQL2Ps+o1xw5AKlparU5bCEDT4LowEeMQQISm0GYa5hJAOpldDKvOC0CIeuyqaJ0TQG6l5FskLApA5BexcrRT8j8I6tugU7IKQMe6YGemChBAAAAAAAAAFEBObU5gncAMQLy4zkjApg1A\"},\"sizemode\":\"area\",\"sizeref\":0.0125,\"symbol\":\"circle\",\"line\":{\"color\":\"DarkSlateGrey\",\"width\":0.5}},\"mode\":\"markers\",\"name\":\"Deportes\",\"orientation\":\"v\",\"showlegend\":true,\"x\":{\"dtype\":\"f8\",\"bdata\":\"e\\u002fgUYE3SWEB6u0hqr+FNQDiYABul9ztACNbjxbwIWkDSmXawla5SQGZ7Cuvz91tA69I1nuepYUCeDvnvSLNfQIhWuuRYlWNAoHQ+oI+QXEAKT1PzUwlmQKy8sQ\\u002fNE09ATau5mXS\\u002fYECGpel0E3dXQOOnFLVwYGFAcgeMA\\u002fhBXUAlCwryzRNlQFxf86EVh1BARtSwm3CCT0CXZOtEhRRiQCe3My4X61tAY1vEqh8BXEBIgZljoLVVQOenGB8OkVZAUoZFzlvCXkDlzg7bxClgQIxZb952CWRAsGmn66drP0A7N0WhFa1NQCCeehBhMktAfriToHeITUA7KgfCQllDQNzc3zS7q1xAUi6hRvXkZEAKNI1QHstmQKRVd3oS3FhA\"},\"xaxis\":\"x\",\"y\":{\"dtype\":\"f8\",\"bdata\":\"I1GSmt85tUA2EL01+sa3QFsn3OwywLNAHOPTMstmrEDTw\\u002fXazs6rQEqzc15MC7RAwcBADBGCoEBanwgHmMDAQKPxF8f\\u002fPrJA3t1yP9spvEC6onYEkP6zQPqT0CPwo8RAm4aTdkLts0BhjB8HFtWxQFCNwKmBiq1ARpZFoDl+uEBMuWS0NamiQKUuad\\u002fzVKtAQkcv17MQtEAu7Go+Ddy2QAvZ6xDFQ8BAyPHXfyF3r0ApygebGaewQPybPTNKCbFALvmHnR+mtUAgRLt9zojCQDNvedmfR8FAbkl+3PBRtUA4yGzCS2OJQJA4O4FonrRAwaPN80bRu0BA4l5imWS0QPFJ5DVOUsBA+i0Mo3ovnkDURkmF+BeiQO4f6BeX97FA\"},\"yaxis\":\"y\",\"type\":\"scatter\"},{\"customdata\":[[\"Producto_3\",\"Norte\",663307.8234172387],[\"Producto_7\",\"Sur\",1254571.5221055457],[\"Producto_8\",\"Norte\",704900.9420579565],[\"Producto_9\",\"Oeste\",293288.9553488843],[\"Producto_12\",\"Oeste\",988625.06425497],[\"Producto_26\",\"Oeste\",431728.96690950415],[\"Producto_27\",\"Este\",343278.1080055233],[\"Producto_31\",\"Oeste\",472816.57478167285],[\"Producto_35\",\"Norte\",887990.4037248623],[\"Producto_37\",\"Norte\",871050.4088411491],[\"Producto_55\",\"Este\",807237.3487079322],[\"Producto_90\",\"Oeste\",316122.6818117356],[\"Producto_91\",\"Este\",732231.0038507318],[\"Producto_93\",\"Norte\",473516.50443993934],[\"Producto_94\",\"Sur\",779014.525923172],[\"Producto_96\",\"Este\",608378.6425335611],[\"Producto_107\",\"Norte\",281416.62743309955],[\"Producto_109\",\"Sur\",833014.8094798573],[\"Producto_110\",\"Este\",486036.85790877696],[\"Producto_112\",\"Norte\",741912.9075159895],[\"Producto_114\",\"Norte\",493480.7986973731],[\"Producto_118\",\"Oeste\",837260.4031698019],[\"Producto_124\",\"Este\",673549.994792125],[\"Producto_131\",\"Norte\",81653.84144702957],[\"Producto_135\",\"Sur\",536932.8400293794],[\"Producto_136\",\"Sur\",33694.581269561524],[\"Producto_148\",\"Norte\",663133.0039253683],[\"Producto_155\",\"Norte\",820846.2166886157],[\"Producto_160\",\"Norte\",281732.3492683867],[\"Producto_161\",\"Norte\",774996.5433723718],[\"Producto_165\",\"Oeste\",812487.938346948],[\"Producto_168\",\"Este\",314240.4877043763],[\"Producto_177\",\"Este\",211770.8151871598],[\"Producto_182\",\"Oeste\",214671.472150971],[\"Producto_190\",\"Oeste\",462036.559714919],[\"Producto_196\",\"Norte\",143209.97828959735],[\"Producto_197\",\"Oeste\",643767.7363110505]],\"hovertemplate\":\"Categoria=Alimentos\\u003cbr\\u003ePrecio (USD)=%{x}\\u003cbr\\u003eVentas (unidades)=%{y}\\u003cbr\\u003eSatisfaccion=%{marker.size}\\u003cbr\\u003eProducto=%{customdata[0]}\\u003cbr\\u003eRegion=%{customdata[1]}\\u003cbr\\u003eIngresos=%{customdata[2]}\\u003cextra\\u003e\\u003c\\u002fextra\\u003e\",\"legendgroup\":\"Alimentos\",\"marker\":{\"color\":\"rgb(141,160,203)\",\"size\":{\"dtype\":\"f8\",\"bdata\":\"sDBnHBmuDkAAAAAAAAAUQM8EXzrthQ9A5cU8IvLPEUAAAAAAAAAUQJtn4SDKTwJAAAAAAAAAFEAAAAAAAAAUQH6zjsHhcRFAyvLOJk0wEkDpUMa\\u002f9MwQQAAAAAAAABRAuyVALkRMEkBQkXDwUHYIQAXGQZx1pQtAhznqJqogDEC3fc\\u002f9HFcRQIk4b8eqGAhAmFgkv9D2CECZpQEW400HQMmMUY3ZlAtA8vTVrpvJEEBCoQhn78APQNk5+bUhZwtAGntO595sEUBrk\\u002fhypAsQQCBv7rHgZwJAAAAAAAAAFEDkOShZNsMQQOjbzmDZXQxAiDqU2yA0EEADfAiZlhUCQNMBIi4fwhJAOY26IZE8CkANgMfdvmQSQEV4pv0MQBNAzPt54zb8C0A=\"},\"sizemode\":\"area\",\"sizeref\":0.0125,\"symbol\":\"circle\",\"line\":{\"color\":\"DarkSlateGrey\",\"width\":0.5}},\"mode\":\"markers\",\"name\":\"Alimentos\",\"orientation\":\"v\",\"showlegend\":true,\"x\":{\"dtype\":\"f8\",\"bdata\":\"fwaKkxqGW0AjzVjU3dVnQHQixE6qDl5AheeXdjsgWkCxf7tbkuVjQNBO+A0Vm1RAU66o8DaESECksFIsjtJRQJv1K80XjGBAMeVZG0bAYUD30skxHJZdQP0V3oZycmhASI1CL4X+XEDjvVom1HlmQJOAD7KvQWBAIEVGeI35ZECWV6WLkvVRQJaBXabeOmVAxwdeaEkgVEAPjF5vrZBfQEVXKF0+hGFA3OOcpOxTaUBCMzvFY69fQETYqnWK1zdAz8OiGE0QX0AAAAAAAAAkQFbA5lYkTV9AQU4dgqdpYUA5S+vlcpRVQIB26QPOxmhAjiVvzgI6W0CTop1Q0dxZQNSz5GV7wURADmhegF65QUBN1eV+JTNRQETKCPh1mkVA0TyJ9zDTW0A=\"},\"xaxis\":\"x\",\"y\":{\"dtype\":\"f8\",\"bdata\":\"lgxz89iIt0B2Qd15WLO5QLjG7Zr65rZAkxhxpf3spUDoLO1c90K4QFHJ4\\u002fz0dbRA2aGUofhYu0CtibExTui5QPwX393+M7pAsm2lw8n1t0ACpoBBBqW6QJwpETZ0QZlAwFLKO5ipuECe8O0A8JKkQOneYsb9ZbdANm\\u002fWnkxTrECyzS+125quQNnAfWu2KLNAo0T2j2OVt0AjpuORC\\u002fS2QEai6eQNg6tAxAu85h0ksED2II1ZZ8K0QBiWz6SXwapA9NHHNzrhsEAuzJ2P6lKqQDU05QtdsLRAzdprJZQEt0DwyNDAqX+pQKnJXHvZi65A\\u002fnyLNmwkvUD1yVHbMrunQOHRLOh87bNAzFkXveunt0BShY60uju6QA\\u002fV3UIP5alAEy+SchWYtkA=\"},\"yaxis\":\"y\",\"type\":\"scatter\"},{\"customdata\":[[\"Producto_6\",\"Norte\",295672.33291204093],[\"Producto_14\",\"Sur\",143441.0970438502],[\"Producto_16\",\"Este\",648027.8947144515],[\"Producto_21\",\"Este\",591512.5721225532],[\"Producto_28\",\"Este\",751154.4975116134],[\"Producto_40\",\"Oeste\",32797.098045939885],[\"Producto_44\",\"Norte\",777734.2632825153],[\"Producto_45\",\"Sur\",76863.36424593558],[\"Producto_47\",\"Norte\",282136.4011131898],[\"Producto_49\",\"Este\",478937.0722774401],[\"Producto_58\",\"Oeste\",291716.4613233053],[\"Producto_60\",\"Sur\",554049.113354623],[\"Producto_61\",\"Oeste\",168210.24129779154],[\"Producto_64\",\"Norte\",277722.02531248855],[\"Producto_65\",\"Norte\",167816.26394069855],[\"Producto_67\",\"Norte\",467632.9560866763],[\"Producto_68\",\"Norte\",419576.2226985627],[\"Producto_74\",\"Norte\",536332.712509977],[\"Producto_76\",\"Oeste\",362775.09749226074],[\"Producto_98\",\"Oeste\",282387.1711996981],[\"Producto_99\",\"Este\",505447.3265080062],[\"Producto_104\",\"Sur\",536084.0458871045],[\"Producto_117\",\"Este\",1155593.0447906454],[\"Producto_120\",\"Norte\",297137.4644628651],[\"Producto_121\",\"Norte\",47285.65235363536],[\"Producto_138\",\"Norte\",278415.7282120238],[\"Producto_139\",\"Oeste\",729131.3386036853],[\"Producto_149\",\"Norte\",549676.4215384488],[\"Producto_166\",\"Sur\",246062.65513141814],[\"Producto_173\",\"Este\",727130.8584696208],[\"Producto_176\",\"Oeste\",528654.170967981],[\"Producto_184\",\"Sur\",430806.8019018091],[\"Producto_185\",\"Sur\",584783.1095889217],[\"Producto_191\",\"Norte\",449846.42790126934],[\"Producto_194\",\"Sur\",2293616.9591985787]],\"hovertemplate\":\"Categoria=Ropa\\u003cbr\\u003ePrecio (USD)=%{x}\\u003cbr\\u003eVentas (unidades)=%{y}\\u003cbr\\u003eSatisfaccion=%{marker.size}\\u003cbr\\u003eProducto=%{customdata[0]}\\u003cbr\\u003eRegion=%{customdata[1]}\\u003cbr\\u003eIngresos=%{customdata[2]}\\u003cextra\\u003e\\u003c\\u002fextra\\u003e\",\"legendgroup\":\"Ropa\",\"marker\":{\"color\":\"rgb(231,138,195)\",\"size\":{\"dtype\":\"f8\",\"bdata\":\"Ro2gf\\u002fN2EEANEUYiJpURQPmubMQOyQpAyIx8TRNyEkAAAAAAAAAUQGoBQo4Ayg5AwVdaUJ8KEkAPA3ppHisNQETKUdtDFxJAvHMzdwE\\u002fDkAAAAAAAAAUQEvZXXyxMBNAHln6EKcyEkAAAAAAAAAUQGREAK4Z4xNAUzirLiFbCkAKy+YN7aMRQGh4bBB1ThJAr3k5WCdHDUDXK08lNa4QQC4RYSLxxhJAAAAAAAAAFEBczh\\u002fxdyQKQB7Q\\u002f3G2ag5AF7GszriUD0DFPk\\u002f0jJIFQAyHLtX9WRBAlGY7CgPTBkAfekb2egsTQCGs106mmRJAJhuN6GohE0BU9Rz78WoLQAdeytlLNBJAEuRzM2E3E0CdXGY3XGEPQA==\"},\"sizemode\":\"area\",\"sizeref\":0.0125,\"symbol\":\"circle\",\"line\":{\"color\":\"DarkSlateGrey\",\"width\":0.5}},\"mode\":\"markers\",\"name\":\"Ropa\",\"orientation\":\"v\",\"showlegend\":true,\"x\":{\"dtype\":\"f8\",\"bdata\":\"SaC5BdFdXEByXo6pkhRAQL9XOS\\u002fU\\u002fFlAjjzxJuFTW0Awm74SIrNhQPhLlLh9AD1Ajn+UhVykY0AAAAAAAAAkQOLd02gs5lZAmkYSWdsZU0A+bMA+fBBWQADqVdZG3FJA2Fp\\u002f4J3FQ0BB+0rbfh9MQPDe5h8Y3EBArQXcTVfQUkB4MbFZqmFYQBgf76s6jmBACZZ6tHTjWkARvyyhaOJQQCK\\u002fpa93yUxAeIZP5o6lVUDxm88wXaVhQE9ipcXZU1NAAAAAAAAAJEBicYAYIXRGQB5QHFHekmZA5s0L2qO1UkAD8paRCHJZQHY2bGGzAF5AwEtJP7SRYEDFNxICaJVbQAA7nSSxoFRA503bav4EXkAYX9R40eloQA==\"},\"xaxis\":\"x\",\"y\":{\"dtype\":\"f8\",\"bdata\":\"PEXe2KZbpEDJCwXpIWyxQAL64+4BWrhAVlFd3kwjtUBID0J717i0QFJVVz1wq5FABlVXvGxVs0DnEuwfVga+QEkjj+VrEKhA9KgcCHt8uEAugybkkdKpQEK9eswOsLxAV\\u002fuS+cKdsEDnnP1boEmzQHQKHFfVcLNAR180kPNFuECh7iuYMs6wQB4xqXn4oq9AnvqOZepZqkAcY8KtLlWwQCEhMTOMJcFAJLO6jEkvuECat7yt9vm\\u002fQOVwqnDkBq5A7shDs5B4skCG4pITyze4QAr8NOkBi69AtaXeHt+wvECizctAGuOiQDgsYvveqrdA3y9T03oor0DgeUgnG4GuQPKUMO5Zr7tAktWlipFErUC0KDkx\\u002fHnGQA==\"},\"yaxis\":\"y\",\"type\":\"scatter\"},{\"customdata\":[[\"Producto_19\",\"Sur\",617392.3320086137],[\"Producto_24\",\"Sur\",338907.3203673614],[\"Producto_25\",\"Oeste\",15789.40842949938],[\"Producto_34\",\"Norte\",881212.6445877384],[\"Producto_39\",\"Norte\",344183.3425707335],[\"Producto_42\",\"Oeste\",485615.7156062216],[\"Producto_46\",\"Sur\",458857.54200907564],[\"Producto_56\",\"Norte\",545806.4072029984],[\"Producto_71\",\"Norte\",137685.93129103718],[\"Producto_77\",\"Oeste\",19206.730812254358],[\"Producto_82\",\"Norte\",282003.63310180494],[\"Producto_85\",\"Sur\",464988.3156117242],[\"Producto_86\",\"Este\",214004.66344384983],[\"Producto_87\",\"Oeste\",385197.4364399054],[\"Producto_88\",\"Este\",902793.1628737769],[\"Producto_92\",\"Sur\",233386.5388498843],[\"Producto_95\",\"Norte\",316519.7702172996],[\"Producto_100\",\"Oeste\",194049.67833638043],[\"Producto_102\",\"Norte\",356253.2281176522],[\"Producto_105\",\"Norte\",75358.56149677307],[\"Producto_111\",\"Sur\",664128.9516652678],[\"Producto_115\",\"Norte\",491499.2136341108],[\"Producto_119\",\"Sur\",397855.44307894056],[\"Producto_125\",\"Norte\",931373.966482374],[\"Producto_141\",\"Oeste\",532514.7958659369],[\"Producto_151\",\"Sur\",573187.7912298567],[\"Producto_152\",\"Norte\",828714.1288010412],[\"Producto_153\",\"Sur\",1004328.2650890283],[\"Producto_154\",\"Este\",976683.3768432603],[\"Producto_156\",\"Oeste\",622837.3661045865],[\"Producto_159\",\"Oeste\",251722.34923572768],[\"Producto_162\",\"Este\",222213.6474955968],[\"Producto_164\",\"Sur\",422619.52735414926],[\"Producto_169\",\"Oeste\",349349.4931168899],[\"Producto_171\",\"Norte\",1682908.565757076],[\"Producto_172\",\"Este\",554090.8509113297],[\"Producto_178\",\"Sur\",102088.429255589],[\"Producto_180\",\"Este\",94532.15126801195],[\"Producto_181\",\"Norte\",929013.1072955297],[\"Producto_183\",\"Sur\",93710.56461571464],[\"Producto_188\",\"Oeste\",198222.6003168519],[\"Producto_189\",\"Norte\",1666689.527794738],[\"Producto_198\",\"Sur\",674574.8341936542]],\"hovertemplate\":\"Categoria=Electr\\u00f3nica\\u003cbr\\u003ePrecio (USD)=%{x}\\u003cbr\\u003eVentas (unidades)=%{y}\\u003cbr\\u003eSatisfaccion=%{marker.size}\\u003cbr\\u003eProducto=%{customdata[0]}\\u003cbr\\u003eRegion=%{customdata[1]}\\u003cbr\\u003eIngresos=%{customdata[2]}\\u003cextra\\u003e\\u003c\\u002fextra\\u003e\",\"legendgroup\":\"Electr\\u00f3nica\",\"marker\":{\"color\":\"rgb(166,216,84)\",\"size\":{\"dtype\":\"f8\",\"bdata\":\"prUlFj+iDkCQOqFngTcFQPr04aWGNgtA1b6AlLCCEEAZT7rsTiMSQHqHB6VhlxFAbZrQfsZ3EUBYO4LwDpQSQPrr02jfiBFAtd1VtTKrD0Ayc+xcnykSQAAAAAAAABRAWGn2n0qVEEAgfSvXBBH\\u002fPx8Ts4pViA1AAAAAAAAAFEBGkbi4X0AFQJStEI2dAQpA16363p2nEECZhERyCfwLQMShDbKJuBFAybLD0s34EUDrlOr6nl0TQHowIg1nKQ1Av+paj31MDECaB4rdTfgQQKDpcPSYuxNAf+b2OPZTE0AKCntvlZgJQAAAAAAAABRAvcdXmtu3DUBXJfzlDpUOQMRmLc8A8xJAsTSXj5MRC0AAAAAAAAAUQGXZuLAQehBANPiHVrD+EUAzjCbgbzIQQIKr57DAKQVA0Ko\\u002fdTC9EEDmsY5kABETQEua\\u002fyssuhBAAAAAAAAAFEA=\"},\"sizemode\":\"area\",\"sizeref\":0.0125,\"symbol\":\"circle\",\"line\":{\"color\":\"DarkSlateGrey\",\"width\":0.5}},\"mode\":\"markers\",\"name\":\"Electr\\u00f3nica\",\"orientation\":\"v\",\"showlegend\":true,\"x\":{\"dtype\":\"f8\",\"bdata\":\"SyS5fWsIVUAC2J025yNKQAAAAAAAACRAITPOFkHlXkDsKQWa0EBSQJyKG4Izb1hA2oxSoIw+YEDfQXLUY55bQGA\\u002f2yZxRThAPrV9T+w0Q0BQBVsZ6dNYQO1Ln6emtWNAkL0RS\\u002fdPVECl7oeiu1JQQCi2MF+NX1pAnHdlY31qW0BMbbzFUfJQQO6WSiUImEpAMHn7i7bGVUAW97BHroZSQN5385xlr2NAvK813AatWUADitbr0iNcQNzRr5pzaWhAJbyCc1wAYEBtZimlPw1WQKAgdwFbClhAetcHrq4EZ0ASA1hunmJrQC50CtUmaVVAf9ZJ4TwvUUA\\u002fRdoB5IhWQGUI1C9UhVlAM27hx\\u002fZNYUAaHSLHKqFnQHD1TnHvJ1xA6FDkrqALMUC+VbjC7+NSQPBT4qq\\u002fP1xAuJdBOIb5NUAgMNSo\\u002fk5BQB6Yf+ZRlWxAwrDxjJi\\u002fYUA=\"},\"xaxis\":\"x\",\"y\":{\"dtype\":\"f8\",\"bdata\":\"Qo2zUGqqvED3QoQ0e1K5QKCSVWzDq5hA6AB6vpXau0BnvTSkBGqyQEVWZ\\u002fORaLNA3ybaNM+Vq0CEzeqdjEyzQJFZxCrMKLZAAAAAAABAf0B6xR9PMi+mQK3uJiIACqdAmE0gcNeTpEDq1cVOjAu3QHYIzaHstsBAuCObj2WgoEArhDN6YT2yQISUwPPHgKxATWGjB97zr0CQNfM5ZcePQMrSr0UyebBAKW7AbZyxskD21pQvO52rQO\\u002fnNp0NobJANGK3suc\\u002fsEBsg0obNmK5QHYlv\\u002fL01MBAClVU9vdNtUDFhl9SE2qxQP5M\\u002fRB8aLxAXC7exhmcrEA9zfOFeEKjQKk5oADzK7BAYK7BmxO3o0Ak47KzR2PBQJLO32jUN7NAM1oHJTNlt0DYo4m+P4yTQGbdy\\u002f\\u002fRDsBAllaNdHmosEDecgyjI162QCTS5Tm+eLxAplW\\u002fEvOOskA=\"},\"yaxis\":\"y\",\"type\":\"scatter\"}],                        {\"template\":{\"data\":{\"histogram2dcontour\":[{\"type\":\"histogram2dcontour\",\"colorbar\":{\"outlinewidth\":0,\"ticks\":\"\"},\"colorscale\":[[0.0,\"#0d0887\"],[0.1111111111111111,\"#46039f\"],[0.2222222222222222,\"#7201a8\"],[0.3333333333333333,\"#9c179e\"],[0.4444444444444444,\"#bd3786\"],[0.5555555555555556,\"#d8576b\"],[0.6666666666666666,\"#ed7953\"],[0.7777777777777778,\"#fb9f3a\"],[0.8888888888888888,\"#fdca26\"],[1.0,\"#f0f921\"]]}],\"choropleth\":[{\"type\":\"choropleth\",\"colorbar\":{\"outlinewidth\":0,\"ticks\":\"\"}}],\"histogram2d\":[{\"type\":\"histogram2d\",\"colorbar\":{\"outlinewidth\":0,\"ticks\":\"\"},\"colorscale\":[[0.0,\"#0d0887\"],[0.1111111111111111,\"#46039f\"],[0.2222222222222222,\"#7201a8\"],[0.3333333333333333,\"#9c179e\"],[0.4444444444444444,\"#bd3786\"],[0.5555555555555556,\"#d8576b\"],[0.6666666666666666,\"#ed7953\"],[0.7777777777777778,\"#fb9f3a\"],[0.8888888888888888,\"#fdca26\"],[1.0,\"#f0f921\"]]}],\"heatmap\":[{\"type\":\"heatmap\",\"colorbar\":{\"outlinewidth\":0,\"ticks\":\"\"},\"colorscale\":[[0.0,\"#0d0887\"],[0.1111111111111111,\"#46039f\"],[0.2222222222222222,\"#7201a8\"],[0.3333333333333333,\"#9c179e\"],[0.4444444444444444,\"#bd3786\"],[0.5555555555555556,\"#d8576b\"],[0.6666666666666666,\"#ed7953\"],[0.7777777777777778,\"#fb9f3a\"],[0.8888888888888888,\"#fdca26\"],[1.0,\"#f0f921\"]]}],\"contourcarpet\":[{\"type\":\"contourcarpet\",\"colorbar\":{\"outlinewidth\":0,\"ticks\":\"\"}}],\"contour\":[{\"type\":\"contour\",\"colorbar\":{\"outlinewidth\":0,\"ticks\":\"\"},\"colorscale\":[[0.0,\"#0d0887\"],[0.1111111111111111,\"#46039f\"],[0.2222222222222222,\"#7201a8\"],[0.3333333333333333,\"#9c179e\"],[0.4444444444444444,\"#bd3786\"],[0.5555555555555556,\"#d8576b\"],[0.6666666666666666,\"#ed7953\"],[0.7777777777777778,\"#fb9f3a\"],[0.8888888888888888,\"#fdca26\"],[1.0,\"#f0f921\"]]}],\"surface\":[{\"type\":\"surface\",\"colorbar\":{\"outlinewidth\":0,\"ticks\":\"\"},\"colorscale\":[[0.0,\"#0d0887\"],[0.1111111111111111,\"#46039f\"],[0.2222222222222222,\"#7201a8\"],[0.3333333333333333,\"#9c179e\"],[0.4444444444444444,\"#bd3786\"],[0.5555555555555556,\"#d8576b\"],[0.6666666666666666,\"#ed7953\"],[0.7777777777777778,\"#fb9f3a\"],[0.8888888888888888,\"#fdca26\"],[1.0,\"#f0f921\"]]}],\"mesh3d\":[{\"type\":\"mesh3d\",\"colorbar\":{\"outlinewidth\":0,\"ticks\":\"\"}}],\"scatter\":[{\"fillpattern\":{\"fillmode\":\"overlay\",\"size\":10,\"solidity\":0.2},\"type\":\"scatter\"}],\"parcoords\":[{\"type\":\"parcoords\",\"line\":{\"colorbar\":{\"outlinewidth\":0,\"ticks\":\"\"}}}],\"scatterpolargl\":[{\"type\":\"scatterpolargl\",\"marker\":{\"colorbar\":{\"outlinewidth\":0,\"ticks\":\"\"}}}],\"bar\":[{\"error_x\":{\"color\":\"#2a3f5f\"},\"error_y\":{\"color\":\"#2a3f5f\"},\"marker\":{\"line\":{\"color\":\"#E5ECF6\",\"width\":0.5},\"pattern\":{\"fillmode\":\"overlay\",\"size\":10,\"solidity\":0.2}},\"type\":\"bar\"}],\"scattergeo\":[{\"type\":\"scattergeo\",\"marker\":{\"colorbar\":{\"outlinewidth\":0,\"ticks\":\"\"}}}],\"scatterpolar\":[{\"type\":\"scatterpolar\",\"marker\":{\"colorbar\":{\"outlinewidth\":0,\"ticks\":\"\"}}}],\"histogram\":[{\"marker\":{\"pattern\":{\"fillmode\":\"overlay\",\"size\":10,\"solidity\":0.2}},\"type\":\"histogram\"}],\"scattergl\":[{\"type\":\"scattergl\",\"marker\":{\"colorbar\":{\"outlinewidth\":0,\"ticks\":\"\"}}}],\"scatter3d\":[{\"type\":\"scatter3d\",\"line\":{\"colorbar\":{\"outlinewidth\":0,\"ticks\":\"\"}},\"marker\":{\"colorbar\":{\"outlinewidth\":0,\"ticks\":\"\"}}}],\"scattermap\":[{\"type\":\"scattermap\",\"marker\":{\"colorbar\":{\"outlinewidth\":0,\"ticks\":\"\"}}}],\"scattermapbox\":[{\"type\":\"scattermapbox\",\"marker\":{\"colorbar\":{\"outlinewidth\":0,\"ticks\":\"\"}}}],\"scatterternary\":[{\"type\":\"scatterternary\",\"marker\":{\"colorbar\":{\"outlinewidth\":0,\"ticks\":\"\"}}}],\"scattercarpet\":[{\"type\":\"scattercarpet\",\"marker\":{\"colorbar\":{\"outlinewidth\":0,\"ticks\":\"\"}}}],\"carpet\":[{\"aaxis\":{\"endlinecolor\":\"#2a3f5f\",\"gridcolor\":\"white\",\"linecolor\":\"white\",\"minorgridcolor\":\"white\",\"startlinecolor\":\"#2a3f5f\"},\"baxis\":{\"endlinecolor\":\"#2a3f5f\",\"gridcolor\":\"white\",\"linecolor\":\"white\",\"minorgridcolor\":\"white\",\"startlinecolor\":\"#2a3f5f\"},\"type\":\"carpet\"}],\"table\":[{\"cells\":{\"fill\":{\"color\":\"#EBF0F8\"},\"line\":{\"color\":\"white\"}},\"header\":{\"fill\":{\"color\":\"#C8D4E3\"},\"line\":{\"color\":\"white\"}},\"type\":\"table\"}],\"barpolar\":[{\"marker\":{\"line\":{\"color\":\"#E5ECF6\",\"width\":0.5},\"pattern\":{\"fillmode\":\"overlay\",\"size\":10,\"solidity\":0.2}},\"type\":\"barpolar\"}],\"pie\":[{\"automargin\":true,\"type\":\"pie\"}]},\"layout\":{\"autotypenumbers\":\"strict\",\"colorway\":[\"#636efa\",\"#EF553B\",\"#00cc96\",\"#ab63fa\",\"#FFA15A\",\"#19d3f3\",\"#FF6692\",\"#B6E880\",\"#FF97FF\",\"#FECB52\"],\"font\":{\"color\":\"#2a3f5f\"},\"hovermode\":\"closest\",\"hoverlabel\":{\"align\":\"left\"},\"paper_bgcolor\":\"white\",\"plot_bgcolor\":\"#E5ECF6\",\"polar\":{\"bgcolor\":\"#E5ECF6\",\"angularaxis\":{\"gridcolor\":\"white\",\"linecolor\":\"white\",\"ticks\":\"\"},\"radialaxis\":{\"gridcolor\":\"white\",\"linecolor\":\"white\",\"ticks\":\"\"}},\"ternary\":{\"bgcolor\":\"#E5ECF6\",\"aaxis\":{\"gridcolor\":\"white\",\"linecolor\":\"white\",\"ticks\":\"\"},\"baxis\":{\"gridcolor\":\"white\",\"linecolor\":\"white\",\"ticks\":\"\"},\"caxis\":{\"gridcolor\":\"white\",\"linecolor\":\"white\",\"ticks\":\"\"}},\"coloraxis\":{\"colorbar\":{\"outlinewidth\":0,\"ticks\":\"\"}},\"colorscale\":{\"sequential\":[[0.0,\"#0d0887\"],[0.1111111111111111,\"#46039f\"],[0.2222222222222222,\"#7201a8\"],[0.3333333333333333,\"#9c179e\"],[0.4444444444444444,\"#bd3786\"],[0.5555555555555556,\"#d8576b\"],[0.6666666666666666,\"#ed7953\"],[0.7777777777777778,\"#fb9f3a\"],[0.8888888888888888,\"#fdca26\"],[1.0,\"#f0f921\"]],\"sequentialminus\":[[0.0,\"#0d0887\"],[0.1111111111111111,\"#46039f\"],[0.2222222222222222,\"#7201a8\"],[0.3333333333333333,\"#9c179e\"],[0.4444444444444444,\"#bd3786\"],[0.5555555555555556,\"#d8576b\"],[0.6666666666666666,\"#ed7953\"],[0.7777777777777778,\"#fb9f3a\"],[0.8888888888888888,\"#fdca26\"],[1.0,\"#f0f921\"]],\"diverging\":[[0,\"#8e0152\"],[0.1,\"#c51b7d\"],[0.2,\"#de77ae\"],[0.3,\"#f1b6da\"],[0.4,\"#fde0ef\"],[0.5,\"#f7f7f7\"],[0.6,\"#e6f5d0\"],[0.7,\"#b8e186\"],[0.8,\"#7fbc41\"],[0.9,\"#4d9221\"],[1,\"#276419\"]]},\"xaxis\":{\"gridcolor\":\"white\",\"linecolor\":\"white\",\"ticks\":\"\",\"title\":{\"standoff\":15},\"zerolinecolor\":\"white\",\"automargin\":true,\"zerolinewidth\":2},\"yaxis\":{\"gridcolor\":\"white\",\"linecolor\":\"white\",\"ticks\":\"\",\"title\":{\"standoff\":15},\"zerolinecolor\":\"white\",\"automargin\":true,\"zerolinewidth\":2},\"scene\":{\"xaxis\":{\"backgroundcolor\":\"#E5ECF6\",\"gridcolor\":\"white\",\"linecolor\":\"white\",\"showbackground\":true,\"ticks\":\"\",\"zerolinecolor\":\"white\",\"gridwidth\":2},\"yaxis\":{\"backgroundcolor\":\"#E5ECF6\",\"gridcolor\":\"white\",\"linecolor\":\"white\",\"showbackground\":true,\"ticks\":\"\",\"zerolinecolor\":\"white\",\"gridwidth\":2},\"zaxis\":{\"backgroundcolor\":\"#E5ECF6\",\"gridcolor\":\"white\",\"linecolor\":\"white\",\"showbackground\":true,\"ticks\":\"\",\"zerolinecolor\":\"white\",\"gridwidth\":2}},\"shapedefaults\":{\"line\":{\"color\":\"#2a3f5f\"}},\"annotationdefaults\":{\"arrowcolor\":\"#2a3f5f\",\"arrowhead\":0,\"arrowwidth\":1},\"geo\":{\"bgcolor\":\"white\",\"landcolor\":\"#E5ECF6\",\"subunitcolor\":\"white\",\"showland\":true,\"showlakes\":true,\"lakecolor\":\"white\"},\"title\":{\"x\":0.05},\"mapbox\":{\"style\":\"light\"}}},\"xaxis\":{\"anchor\":\"y\",\"domain\":[0.0,1.0],\"title\":{\"text\":\"Precio (USD)\"}},\"yaxis\":{\"anchor\":\"x\",\"domain\":[0.0,1.0],\"title\":{\"text\":\"Ventas (unidades)\"}},\"legend\":{\"title\":{\"text\":\"Categor\\u00eda\",\"font\":{\"size\":12,\"family\":\"Arial Black\"}},\"tracegroupgap\":0,\"itemsizing\":\"constant\"},\"title\":{\"text\":\"Relaci\\u00f3n entre Precio y Ventas por Categor\\u00eda\\u003cbr\\u003e(Plotly - Visualizaci\\u00f3n Interactiva)\",\"font\":{\"size\":16,\"family\":\"Arial Black\"}},\"font\":{\"size\":12},\"hovermode\":\"closest\",\"plot_bgcolor\":\"rgba(240, 240, 240, 0.5)\"},                        {\"responsive\": true}                    ).then(function(){\n",
       "                            \n",
       "var gd = document.getElementById('c9b1290d-3c12-4c59-b201-6b7c792de5d0');\n",
       "var x = new MutationObserver(function (mutations, observer) {{\n",
       "        var display = window.getComputedStyle(gd).display;\n",
       "        if (!display || display === 'none') {{\n",
       "            console.log([gd, 'removed!']);\n",
       "            Plotly.purge(gd);\n",
       "            observer.disconnect();\n",
       "        }}\n",
       "}});\n",
       "\n",
       "// Listen for the removal of the full notebook cells\n",
       "var notebookContainer = gd.closest('#notebook-container');\n",
       "if (notebookContainer) {{\n",
       "    x.observe(notebookContainer, {childList: true});\n",
       "}}\n",
       "\n",
       "// Listen for the clearing of the current output cell\n",
       "var outputEl = gd.closest('.output');\n",
       "if (outputEl) {{\n",
       "    x.observe(outputEl, {childList: true});\n",
       "}}\n",
       "\n",
       "                        })                };            </script>        </div>"
      ]
     },
     "metadata": {},
     "output_type": "display_data"
    },
    {
     "name": "stdout",
     "output_type": "stream",
     "text": [
      "Interactividad de Plotly:\n",
      "- Hover: muestra Producto, Región, Ingresos al pasar el mouse\n",
      "- Zoom: click y arrastrar para hacer zoom en áreas específicas\n",
      "- Pan: shift + arrastrar para desplazar\n",
      "- Leyenda: click para ocultar/mostrar categorías\n",
      "- Exportar: botón de cámara para guardar como PNG\n",
      "\n",
      "Ideal para: dashboards, presentaciones interactivas, reportes HTML\n"
     ]
    }
   ],
   "source": [
    "# Mismo gráfico de dispersión pero INTERACTIVO con Plotly\n",
    "fig = px.scatter(df, x='Precio', y='Ventas', color='Categoria', \n",
    "                 size='Satisfaccion', hover_data=['Producto', 'Region', 'Ingresos'],\n",
    "                 title='Relación entre Precio y Ventas por Categoría<br>(Plotly - Visualización Interactiva)',\n",
    "                 labels={'Precio': 'Precio (USD)', 'Ventas': 'Ventas (unidades)'},\n",
    "                 color_discrete_sequence=px.colors.qualitative.Set2,\n",
    "                 size_max=20)\n",
    "\n",
    "# Personalización\n",
    "fig.update_traces(marker=dict(line=dict(width=0.5, color='DarkSlateGrey')))\n",
    "fig.update_layout(\n",
    "    font=dict(size=12),\n",
    "    title_font=dict(size=16, family='Arial Black'),\n",
    "    hovermode='closest',\n",
    "    plot_bgcolor='rgba(240, 240, 240, 0.5)',\n",
    "    legend=dict(title=dict(text='Categoría', font=dict(size=12, family='Arial Black')))\n",
    ")\n",
    "\n",
    "fig.show(renderer=\"notebook_connected\")\n",
    "\n",
    "print(\"Interactividad de Plotly:\")\n",
    "print(\"- Hover: muestra Producto, Región, Ingresos al pasar el mouse\")\n",
    "print(\"- Zoom: click y arrastrar para hacer zoom en áreas específicas\")\n",
    "print(\"- Pan: shift + arrastrar para desplazar\")\n",
    "print(\"- Leyenda: click para ocultar/mostrar categorías\")\n",
    "print(\"- Exportar: botón de cámara para guardar como PNG\")\n",
    "print(\"\\nIdeal para: dashboards, presentaciones interactivas, reportes HTML\")"
   ]
  },
  {
   "cell_type": "markdown",
   "id": "473d57ce",
   "metadata": {},
   "source": [
    "### Ejemplo 2: Dashboard Interactivo Complejo"
   ]
  },
  {
   "cell_type": "code",
   "execution_count": null,
   "id": "c4692a8f",
   "metadata": {},
   "outputs": [
    {
     "data": {
      "text/html": [
       "        <script type=\"text/javascript\">\n",
       "        window.PlotlyConfig = {MathJaxConfig: 'local'};\n",
       "        if (window.MathJax && window.MathJax.Hub && window.MathJax.Hub.Config) {window.MathJax.Hub.Config({SVG: {font: \"STIX-Web\"}});}\n",
       "        </script>\n",
       "        <script type=\"module\">import \"https://cdn.plot.ly/plotly-3.1.1.min\"</script>\n",
       "        "
      ]
     },
     "metadata": {},
     "output_type": "display_data"
    },
    {
     "data": {
      "application/vnd.plotly.v1+json": {
       "config": {
        "plotlyServerURL": "https://plot.ly"
       },
       "data": [
        {
         "boxmean": "sd",
         "name": "Electrónica",
         "type": "box",
         "xaxis": "x",
         "y": {
          "bdata": "SyS5fWsIVUAC2J025yNKQAAAAAAAACRAITPOFkHlXkDsKQWa0EBSQJyKG4Izb1hA2oxSoIw+YEDfQXLUY55bQGA/2yZxRThAPrV9T+w0Q0BQBVsZ6dNYQO1Ln6emtWNAkL0RS/dPVECl7oeiu1JQQCi2MF+NX1pAnHdlY31qW0BMbbzFUfJQQO6WSiUImEpAMHn7i7bGVUAW97BHroZSQN5385xlr2NAvK813AatWUADitbr0iNcQNzRr5pzaWhAJbyCc1wAYEBtZimlPw1WQKAgdwFbClhAetcHrq4EZ0ASA1hunmJrQC50CtUmaVVAf9ZJ4TwvUUA/RdoB5IhWQGUI1C9UhVlAM27hx/ZNYUAaHSLHKqFnQHD1TnHvJ1xA6FDkrqALMUC+VbjC7+NSQPBT4qq/P1xAuJdBOIb5NUAgMNSo/k5BQB6Yf+ZRlWxAwrDxjJi/YUA=",
          "dtype": "f8"
         },
         "yaxis": "y"
        },
        {
         "boxmean": "sd",
         "name": "Ropa",
         "type": "box",
         "xaxis": "x",
         "y": {
          "bdata": "SaC5BdFdXEByXo6pkhRAQL9XOS/U/FlAjjzxJuFTW0Awm74SIrNhQPhLlLh9AD1Ajn+UhVykY0AAAAAAAAAkQOLd02gs5lZAmkYSWdsZU0A+bMA+fBBWQADqVdZG3FJA2Fp/4J3FQ0BB+0rbfh9MQPDe5h8Y3EBArQXcTVfQUkB4MbFZqmFYQBgf76s6jmBACZZ6tHTjWkARvyyhaOJQQCK/pa93yUxAeIZP5o6lVUDxm88wXaVhQE9ipcXZU1NAAAAAAAAAJEBicYAYIXRGQB5QHFHekmZA5s0L2qO1UkAD8paRCHJZQHY2bGGzAF5AwEtJP7SRYEDFNxICaJVbQAA7nSSxoFRA503bav4EXkAYX9R40eloQA==",
          "dtype": "f8"
         },
         "yaxis": "y"
        },
        {
         "boxmean": "sd",
         "name": "Alimentos",
         "type": "box",
         "xaxis": "x",
         "y": {
          "bdata": "fwaKkxqGW0AjzVjU3dVnQHQixE6qDl5AheeXdjsgWkCxf7tbkuVjQNBO+A0Vm1RAU66o8DaESECksFIsjtJRQJv1K80XjGBAMeVZG0bAYUD30skxHJZdQP0V3oZycmhASI1CL4X+XEDjvVom1HlmQJOAD7KvQWBAIEVGeI35ZECWV6WLkvVRQJaBXabeOmVAxwdeaEkgVEAPjF5vrZBfQEVXKF0+hGFA3OOcpOxTaUBCMzvFY69fQETYqnWK1zdAz8OiGE0QX0AAAAAAAAAkQFbA5lYkTV9AQU4dgqdpYUA5S+vlcpRVQIB26QPOxmhAjiVvzgI6W0CTop1Q0dxZQNSz5GV7wURADmhegF65QUBN1eV+JTNRQETKCPh1mkVA0TyJ9zDTW0A=",
          "dtype": "f8"
         },
         "yaxis": "y"
        },
        {
         "boxmean": "sd",
         "name": "Hogar",
         "type": "box",
         "xaxis": "x",
         "y": {
          "bdata": "OAA16SKrTEDKeNkwEMVVQIjGomrU6jRA7vQGohshY0CFXjIcA7teQH78Bv5nymRAkep7gkPkT0AAAAAAAAAkQAwhxIe6ZjlAsnUJmkBwZkBGDtDDn9NMQAAAAAAAACRAMeDziw+3W0ApdKfu/RlTQLCbxWc4DFJAG4Gk/q+RS0DYYgWRZxxMQEm4iKq7UUlAasDBb6FuZkC1P8T4SLhOQNht1Qv47lBACHB62C34M0BnznL3q15bQPI9dslaP2VAsDdo9jpoU0DuIw213EddQFx4KZAnKl1AAAAAAAAAJEBehsT9z15sQB8Y8eYVwmhAgiBB0lPYW0CGyDUNel9lQDbmy77hsV1AErr+Cikja0DgdxdlYrtiQPYn+uL6DlZAeL8WAeXYXkD+s8u9NDBZQJyxraB9tz9A+Fy5HoAIY0A5bpdwFVFUQMJiV4aBf2FAdcfecs19TkCWuJK2H2NOQJi91qvY5V5AAAAAAAAAJEA03AcjGL9lQMC1ysef2DdAnGXOJK0ZMkA=",
          "dtype": "f8"
         },
         "yaxis": "y"
        },
        {
         "boxmean": "sd",
         "name": "Deportes",
         "type": "box",
         "xaxis": "x",
         "y": {
          "bdata": "e/gUYE3SWEB6u0hqr+FNQDiYABul9ztACNbjxbwIWkDSmXawla5SQGZ7Cuvz91tA69I1nuepYUCeDvnvSLNfQIhWuuRYlWNAoHQ+oI+QXEAKT1PzUwlmQKy8sQ/NE09ATau5mXS/YECGpel0E3dXQOOnFLVwYGFAcgeMA/hBXUAlCwryzRNlQFxf86EVh1BARtSwm3CCT0CXZOtEhRRiQCe3My4X61tAY1vEqh8BXEBIgZljoLVVQOenGB8OkVZAUoZFzlvCXkDlzg7bxClgQIxZb952CWRAsGmn66drP0A7N0WhFa1NQCCeehBhMktAfriToHeITUA7KgfCQllDQNzc3zS7q1xAUi6hRvXkZEAKNI1QHstmQKRVd3oS3FhA",
          "dtype": "f8"
         },
         "yaxis": "y"
        },
        {
         "line": {
          "color": "royalblue",
          "width": 3
         },
         "marker": {
          "color": "lightblue",
          "line": {
           "color": "darkblue",
           "width": 2
          },
          "size": 10
         },
         "mode": "lines+markers",
         "name": "Ventas Totales",
         "type": "scatter",
         "x": [
          "Ene",
          "Feb",
          "Mar",
          "Abr",
          "May",
          "Jun",
          "Jul",
          "Ago",
          "Sep",
          "Oct",
          "Nov",
          "Dic"
         ],
         "xaxis": "x2",
         "y": {
          "bdata": "tHDeYDMG5kDtqwx7M4PtQCqH1EZdvutA7egPLDG38ECOIPEE6UPrQKU37IfiqOZA2/W6i1FM60AcRFIl4dPtQMifSEyaa+xA6tigsBfk6kB2NpLmV5/tQHjxxJaeH+5A",
          "dtype": "f8"
         },
         "yaxis": "y2"
        },
        {
         "marker": {
          "color": {
           "bdata": "lhXGkArPBkGmxpf7WygHQR67tk3TzAhBKRBcFhcmD0G4xr/YUDoGQQ==",
           "dtype": "f8"
          },
          "colorscale": [
           [
            0,
            "#440154"
           ],
           [
            0.1111111111111111,
            "#482878"
           ],
           [
            0.2222222222222222,
            "#3e4989"
           ],
           [
            0.3333333333333333,
            "#31688e"
           ],
           [
            0.4444444444444444,
            "#26828e"
           ],
           [
            0.5555555555555556,
            "#1f9e89"
           ],
           [
            0.6666666666666666,
            "#35b779"
           ],
           [
            0.7777777777777778,
            "#6ece58"
           ],
           [
            0.8888888888888888,
            "#b5de2b"
           ],
           [
            1,
            "#fde725"
           ]
          ],
          "showscale": true
         },
         "name": "Ventas por Categoría",
         "text": {
          "bdata": "AAAAAAjPBkEAAAAAWCgHQQAAAADQzAhBAAAAABgmD0EAAAAAUDoGQQ==",
          "dtype": "f8"
         },
         "textposition": "outside",
         "type": "bar",
         "x": [
          "Alimentos",
          "Deportes",
          "Electrónica",
          "Hogar",
          "Ropa"
         ],
         "xaxis": "x3",
         "y": {
          "bdata": "lhXGkArPBkGmxpf7WygHQR67tk3TzAhBKRBcFhcmD0G4xr/YUDoGQQ==",
          "dtype": "f8"
         },
         "yaxis": "y3"
        },
        {
         "marker": {
          "color": {
           "bdata": "FYqetRMYEEAPN3VDZxEQQEAG9T6CPxBAbfzLJfuqD0A=",
           "dtype": "f8"
          },
          "colorscale": [
           [
            0,
            "rgb(165,0,38)"
           ],
           [
            0.1,
            "rgb(215,48,39)"
           ],
           [
            0.2,
            "rgb(244,109,67)"
           ],
           [
            0.3,
            "rgb(253,174,97)"
           ],
           [
            0.4,
            "rgb(254,224,139)"
           ],
           [
            0.5,
            "rgb(255,255,191)"
           ],
           [
            0.6,
            "rgb(217,239,139)"
           ],
           [
            0.7,
            "rgb(166,217,106)"
           ],
           [
            0.8,
            "rgb(102,189,99)"
           ],
           [
            0.9,
            "rgb(26,152,80)"
           ],
           [
            1,
            "rgb(0,104,55)"
           ]
          ],
          "showscale": false
         },
         "name": "Satisfacción",
         "r": {
          "bdata": "FYqetRMYEEAPN3VDZxEQQEAG9T6CPxBAbfzLJfuqD0A=",
          "dtype": "f8"
         },
         "subplot": "polar",
         "theta": [
          "Este",
          "Norte",
          "Oeste",
          "Sur"
         ],
         "type": "barpolar"
        }
       ],
       "layout": {
        "annotations": [
         {
          "font": {
           "size": 16
          },
          "showarrow": false,
          "text": "Distribución de Precios por Categoría (Boxplot)",
          "x": 0.225,
          "xanchor": "center",
          "xref": "paper",
          "y": 1,
          "yanchor": "bottom",
          "yref": "paper"
         },
         {
          "font": {
           "size": 16
          },
          "showarrow": false,
          "text": "Evolución Mensual de Ventas (Línea)",
          "x": 0.775,
          "xanchor": "center",
          "xref": "paper",
          "y": 1,
          "yanchor": "bottom",
          "yref": "paper"
         },
         {
          "font": {
           "size": 16
          },
          "showarrow": false,
          "text": "Ventas Totales por Categoría (Barras)",
          "x": 0.225,
          "xanchor": "center",
          "xref": "paper",
          "y": 0.44,
          "yanchor": "bottom",
          "yref": "paper"
         },
         {
          "font": {
           "size": 16
          },
          "showarrow": false,
          "text": "Satisfacción Promedio por Región (Polar)",
          "x": 0.775,
          "xanchor": "center",
          "xref": "paper",
          "y": 0.44,
          "yanchor": "bottom",
          "yref": "paper"
         }
        ],
        "height": 900,
        "hovermode": "closest",
        "polar": {
         "domain": {
          "x": [
           0.55,
           1
          ],
          "y": [
           0,
           0.44
          ]
         }
        },
        "showlegend": true,
        "template": {
         "data": {
          "bar": [
           {
            "error_x": {
             "color": "#2a3f5f"
            },
            "error_y": {
             "color": "#2a3f5f"
            },
            "marker": {
             "line": {
              "color": "white",
              "width": 0.5
             },
             "pattern": {
              "fillmode": "overlay",
              "size": 10,
              "solidity": 0.2
             }
            },
            "type": "bar"
           }
          ],
          "barpolar": [
           {
            "marker": {
             "line": {
              "color": "white",
              "width": 0.5
             },
             "pattern": {
              "fillmode": "overlay",
              "size": 10,
              "solidity": 0.2
             }
            },
            "type": "barpolar"
           }
          ],
          "carpet": [
           {
            "aaxis": {
             "endlinecolor": "#2a3f5f",
             "gridcolor": "#C8D4E3",
             "linecolor": "#C8D4E3",
             "minorgridcolor": "#C8D4E3",
             "startlinecolor": "#2a3f5f"
            },
            "baxis": {
             "endlinecolor": "#2a3f5f",
             "gridcolor": "#C8D4E3",
             "linecolor": "#C8D4E3",
             "minorgridcolor": "#C8D4E3",
             "startlinecolor": "#2a3f5f"
            },
            "type": "carpet"
           }
          ],
          "choropleth": [
           {
            "colorbar": {
             "outlinewidth": 0,
             "ticks": ""
            },
            "type": "choropleth"
           }
          ],
          "contour": [
           {
            "colorbar": {
             "outlinewidth": 0,
             "ticks": ""
            },
            "colorscale": [
             [
              0,
              "#0d0887"
             ],
             [
              0.1111111111111111,
              "#46039f"
             ],
             [
              0.2222222222222222,
              "#7201a8"
             ],
             [
              0.3333333333333333,
              "#9c179e"
             ],
             [
              0.4444444444444444,
              "#bd3786"
             ],
             [
              0.5555555555555556,
              "#d8576b"
             ],
             [
              0.6666666666666666,
              "#ed7953"
             ],
             [
              0.7777777777777778,
              "#fb9f3a"
             ],
             [
              0.8888888888888888,
              "#fdca26"
             ],
             [
              1,
              "#f0f921"
             ]
            ],
            "type": "contour"
           }
          ],
          "contourcarpet": [
           {
            "colorbar": {
             "outlinewidth": 0,
             "ticks": ""
            },
            "type": "contourcarpet"
           }
          ],
          "heatmap": [
           {
            "colorbar": {
             "outlinewidth": 0,
             "ticks": ""
            },
            "colorscale": [
             [
              0,
              "#0d0887"
             ],
             [
              0.1111111111111111,
              "#46039f"
             ],
             [
              0.2222222222222222,
              "#7201a8"
             ],
             [
              0.3333333333333333,
              "#9c179e"
             ],
             [
              0.4444444444444444,
              "#bd3786"
             ],
             [
              0.5555555555555556,
              "#d8576b"
             ],
             [
              0.6666666666666666,
              "#ed7953"
             ],
             [
              0.7777777777777778,
              "#fb9f3a"
             ],
             [
              0.8888888888888888,
              "#fdca26"
             ],
             [
              1,
              "#f0f921"
             ]
            ],
            "type": "heatmap"
           }
          ],
          "histogram": [
           {
            "marker": {
             "pattern": {
              "fillmode": "overlay",
              "size": 10,
              "solidity": 0.2
             }
            },
            "type": "histogram"
           }
          ],
          "histogram2d": [
           {
            "colorbar": {
             "outlinewidth": 0,
             "ticks": ""
            },
            "colorscale": [
             [
              0,
              "#0d0887"
             ],
             [
              0.1111111111111111,
              "#46039f"
             ],
             [
              0.2222222222222222,
              "#7201a8"
             ],
             [
              0.3333333333333333,
              "#9c179e"
             ],
             [
              0.4444444444444444,
              "#bd3786"
             ],
             [
              0.5555555555555556,
              "#d8576b"
             ],
             [
              0.6666666666666666,
              "#ed7953"
             ],
             [
              0.7777777777777778,
              "#fb9f3a"
             ],
             [
              0.8888888888888888,
              "#fdca26"
             ],
             [
              1,
              "#f0f921"
             ]
            ],
            "type": "histogram2d"
           }
          ],
          "histogram2dcontour": [
           {
            "colorbar": {
             "outlinewidth": 0,
             "ticks": ""
            },
            "colorscale": [
             [
              0,
              "#0d0887"
             ],
             [
              0.1111111111111111,
              "#46039f"
             ],
             [
              0.2222222222222222,
              "#7201a8"
             ],
             [
              0.3333333333333333,
              "#9c179e"
             ],
             [
              0.4444444444444444,
              "#bd3786"
             ],
             [
              0.5555555555555556,
              "#d8576b"
             ],
             [
              0.6666666666666666,
              "#ed7953"
             ],
             [
              0.7777777777777778,
              "#fb9f3a"
             ],
             [
              0.8888888888888888,
              "#fdca26"
             ],
             [
              1,
              "#f0f921"
             ]
            ],
            "type": "histogram2dcontour"
           }
          ],
          "mesh3d": [
           {
            "colorbar": {
             "outlinewidth": 0,
             "ticks": ""
            },
            "type": "mesh3d"
           }
          ],
          "parcoords": [
           {
            "line": {
             "colorbar": {
              "outlinewidth": 0,
              "ticks": ""
             }
            },
            "type": "parcoords"
           }
          ],
          "pie": [
           {
            "automargin": true,
            "type": "pie"
           }
          ],
          "scatter": [
           {
            "fillpattern": {
             "fillmode": "overlay",
             "size": 10,
             "solidity": 0.2
            },
            "type": "scatter"
           }
          ],
          "scatter3d": [
           {
            "line": {
             "colorbar": {
              "outlinewidth": 0,
              "ticks": ""
             }
            },
            "marker": {
             "colorbar": {
              "outlinewidth": 0,
              "ticks": ""
             }
            },
            "type": "scatter3d"
           }
          ],
          "scattercarpet": [
           {
            "marker": {
             "colorbar": {
              "outlinewidth": 0,
              "ticks": ""
             }
            },
            "type": "scattercarpet"
           }
          ],
          "scattergeo": [
           {
            "marker": {
             "colorbar": {
              "outlinewidth": 0,
              "ticks": ""
             }
            },
            "type": "scattergeo"
           }
          ],
          "scattergl": [
           {
            "marker": {
             "colorbar": {
              "outlinewidth": 0,
              "ticks": ""
             }
            },
            "type": "scattergl"
           }
          ],
          "scattermap": [
           {
            "marker": {
             "colorbar": {
              "outlinewidth": 0,
              "ticks": ""
             }
            },
            "type": "scattermap"
           }
          ],
          "scattermapbox": [
           {
            "marker": {
             "colorbar": {
              "outlinewidth": 0,
              "ticks": ""
             }
            },
            "type": "scattermapbox"
           }
          ],
          "scatterpolar": [
           {
            "marker": {
             "colorbar": {
              "outlinewidth": 0,
              "ticks": ""
             }
            },
            "type": "scatterpolar"
           }
          ],
          "scatterpolargl": [
           {
            "marker": {
             "colorbar": {
              "outlinewidth": 0,
              "ticks": ""
             }
            },
            "type": "scatterpolargl"
           }
          ],
          "scatterternary": [
           {
            "marker": {
             "colorbar": {
              "outlinewidth": 0,
              "ticks": ""
             }
            },
            "type": "scatterternary"
           }
          ],
          "surface": [
           {
            "colorbar": {
             "outlinewidth": 0,
             "ticks": ""
            },
            "colorscale": [
             [
              0,
              "#0d0887"
             ],
             [
              0.1111111111111111,
              "#46039f"
             ],
             [
              0.2222222222222222,
              "#7201a8"
             ],
             [
              0.3333333333333333,
              "#9c179e"
             ],
             [
              0.4444444444444444,
              "#bd3786"
             ],
             [
              0.5555555555555556,
              "#d8576b"
             ],
             [
              0.6666666666666666,
              "#ed7953"
             ],
             [
              0.7777777777777778,
              "#fb9f3a"
             ],
             [
              0.8888888888888888,
              "#fdca26"
             ],
             [
              1,
              "#f0f921"
             ]
            ],
            "type": "surface"
           }
          ],
          "table": [
           {
            "cells": {
             "fill": {
              "color": "#EBF0F8"
             },
             "line": {
              "color": "white"
             }
            },
            "header": {
             "fill": {
              "color": "#C8D4E3"
             },
             "line": {
              "color": "white"
             }
            },
            "type": "table"
           }
          ]
         },
         "layout": {
          "annotationdefaults": {
           "arrowcolor": "#2a3f5f",
           "arrowhead": 0,
           "arrowwidth": 1
          },
          "autotypenumbers": "strict",
          "coloraxis": {
           "colorbar": {
            "outlinewidth": 0,
            "ticks": ""
           }
          },
          "colorscale": {
           "diverging": [
            [
             0,
             "#8e0152"
            ],
            [
             0.1,
             "#c51b7d"
            ],
            [
             0.2,
             "#de77ae"
            ],
            [
             0.3,
             "#f1b6da"
            ],
            [
             0.4,
             "#fde0ef"
            ],
            [
             0.5,
             "#f7f7f7"
            ],
            [
             0.6,
             "#e6f5d0"
            ],
            [
             0.7,
             "#b8e186"
            ],
            [
             0.8,
             "#7fbc41"
            ],
            [
             0.9,
             "#4d9221"
            ],
            [
             1,
             "#276419"
            ]
           ],
           "sequential": [
            [
             0,
             "#0d0887"
            ],
            [
             0.1111111111111111,
             "#46039f"
            ],
            [
             0.2222222222222222,
             "#7201a8"
            ],
            [
             0.3333333333333333,
             "#9c179e"
            ],
            [
             0.4444444444444444,
             "#bd3786"
            ],
            [
             0.5555555555555556,
             "#d8576b"
            ],
            [
             0.6666666666666666,
             "#ed7953"
            ],
            [
             0.7777777777777778,
             "#fb9f3a"
            ],
            [
             0.8888888888888888,
             "#fdca26"
            ],
            [
             1,
             "#f0f921"
            ]
           ],
           "sequentialminus": [
            [
             0,
             "#0d0887"
            ],
            [
             0.1111111111111111,
             "#46039f"
            ],
            [
             0.2222222222222222,
             "#7201a8"
            ],
            [
             0.3333333333333333,
             "#9c179e"
            ],
            [
             0.4444444444444444,
             "#bd3786"
            ],
            [
             0.5555555555555556,
             "#d8576b"
            ],
            [
             0.6666666666666666,
             "#ed7953"
            ],
            [
             0.7777777777777778,
             "#fb9f3a"
            ],
            [
             0.8888888888888888,
             "#fdca26"
            ],
            [
             1,
             "#f0f921"
            ]
           ]
          },
          "colorway": [
           "#636efa",
           "#EF553B",
           "#00cc96",
           "#ab63fa",
           "#FFA15A",
           "#19d3f3",
           "#FF6692",
           "#B6E880",
           "#FF97FF",
           "#FECB52"
          ],
          "font": {
           "color": "#2a3f5f"
          },
          "geo": {
           "bgcolor": "white",
           "lakecolor": "white",
           "landcolor": "white",
           "showlakes": true,
           "showland": true,
           "subunitcolor": "#C8D4E3"
          },
          "hoverlabel": {
           "align": "left"
          },
          "hovermode": "closest",
          "mapbox": {
           "style": "light"
          },
          "paper_bgcolor": "white",
          "plot_bgcolor": "white",
          "polar": {
           "angularaxis": {
            "gridcolor": "#EBF0F8",
            "linecolor": "#EBF0F8",
            "ticks": ""
           },
           "bgcolor": "white",
           "radialaxis": {
            "gridcolor": "#EBF0F8",
            "linecolor": "#EBF0F8",
            "ticks": ""
           }
          },
          "scene": {
           "xaxis": {
            "backgroundcolor": "white",
            "gridcolor": "#DFE8F3",
            "gridwidth": 2,
            "linecolor": "#EBF0F8",
            "showbackground": true,
            "ticks": "",
            "zerolinecolor": "#EBF0F8"
           },
           "yaxis": {
            "backgroundcolor": "white",
            "gridcolor": "#DFE8F3",
            "gridwidth": 2,
            "linecolor": "#EBF0F8",
            "showbackground": true,
            "ticks": "",
            "zerolinecolor": "#EBF0F8"
           },
           "zaxis": {
            "backgroundcolor": "white",
            "gridcolor": "#DFE8F3",
            "gridwidth": 2,
            "linecolor": "#EBF0F8",
            "showbackground": true,
            "ticks": "",
            "zerolinecolor": "#EBF0F8"
           }
          },
          "shapedefaults": {
           "line": {
            "color": "#2a3f5f"
           }
          },
          "ternary": {
           "aaxis": {
            "gridcolor": "#DFE8F3",
            "linecolor": "#A2B1C6",
            "ticks": ""
           },
           "baxis": {
            "gridcolor": "#DFE8F3",
            "linecolor": "#A2B1C6",
            "ticks": ""
           },
           "bgcolor": "white",
           "caxis": {
            "gridcolor": "#DFE8F3",
            "linecolor": "#A2B1C6",
            "ticks": ""
           }
          },
          "title": {
           "x": 0.05
          },
          "xaxis": {
           "automargin": true,
           "gridcolor": "#EBF0F8",
           "linecolor": "#EBF0F8",
           "ticks": "",
           "title": {
            "standoff": 15
           },
           "zerolinecolor": "#EBF0F8",
           "zerolinewidth": 2
          },
          "yaxis": {
           "automargin": true,
           "gridcolor": "#EBF0F8",
           "linecolor": "#EBF0F8",
           "ticks": "",
           "title": {
            "standoff": 15
           },
           "zerolinecolor": "#EBF0F8",
           "zerolinewidth": 2
          }
         }
        },
        "title": {
         "font": {
          "family": "Arial Black",
          "size": 18
         },
         "text": "<b>Dashboard Ejecutivo Interactivo - Análisis de Ventas</b><br><sub>Plotly: Múltiples visualizaciones sincronizadas</sub>"
        },
        "xaxis": {
         "anchor": "y",
         "domain": [
          0,
          0.45
         ],
         "title": {
          "text": "Categoría"
         }
        },
        "xaxis2": {
         "anchor": "y2",
         "domain": [
          0.55,
          1
         ],
         "title": {
          "text": "Mes"
         }
        },
        "xaxis3": {
         "anchor": "y3",
         "domain": [
          0,
          0.45
         ],
         "title": {
          "text": "Categoría"
         }
        },
        "yaxis": {
         "anchor": "x",
         "domain": [
          0.56,
          1
         ],
         "title": {
          "text": "Precio (USD)"
         }
        },
        "yaxis2": {
         "anchor": "x2",
         "domain": [
          0.56,
          1
         ],
         "title": {
          "text": "Ventas (USD)"
         }
        },
        "yaxis3": {
         "anchor": "x3",
         "domain": [
          0,
          0.44
         ],
         "title": {
          "text": "Ventas Totales"
         }
        }
       }
      },
      "text/html": [
       "<div>            <script src=\"https://cdnjs.cloudflare.com/ajax/libs/mathjax/2.7.5/MathJax.js?config=TeX-AMS-MML_SVG\"></script><script type=\"text/javascript\">if (window.MathJax && window.MathJax.Hub && window.MathJax.Hub.Config) {window.MathJax.Hub.Config({SVG: {font: \"STIX-Web\"}});}</script>                <script type=\"text/javascript\">window.PlotlyConfig = {MathJaxConfig: 'local'};</script>\n",
       "        <script charset=\"utf-8\" src=\"https://cdn.plot.ly/plotly-3.1.1.min.js\" integrity=\"sha256-HUEFyfiTnZJxCxur99FjbKYTvKSzwDaD3/x5TqHpFu4=\" crossorigin=\"anonymous\"></script>                <div id=\"11da6389-5166-4a11-b3aa-37f29a6c5bdf\" class=\"plotly-graph-div\" style=\"height:900px; width:100%;\"></div>            <script type=\"text/javascript\">                window.PLOTLYENV=window.PLOTLYENV || {};                                if (document.getElementById(\"11da6389-5166-4a11-b3aa-37f29a6c5bdf\")) {                    Plotly.newPlot(                        \"11da6389-5166-4a11-b3aa-37f29a6c5bdf\",                        [{\"boxmean\":\"sd\",\"name\":\"Electr\\u00f3nica\",\"y\":{\"dtype\":\"f8\",\"bdata\":\"SyS5fWsIVUAC2J025yNKQAAAAAAAACRAITPOFkHlXkDsKQWa0EBSQJyKG4Izb1hA2oxSoIw+YEDfQXLUY55bQGA\\u002f2yZxRThAPrV9T+w0Q0BQBVsZ6dNYQO1Ln6emtWNAkL0RS\\u002fdPVECl7oeiu1JQQCi2MF+NX1pAnHdlY31qW0BMbbzFUfJQQO6WSiUImEpAMHn7i7bGVUAW97BHroZSQN5385xlr2NAvK813AatWUADitbr0iNcQNzRr5pzaWhAJbyCc1wAYEBtZimlPw1WQKAgdwFbClhAetcHrq4EZ0ASA1hunmJrQC50CtUmaVVAf9ZJ4TwvUUA\\u002fRdoB5IhWQGUI1C9UhVlAM27hx\\u002fZNYUAaHSLHKqFnQHD1TnHvJ1xA6FDkrqALMUC+VbjC7+NSQPBT4qq\\u002fP1xAuJdBOIb5NUAgMNSo\\u002fk5BQB6Yf+ZRlWxAwrDxjJi\\u002fYUA=\"},\"type\":\"box\",\"xaxis\":\"x\",\"yaxis\":\"y\"},{\"boxmean\":\"sd\",\"name\":\"Ropa\",\"y\":{\"dtype\":\"f8\",\"bdata\":\"SaC5BdFdXEByXo6pkhRAQL9XOS\\u002fU\\u002fFlAjjzxJuFTW0Awm74SIrNhQPhLlLh9AD1Ajn+UhVykY0AAAAAAAAAkQOLd02gs5lZAmkYSWdsZU0A+bMA+fBBWQADqVdZG3FJA2Fp\\u002f4J3FQ0BB+0rbfh9MQPDe5h8Y3EBArQXcTVfQUkB4MbFZqmFYQBgf76s6jmBACZZ6tHTjWkARvyyhaOJQQCK\\u002fpa93yUxAeIZP5o6lVUDxm88wXaVhQE9ipcXZU1NAAAAAAAAAJEBicYAYIXRGQB5QHFHekmZA5s0L2qO1UkAD8paRCHJZQHY2bGGzAF5AwEtJP7SRYEDFNxICaJVbQAA7nSSxoFRA503bav4EXkAYX9R40eloQA==\"},\"type\":\"box\",\"xaxis\":\"x\",\"yaxis\":\"y\"},{\"boxmean\":\"sd\",\"name\":\"Alimentos\",\"y\":{\"dtype\":\"f8\",\"bdata\":\"fwaKkxqGW0AjzVjU3dVnQHQixE6qDl5AheeXdjsgWkCxf7tbkuVjQNBO+A0Vm1RAU66o8DaESECksFIsjtJRQJv1K80XjGBAMeVZG0bAYUD30skxHJZdQP0V3oZycmhASI1CL4X+XEDjvVom1HlmQJOAD7KvQWBAIEVGeI35ZECWV6WLkvVRQJaBXabeOmVAxwdeaEkgVEAPjF5vrZBfQEVXKF0+hGFA3OOcpOxTaUBCMzvFY69fQETYqnWK1zdAz8OiGE0QX0AAAAAAAAAkQFbA5lYkTV9AQU4dgqdpYUA5S+vlcpRVQIB26QPOxmhAjiVvzgI6W0CTop1Q0dxZQNSz5GV7wURADmhegF65QUBN1eV+JTNRQETKCPh1mkVA0TyJ9zDTW0A=\"},\"type\":\"box\",\"xaxis\":\"x\",\"yaxis\":\"y\"},{\"boxmean\":\"sd\",\"name\":\"Hogar\",\"y\":{\"dtype\":\"f8\",\"bdata\":\"OAA16SKrTEDKeNkwEMVVQIjGomrU6jRA7vQGohshY0CFXjIcA7teQH78Bv5nymRAkep7gkPkT0AAAAAAAAAkQAwhxIe6ZjlAsnUJmkBwZkBGDtDDn9NMQAAAAAAAACRAMeDziw+3W0ApdKfu\\u002fRlTQLCbxWc4DFJAG4Gk\\u002fq+RS0DYYgWRZxxMQEm4iKq7UUlAasDBb6FuZkC1P8T4SLhOQNht1Qv47lBACHB62C34M0BnznL3q15bQPI9dslaP2VAsDdo9jpoU0DuIw213EddQFx4KZAnKl1AAAAAAAAAJEBehsT9z15sQB8Y8eYVwmhAgiBB0lPYW0CGyDUNel9lQDbmy77hsV1AErr+Cikja0DgdxdlYrtiQPYn+uL6DlZAeL8WAeXYXkD+s8u9NDBZQJyxraB9tz9A+Fy5HoAIY0A5bpdwFVFUQMJiV4aBf2FAdcfecs19TkCWuJK2H2NOQJi91qvY5V5AAAAAAAAAJEA03AcjGL9lQMC1ysef2DdAnGXOJK0ZMkA=\"},\"type\":\"box\",\"xaxis\":\"x\",\"yaxis\":\"y\"},{\"boxmean\":\"sd\",\"name\":\"Deportes\",\"y\":{\"dtype\":\"f8\",\"bdata\":\"e\\u002fgUYE3SWEB6u0hqr+FNQDiYABul9ztACNbjxbwIWkDSmXawla5SQGZ7Cuvz91tA69I1nuepYUCeDvnvSLNfQIhWuuRYlWNAoHQ+oI+QXEAKT1PzUwlmQKy8sQ\\u002fNE09ATau5mXS\\u002fYECGpel0E3dXQOOnFLVwYGFAcgeMA\\u002fhBXUAlCwryzRNlQFxf86EVh1BARtSwm3CCT0CXZOtEhRRiQCe3My4X61tAY1vEqh8BXEBIgZljoLVVQOenGB8OkVZAUoZFzlvCXkDlzg7bxClgQIxZb952CWRAsGmn66drP0A7N0WhFa1NQCCeehBhMktAfriToHeITUA7KgfCQllDQNzc3zS7q1xAUi6hRvXkZEAKNI1QHstmQKRVd3oS3FhA\"},\"type\":\"box\",\"xaxis\":\"x\",\"yaxis\":\"y\"},{\"line\":{\"color\":\"royalblue\",\"width\":3},\"marker\":{\"color\":\"lightblue\",\"line\":{\"color\":\"darkblue\",\"width\":2},\"size\":10},\"mode\":\"lines+markers\",\"name\":\"Ventas Totales\",\"x\":[\"Ene\",\"Feb\",\"Mar\",\"Abr\",\"May\",\"Jun\",\"Jul\",\"Ago\",\"Sep\",\"Oct\",\"Nov\",\"Dic\"],\"y\":{\"dtype\":\"f8\",\"bdata\":\"tHDeYDMG5kDtqwx7M4PtQCqH1EZdvutA7egPLDG38ECOIPEE6UPrQKU37IfiqOZA2\\u002fW6i1FM60AcRFIl4dPtQMifSEyaa+xA6tigsBfk6kB2NpLmV5\\u002ftQHjxxJaeH+5A\"},\"type\":\"scatter\",\"xaxis\":\"x2\",\"yaxis\":\"y2\"},{\"marker\":{\"color\":{\"dtype\":\"f8\",\"bdata\":\"lhXGkArPBkGmxpf7WygHQR67tk3TzAhBKRBcFhcmD0G4xr\\u002fYUDoGQQ==\"},\"colorscale\":[[0.0,\"#440154\"],[0.1111111111111111,\"#482878\"],[0.2222222222222222,\"#3e4989\"],[0.3333333333333333,\"#31688e\"],[0.4444444444444444,\"#26828e\"],[0.5555555555555556,\"#1f9e89\"],[0.6666666666666666,\"#35b779\"],[0.7777777777777778,\"#6ece58\"],[0.8888888888888888,\"#b5de2b\"],[1.0,\"#fde725\"]],\"showscale\":true},\"name\":\"Ventas por Categor\\u00eda\",\"text\":{\"dtype\":\"f8\",\"bdata\":\"AAAAAAjPBkEAAAAAWCgHQQAAAADQzAhBAAAAABgmD0EAAAAAUDoGQQ==\"},\"textposition\":\"outside\",\"x\":[\"Alimentos\",\"Deportes\",\"Electr\\u00f3nica\",\"Hogar\",\"Ropa\"],\"y\":{\"dtype\":\"f8\",\"bdata\":\"lhXGkArPBkGmxpf7WygHQR67tk3TzAhBKRBcFhcmD0G4xr\\u002fYUDoGQQ==\"},\"type\":\"bar\",\"xaxis\":\"x3\",\"yaxis\":\"y3\"},{\"marker\":{\"color\":{\"dtype\":\"f8\",\"bdata\":\"FYqetRMYEEAPN3VDZxEQQEAG9T6CPxBAbfzLJfuqD0A=\"},\"colorscale\":[[0.0,\"rgb(165,0,38)\"],[0.1,\"rgb(215,48,39)\"],[0.2,\"rgb(244,109,67)\"],[0.3,\"rgb(253,174,97)\"],[0.4,\"rgb(254,224,139)\"],[0.5,\"rgb(255,255,191)\"],[0.6,\"rgb(217,239,139)\"],[0.7,\"rgb(166,217,106)\"],[0.8,\"rgb(102,189,99)\"],[0.9,\"rgb(26,152,80)\"],[1.0,\"rgb(0,104,55)\"]],\"showscale\":false},\"name\":\"Satisfacci\\u00f3n\",\"r\":{\"dtype\":\"f8\",\"bdata\":\"FYqetRMYEEAPN3VDZxEQQEAG9T6CPxBAbfzLJfuqD0A=\"},\"theta\":[\"Este\",\"Norte\",\"Oeste\",\"Sur\"],\"type\":\"barpolar\",\"subplot\":\"polar\"}],                        {\"template\":{\"data\":{\"barpolar\":[{\"marker\":{\"line\":{\"color\":\"white\",\"width\":0.5},\"pattern\":{\"fillmode\":\"overlay\",\"size\":10,\"solidity\":0.2}},\"type\":\"barpolar\"}],\"bar\":[{\"error_x\":{\"color\":\"#2a3f5f\"},\"error_y\":{\"color\":\"#2a3f5f\"},\"marker\":{\"line\":{\"color\":\"white\",\"width\":0.5},\"pattern\":{\"fillmode\":\"overlay\",\"size\":10,\"solidity\":0.2}},\"type\":\"bar\"}],\"carpet\":[{\"aaxis\":{\"endlinecolor\":\"#2a3f5f\",\"gridcolor\":\"#C8D4E3\",\"linecolor\":\"#C8D4E3\",\"minorgridcolor\":\"#C8D4E3\",\"startlinecolor\":\"#2a3f5f\"},\"baxis\":{\"endlinecolor\":\"#2a3f5f\",\"gridcolor\":\"#C8D4E3\",\"linecolor\":\"#C8D4E3\",\"minorgridcolor\":\"#C8D4E3\",\"startlinecolor\":\"#2a3f5f\"},\"type\":\"carpet\"}],\"choropleth\":[{\"colorbar\":{\"outlinewidth\":0,\"ticks\":\"\"},\"type\":\"choropleth\"}],\"contourcarpet\":[{\"colorbar\":{\"outlinewidth\":0,\"ticks\":\"\"},\"type\":\"contourcarpet\"}],\"contour\":[{\"colorbar\":{\"outlinewidth\":0,\"ticks\":\"\"},\"colorscale\":[[0.0,\"#0d0887\"],[0.1111111111111111,\"#46039f\"],[0.2222222222222222,\"#7201a8\"],[0.3333333333333333,\"#9c179e\"],[0.4444444444444444,\"#bd3786\"],[0.5555555555555556,\"#d8576b\"],[0.6666666666666666,\"#ed7953\"],[0.7777777777777778,\"#fb9f3a\"],[0.8888888888888888,\"#fdca26\"],[1.0,\"#f0f921\"]],\"type\":\"contour\"}],\"heatmap\":[{\"colorbar\":{\"outlinewidth\":0,\"ticks\":\"\"},\"colorscale\":[[0.0,\"#0d0887\"],[0.1111111111111111,\"#46039f\"],[0.2222222222222222,\"#7201a8\"],[0.3333333333333333,\"#9c179e\"],[0.4444444444444444,\"#bd3786\"],[0.5555555555555556,\"#d8576b\"],[0.6666666666666666,\"#ed7953\"],[0.7777777777777778,\"#fb9f3a\"],[0.8888888888888888,\"#fdca26\"],[1.0,\"#f0f921\"]],\"type\":\"heatmap\"}],\"histogram2dcontour\":[{\"colorbar\":{\"outlinewidth\":0,\"ticks\":\"\"},\"colorscale\":[[0.0,\"#0d0887\"],[0.1111111111111111,\"#46039f\"],[0.2222222222222222,\"#7201a8\"],[0.3333333333333333,\"#9c179e\"],[0.4444444444444444,\"#bd3786\"],[0.5555555555555556,\"#d8576b\"],[0.6666666666666666,\"#ed7953\"],[0.7777777777777778,\"#fb9f3a\"],[0.8888888888888888,\"#fdca26\"],[1.0,\"#f0f921\"]],\"type\":\"histogram2dcontour\"}],\"histogram2d\":[{\"colorbar\":{\"outlinewidth\":0,\"ticks\":\"\"},\"colorscale\":[[0.0,\"#0d0887\"],[0.1111111111111111,\"#46039f\"],[0.2222222222222222,\"#7201a8\"],[0.3333333333333333,\"#9c179e\"],[0.4444444444444444,\"#bd3786\"],[0.5555555555555556,\"#d8576b\"],[0.6666666666666666,\"#ed7953\"],[0.7777777777777778,\"#fb9f3a\"],[0.8888888888888888,\"#fdca26\"],[1.0,\"#f0f921\"]],\"type\":\"histogram2d\"}],\"histogram\":[{\"marker\":{\"pattern\":{\"fillmode\":\"overlay\",\"size\":10,\"solidity\":0.2}},\"type\":\"histogram\"}],\"mesh3d\":[{\"colorbar\":{\"outlinewidth\":0,\"ticks\":\"\"},\"type\":\"mesh3d\"}],\"parcoords\":[{\"line\":{\"colorbar\":{\"outlinewidth\":0,\"ticks\":\"\"}},\"type\":\"parcoords\"}],\"pie\":[{\"automargin\":true,\"type\":\"pie\"}],\"scatter3d\":[{\"line\":{\"colorbar\":{\"outlinewidth\":0,\"ticks\":\"\"}},\"marker\":{\"colorbar\":{\"outlinewidth\":0,\"ticks\":\"\"}},\"type\":\"scatter3d\"}],\"scattercarpet\":[{\"marker\":{\"colorbar\":{\"outlinewidth\":0,\"ticks\":\"\"}},\"type\":\"scattercarpet\"}],\"scattergeo\":[{\"marker\":{\"colorbar\":{\"outlinewidth\":0,\"ticks\":\"\"}},\"type\":\"scattergeo\"}],\"scattergl\":[{\"marker\":{\"colorbar\":{\"outlinewidth\":0,\"ticks\":\"\"}},\"type\":\"scattergl\"}],\"scattermapbox\":[{\"marker\":{\"colorbar\":{\"outlinewidth\":0,\"ticks\":\"\"}},\"type\":\"scattermapbox\"}],\"scattermap\":[{\"marker\":{\"colorbar\":{\"outlinewidth\":0,\"ticks\":\"\"}},\"type\":\"scattermap\"}],\"scatterpolargl\":[{\"marker\":{\"colorbar\":{\"outlinewidth\":0,\"ticks\":\"\"}},\"type\":\"scatterpolargl\"}],\"scatterpolar\":[{\"marker\":{\"colorbar\":{\"outlinewidth\":0,\"ticks\":\"\"}},\"type\":\"scatterpolar\"}],\"scatter\":[{\"fillpattern\":{\"fillmode\":\"overlay\",\"size\":10,\"solidity\":0.2},\"type\":\"scatter\"}],\"scatterternary\":[{\"marker\":{\"colorbar\":{\"outlinewidth\":0,\"ticks\":\"\"}},\"type\":\"scatterternary\"}],\"surface\":[{\"colorbar\":{\"outlinewidth\":0,\"ticks\":\"\"},\"colorscale\":[[0.0,\"#0d0887\"],[0.1111111111111111,\"#46039f\"],[0.2222222222222222,\"#7201a8\"],[0.3333333333333333,\"#9c179e\"],[0.4444444444444444,\"#bd3786\"],[0.5555555555555556,\"#d8576b\"],[0.6666666666666666,\"#ed7953\"],[0.7777777777777778,\"#fb9f3a\"],[0.8888888888888888,\"#fdca26\"],[1.0,\"#f0f921\"]],\"type\":\"surface\"}],\"table\":[{\"cells\":{\"fill\":{\"color\":\"#EBF0F8\"},\"line\":{\"color\":\"white\"}},\"header\":{\"fill\":{\"color\":\"#C8D4E3\"},\"line\":{\"color\":\"white\"}},\"type\":\"table\"}]},\"layout\":{\"annotationdefaults\":{\"arrowcolor\":\"#2a3f5f\",\"arrowhead\":0,\"arrowwidth\":1},\"autotypenumbers\":\"strict\",\"coloraxis\":{\"colorbar\":{\"outlinewidth\":0,\"ticks\":\"\"}},\"colorscale\":{\"diverging\":[[0,\"#8e0152\"],[0.1,\"#c51b7d\"],[0.2,\"#de77ae\"],[0.3,\"#f1b6da\"],[0.4,\"#fde0ef\"],[0.5,\"#f7f7f7\"],[0.6,\"#e6f5d0\"],[0.7,\"#b8e186\"],[0.8,\"#7fbc41\"],[0.9,\"#4d9221\"],[1,\"#276419\"]],\"sequential\":[[0.0,\"#0d0887\"],[0.1111111111111111,\"#46039f\"],[0.2222222222222222,\"#7201a8\"],[0.3333333333333333,\"#9c179e\"],[0.4444444444444444,\"#bd3786\"],[0.5555555555555556,\"#d8576b\"],[0.6666666666666666,\"#ed7953\"],[0.7777777777777778,\"#fb9f3a\"],[0.8888888888888888,\"#fdca26\"],[1.0,\"#f0f921\"]],\"sequentialminus\":[[0.0,\"#0d0887\"],[0.1111111111111111,\"#46039f\"],[0.2222222222222222,\"#7201a8\"],[0.3333333333333333,\"#9c179e\"],[0.4444444444444444,\"#bd3786\"],[0.5555555555555556,\"#d8576b\"],[0.6666666666666666,\"#ed7953\"],[0.7777777777777778,\"#fb9f3a\"],[0.8888888888888888,\"#fdca26\"],[1.0,\"#f0f921\"]]},\"colorway\":[\"#636efa\",\"#EF553B\",\"#00cc96\",\"#ab63fa\",\"#FFA15A\",\"#19d3f3\",\"#FF6692\",\"#B6E880\",\"#FF97FF\",\"#FECB52\"],\"font\":{\"color\":\"#2a3f5f\"},\"geo\":{\"bgcolor\":\"white\",\"lakecolor\":\"white\",\"landcolor\":\"white\",\"showlakes\":true,\"showland\":true,\"subunitcolor\":\"#C8D4E3\"},\"hoverlabel\":{\"align\":\"left\"},\"hovermode\":\"closest\",\"mapbox\":{\"style\":\"light\"},\"paper_bgcolor\":\"white\",\"plot_bgcolor\":\"white\",\"polar\":{\"angularaxis\":{\"gridcolor\":\"#EBF0F8\",\"linecolor\":\"#EBF0F8\",\"ticks\":\"\"},\"bgcolor\":\"white\",\"radialaxis\":{\"gridcolor\":\"#EBF0F8\",\"linecolor\":\"#EBF0F8\",\"ticks\":\"\"}},\"scene\":{\"xaxis\":{\"backgroundcolor\":\"white\",\"gridcolor\":\"#DFE8F3\",\"gridwidth\":2,\"linecolor\":\"#EBF0F8\",\"showbackground\":true,\"ticks\":\"\",\"zerolinecolor\":\"#EBF0F8\"},\"yaxis\":{\"backgroundcolor\":\"white\",\"gridcolor\":\"#DFE8F3\",\"gridwidth\":2,\"linecolor\":\"#EBF0F8\",\"showbackground\":true,\"ticks\":\"\",\"zerolinecolor\":\"#EBF0F8\"},\"zaxis\":{\"backgroundcolor\":\"white\",\"gridcolor\":\"#DFE8F3\",\"gridwidth\":2,\"linecolor\":\"#EBF0F8\",\"showbackground\":true,\"ticks\":\"\",\"zerolinecolor\":\"#EBF0F8\"}},\"shapedefaults\":{\"line\":{\"color\":\"#2a3f5f\"}},\"ternary\":{\"aaxis\":{\"gridcolor\":\"#DFE8F3\",\"linecolor\":\"#A2B1C6\",\"ticks\":\"\"},\"baxis\":{\"gridcolor\":\"#DFE8F3\",\"linecolor\":\"#A2B1C6\",\"ticks\":\"\"},\"bgcolor\":\"white\",\"caxis\":{\"gridcolor\":\"#DFE8F3\",\"linecolor\":\"#A2B1C6\",\"ticks\":\"\"}},\"title\":{\"x\":0.05},\"xaxis\":{\"automargin\":true,\"gridcolor\":\"#EBF0F8\",\"linecolor\":\"#EBF0F8\",\"ticks\":\"\",\"title\":{\"standoff\":15},\"zerolinecolor\":\"#EBF0F8\",\"zerolinewidth\":2},\"yaxis\":{\"automargin\":true,\"gridcolor\":\"#EBF0F8\",\"linecolor\":\"#EBF0F8\",\"ticks\":\"\",\"title\":{\"standoff\":15},\"zerolinecolor\":\"#EBF0F8\",\"zerolinewidth\":2}}},\"xaxis\":{\"anchor\":\"y\",\"domain\":[0.0,0.45],\"title\":{\"text\":\"Categor\\u00eda\"}},\"yaxis\":{\"anchor\":\"x\",\"domain\":[0.56,1.0],\"title\":{\"text\":\"Precio (USD)\"}},\"xaxis2\":{\"anchor\":\"y2\",\"domain\":[0.55,1.0],\"title\":{\"text\":\"Mes\"}},\"yaxis2\":{\"anchor\":\"x2\",\"domain\":[0.56,1.0],\"title\":{\"text\":\"Ventas (USD)\"}},\"xaxis3\":{\"anchor\":\"y3\",\"domain\":[0.0,0.45],\"title\":{\"text\":\"Categor\\u00eda\"}},\"yaxis3\":{\"anchor\":\"x3\",\"domain\":[0.0,0.44],\"title\":{\"text\":\"Ventas Totales\"}},\"polar\":{\"domain\":{\"x\":[0.55,1.0],\"y\":[0.0,0.44]}},\"annotations\":[{\"font\":{\"size\":16},\"showarrow\":false,\"text\":\"Distribuci\\u00f3n de Precios por Categor\\u00eda (Boxplot)\",\"x\":0.225,\"xanchor\":\"center\",\"xref\":\"paper\",\"y\":1.0,\"yanchor\":\"bottom\",\"yref\":\"paper\"},{\"font\":{\"size\":16},\"showarrow\":false,\"text\":\"Evoluci\\u00f3n Mensual de Ventas (L\\u00ednea)\",\"x\":0.775,\"xanchor\":\"center\",\"xref\":\"paper\",\"y\":1.0,\"yanchor\":\"bottom\",\"yref\":\"paper\"},{\"font\":{\"size\":16},\"showarrow\":false,\"text\":\"Ventas Totales por Categor\\u00eda (Barras)\",\"x\":0.225,\"xanchor\":\"center\",\"xref\":\"paper\",\"y\":0.44,\"yanchor\":\"bottom\",\"yref\":\"paper\"},{\"font\":{\"size\":16},\"showarrow\":false,\"text\":\"Satisfacci\\u00f3n Promedio por Regi\\u00f3n (Polar)\",\"x\":0.775,\"xanchor\":\"center\",\"xref\":\"paper\",\"y\":0.44,\"yanchor\":\"bottom\",\"yref\":\"paper\"}],\"title\":{\"font\":{\"size\":18,\"family\":\"Arial Black\"},\"text\":\"\\u003cb\\u003eDashboard Ejecutivo Interactivo - An\\u00e1lisis de Ventas\\u003c\\u002fb\\u003e\\u003cbr\\u003e\\u003csub\\u003ePlotly: M\\u00faltiples visualizaciones sincronizadas\\u003c\\u002fsub\\u003e\"},\"showlegend\":true,\"height\":900,\"hovermode\":\"closest\"},                        {\"responsive\": true}                    ).then(function(){\n",
       "                            \n",
       "var gd = document.getElementById('11da6389-5166-4a11-b3aa-37f29a6c5bdf');\n",
       "var x = new MutationObserver(function (mutations, observer) {{\n",
       "        var display = window.getComputedStyle(gd).display;\n",
       "        if (!display || display === 'none') {{\n",
       "            console.log([gd, 'removed!']);\n",
       "            Plotly.purge(gd);\n",
       "            observer.disconnect();\n",
       "        }}\n",
       "}});\n",
       "\n",
       "// Listen for the removal of the full notebook cells\n",
       "var notebookContainer = gd.closest('#notebook-container');\n",
       "if (notebookContainer) {{\n",
       "    x.observe(notebookContainer, {childList: true});\n",
       "}}\n",
       "\n",
       "// Listen for the clearing of the current output cell\n",
       "var outputEl = gd.closest('.output');\n",
       "if (outputEl) {{\n",
       "    x.observe(outputEl, {childList: true});\n",
       "}}\n",
       "\n",
       "                        })                };            </script>        </div>"
      ]
     },
     "metadata": {},
     "output_type": "display_data"
    },
    {
     "name": "stdout",
     "output_type": "stream",
     "text": [
      "Capacidades demostradas:\n",
      "- Subplots interactivos coordinados\n",
      "- Múltiples tipos de gráficos en un solo dashboard\n",
      "- Boxplot con estadísticas (media, desviación)\n",
      "- Gráfico polar para métricas cíclicas/regionales\n",
      "- Escalas de color automáticas\n",
      "- Exportable a HTML standalone para compartir\n",
      "\n",
      "Este tipo de dashboard es complejo/imposible con Matplotlib/Seaborn estáticos\n"
     ]
    }
   ],
   "source": [
    "# Dashboard con múltiples gráficos interactivos\n",
    "from plotly.subplots import make_subplots\n",
    "\n",
    "# Preparar datos agregados\n",
    "ventas_cat = df.groupby('Categoria')['Ventas'].sum().reset_index()\n",
    "satisfaccion_region = df.groupby('Region')['Satisfaccion'].mean().reset_index()\n",
    "\n",
    "# Crear subplots\n",
    "fig = make_subplots(\n",
    "    rows=2, cols=2,\n",
    "    subplot_titles=('Distribución de Precios por Categoría (Boxplot)',\n",
    "                    'Evolución Mensual de Ventas (Línea)',\n",
    "                    'Ventas Totales por Categoría (Barras)',\n",
    "                    'Satisfacción Promedio por Región (Polar)'),\n",
    "    specs=[[{\"type\": \"box\"}, {\"type\": \"scatter\"}],\n",
    "           [{\"type\": \"bar\"}, {\"type\": \"barpolar\"}]],\n",
    "    vertical_spacing=0.12,\n",
    "    horizontal_spacing=0.15\n",
    ")\n",
    "\n",
    "# 1. Boxplot interactivo\n",
    "for categoria in categorias:\n",
    "    data_cat = df[df['Categoria'] == categoria]\n",
    "    fig.add_trace(\n",
    "        go.Box(y=data_cat['Precio'], name=categoria, boxmean='sd'),\n",
    "        row=1, col=1\n",
    "    )\n",
    "\n",
    "# 2. Línea temporal\n",
    "fig.add_trace(\n",
    "    go.Scatter(x=ventas_mensuales['Mes'], y=ventas_mensuales['Ventas_Total'],\n",
    "               mode='lines+markers', name='Ventas Totales',\n",
    "               line=dict(width=3, color='royalblue'),\n",
    "               marker=dict(size=10, color='lightblue', line=dict(width=2, color='darkblue'))),\n",
    "    row=1, col=2\n",
    ")\n",
    "\n",
    "# 3. Barras\n",
    "fig.add_trace(\n",
    "    go.Bar(x=ventas_cat['Categoria'], y=ventas_cat['Ventas'],\n",
    "           marker=dict(color=ventas_cat['Ventas'], colorscale='Viridis', showscale=True),\n",
    "           text=ventas_cat['Ventas'].round(0), textposition='outside',\n",
    "           name='Ventas por Categoría'),\n",
    "    row=2, col=1\n",
    ")\n",
    "\n",
    "# 4. Gráfico polar\n",
    "fig.add_trace(\n",
    "    go.Barpolar(r=satisfaccion_region['Satisfaccion'], \n",
    "                theta=satisfaccion_region['Region'],\n",
    "                marker=dict(color=satisfaccion_region['Satisfaccion'], \n",
    "                           colorscale='RdYlGn', showscale=False),\n",
    "                name='Satisfacción'),\n",
    "    row=2, col=2\n",
    ")\n",
    "\n",
    "# Layout general\n",
    "fig.update_layout(\n",
    "    title_text=\"<b>Dashboard Ejecutivo Interactivo - Análisis de Ventas</b><br><sub>Plotly: Múltiples visualizaciones sincronizadas</sub>\",\n",
    "    title_font=dict(size=18, family='Arial Black'),\n",
    "    showlegend=True,\n",
    "    height=900,\n",
    "    hovermode='closest',\n",
    "    template='plotly_white',\n",
    "    legend=dict(\n",
    "        x=1.02,\n",
    "        y=1,\n",
    "        xanchor='left',\n",
    "        yanchor='top',\n",
    "        bgcolor='rgba(255, 255, 255, 0.9)',\n",
    "        bordercolor='gray',\n",
    "        borderwidth=1\n",
    "    )\n",
    ")\n",
    "\n",
    "# Etiquetas de ejes\n",
    "fig.update_xaxes(title_text=\"Categoría\", row=1, col=1)\n",
    "fig.update_yaxes(title_text=\"Precio (USD)\", row=1, col=1)\n",
    "fig.update_xaxes(title_text=\"Mes\", row=1, col=2)\n",
    "fig.update_yaxes(title_text=\"Ventas (USD)\", row=1, col=2)\n",
    "fig.update_xaxes(title_text=\"Categoría\", row=2, col=1)\n",
    "fig.update_yaxes(title_text=\"Ventas Totales\", row=2, col=1)\n",
    "\n",
    "fig.show()\n",
    "\n",
    "print(\"Capacidades demostradas:\")\n",
    "print(\"- Subplots interactivos coordinados\")\n",
    "print(\"- Múltiples tipos de gráficos en un solo dashboard\")\n",
    "print(\"- Boxplot con estadísticas (media, desviación)\")\n",
    "print(\"- Gráfico polar para métricas cíclicas/regionales\")\n",
    "print(\"- Escalas de color automáticas\")\n",
    "print(\"- Exportable a HTML standalone para compartir\")\n",
    "print(\"\\nEste tipo de dashboard es complejo/imposible con Matplotlib/Seaborn estáticos\")"
   ]
  },
  {
   "cell_type": "markdown",
   "id": "1fbc3eee",
   "metadata": {},
   "source": [
    "### Ejemplo 3: Visualización 3D Interactiva"
   ]
  },
  {
   "cell_type": "code",
   "execution_count": 21,
   "id": "cd61f791",
   "metadata": {},
   "outputs": [
    {
     "data": {
      "application/vnd.plotly.v1+json": {
       "config": {
        "plotlyServerURL": "https://plot.ly"
       },
       "data": [
        {
         "customdata": [
          [
           "Producto_1",
           "Norte"
          ],
          [
           "Producto_11",
           "Sur"
          ],
          [
           "Producto_15",
           "Este"
          ],
          [
           "Producto_17",
           "Sur"
          ],
          [
           "Producto_20",
           "Este"
          ],
          [
           "Producto_23",
           "Norte"
          ],
          [
           "Producto_29",
           "Este"
          ],
          [
           "Producto_30",
           "Sur"
          ],
          [
           "Producto_32",
           "Norte"
          ],
          [
           "Producto_33",
           "Sur"
          ],
          [
           "Producto_41",
           "Oeste"
          ],
          [
           "Producto_43",
           "Este"
          ],
          [
           "Producto_50",
           "Oeste"
          ],
          [
           "Producto_51",
           "Norte"
          ],
          [
           "Producto_52",
           "Norte"
          ],
          [
           "Producto_53",
           "Sur"
          ],
          [
           "Producto_57",
           "Sur"
          ],
          [
           "Producto_59",
           "Sur"
          ],
          [
           "Producto_62",
           "Sur"
          ],
          [
           "Producto_66",
           "Oeste"
          ],
          [
           "Producto_69",
           "Sur"
          ],
          [
           "Producto_70",
           "Este"
          ],
          [
           "Producto_78",
           "Este"
          ],
          [
           "Producto_79",
           "Sur"
          ],
          [
           "Producto_80",
           "Norte"
          ],
          [
           "Producto_89",
           "Sur"
          ],
          [
           "Producto_101",
           "Oeste"
          ],
          [
           "Producto_103",
           "Este"
          ],
          [
           "Producto_108",
           "Sur"
          ],
          [
           "Producto_122",
           "Sur"
          ],
          [
           "Producto_126",
           "Norte"
          ],
          [
           "Producto_128",
           "Oeste"
          ],
          [
           "Producto_133",
           "Sur"
          ],
          [
           "Producto_137",
           "Sur"
          ],
          [
           "Producto_143",
           "Sur"
          ],
          [
           "Producto_144",
           "Norte"
          ],
          [
           "Producto_145",
           "Oeste"
          ],
          [
           "Producto_146",
           "Norte"
          ],
          [
           "Producto_147",
           "Este"
          ],
          [
           "Producto_150",
           "Oeste"
          ],
          [
           "Producto_157",
           "Este"
          ],
          [
           "Producto_167",
           "Norte"
          ],
          [
           "Producto_170",
           "Norte"
          ],
          [
           "Producto_174",
           "Sur"
          ],
          [
           "Producto_175",
           "Oeste"
          ],
          [
           "Producto_186",
           "Norte"
          ],
          [
           "Producto_193",
           "Norte"
          ],
          [
           "Producto_195",
           "Oeste"
          ],
          [
           "Producto_200",
           "Este"
          ]
         ],
         "hovertemplate": "Categoria=Hogar<br>Precio (USD)=%{x}<br>Ventas (unidades)=%{y}<br>Satisfacción (1-5)=%{z}<br>Ingresos=%{marker.size}<br>Producto=%{customdata[0]}<br>Region=%{customdata[1]}<extra></extra>",
         "legendgroup": "Hogar",
         "marker": {
          "color": "rgb(127, 60, 141)",
          "line": {
           "color": "white",
           "width": 0.8
          },
          "size": {
           "bdata": "AdNgChouEUGevIsHFgEiQd3YElKNEfhABXtLdCuCMUHEgUBZ/E4pQZmNrzZ25B1BngcnsrKQDUEQcsXPdiXgQIi4jOHSbQJB8u41iUhDKEEHd/M0mqcSQTBNNjKh2dZAFTkjonHQMkHq9sKXxwkGQQoQwFMWYRxBeaX53/jzEkEmHcRnAPLuQHVSNiFK4xdB9rUfRxJzMEFF0ZMy7S0UQTxIEcmxrhlByvpc7Dat1UBFBvNXHdQdQWB+2BHPpzJBBvS9EhCDFEElng54JjUaQfv1LWYJmBZBuoBLkRhi5ED8gnFvSrI2QVYxUeY0oSRB0RgMWjimJkGlnY4uZPQnQbFOXCZjFhNBN66w+u0xNUH3/DW7/OEmQey9B5jRiCFBXc/xlNSxMEHmjVIUOeshQewTVM06wQdBe5svPygsLEEjLcf9ZcYdQSS0gSSVUjFBaycvHXjxCEEEyHPRwC4RQbj9e7zVLSJBLGKyQ3Km6kC5OQqQrBUnQVOyW55IPeZAbSNYyqz+A0E=",
           "dtype": "f8"
          },
          "sizemode": "area",
          "sizeref": 2548.4632879984206,
          "symbol": "circle"
         },
         "mode": "markers",
         "name": "Hogar",
         "scene": "scene",
         "showlegend": true,
         "type": "scatter3d",
         "x": {
          "bdata": "OAA16SKrTEDKeNkwEMVVQIjGomrU6jRA7vQGohshY0CFXjIcA7teQH78Bv5nymRAkep7gkPkT0AAAAAAAAAkQAwhxIe6ZjlAsnUJmkBwZkBGDtDDn9NMQAAAAAAAACRAMeDziw+3W0ApdKfu/RlTQLCbxWc4DFJAG4Gk/q+RS0DYYgWRZxxMQEm4iKq7UUlAasDBb6FuZkC1P8T4SLhOQNht1Qv47lBACHB62C34M0BnznL3q15bQPI9dslaP2VAsDdo9jpoU0DuIw213EddQFx4KZAnKl1AAAAAAAAAJEBehsT9z15sQB8Y8eYVwmhAgiBB0lPYW0CGyDUNel9lQDbmy77hsV1AErr+Cikja0DgdxdlYrtiQPYn+uL6DlZAeL8WAeXYXkD+s8u9NDBZQJyxraB9tz9A+Fy5HoAIY0A5bpdwFVFUQMJiV4aBf2FAdcfecs19TkCWuJK2H2NOQJi91qvY5V5AAAAAAAAAJEA03AcjGL9lQMC1ysef2DdAnGXOJK0ZMkA=",
          "dtype": "f8"
         },
         "y": {
          "bdata": "9I4q1zEts0AUJFPyBXe6QOVJo1YTabJAllJRo+FJvUDcwcVJolq6QCiQPhMoAadA0PN0OGmqrUCAtgjmitWpQDlyHSJqN7dAn1NXegVNsUCqviVuUbW0QPNwKyi0R6JAvDD4Xxi5xUDGOccnuHWiQGKjlkTGKLlA8HX7JMj/tUC0nZ6F/ZyRQJ2izuzdML5ANj9ksjF3t0CmDXqJMgW1QMJP4TtCRLhA1JDAyilekUAVVpaa9m+xQBS7LNqoGLxAwMNAji3psECmV+r7OaSsQGTv0I9ZyqhAlQDWDXpOsEDcCNZgpZm5QPCwpdz6qapA7fOZymoHukDo32RZxO6xQGFcdhO1kaRAy9asTC/+uECWgaWRoIuzQGJHQd3eb7lAqSfD6YpRwUAVC6vqv8O2QJmsf2eJ97dAUJE8zsyut0C4nOV/2nK3QPp1EmnYrb9Apz5dCmUtqkAWCyduNxiyQENNZL3X07JAVhv1AvVRtUA4HHfADfywQBbsPCcC2J1AzjJTk7iswUA=",
          "dtype": "f8"
         },
         "z": {
          "bdata": "d4To/MuWEUD26UzCFtMEQPnOoMjDDBJAAAAAAAAAFEAX0ps5d3EQQGvfhxt60hJAHwz36VIBEkAgYI0y7YQJQFNzlDG6IQxAkxMRc66iDkAkpXK8kNoRQNqfEqzscBJAVhXwuSryEUAAAAAAAAAUQAQKhhvCoxJAAAAAAAAAFEBkwslegRwBQDjtBdMVFwRAt8k0ks8GAUAVAF4Cy1wKQD3MQrce6w9A9TcdtMJfE0AAAAAAAAAUQA8cGgdcZg1A3kF942zVEEAAAAAAAAAUQFZJEzCKZQpA9lOhMJ8kDEBE/rGyMIINQAI8gLFvlRJAV28INrZDEEAS89RvYwARQDvKe4o6sgtAAAAAAAAAFEBmWHrkLG0KQMZHRnr2rgVAAAAAAAAAFEBTLmt39OMNQLXCK8zzIQ1AAAAAAAAAFEA7ZTY3U2QMQJBHg5466RNABjzNJJcBDEBcgO2yrPYDQFM6D3VSdRBASb1YZWN+EUDqAVGRbOQNQFs3nQjk9AxAgY2lwfyCEUA=",
          "dtype": "f8"
         }
        },
        {
         "customdata": [
          [
           "Producto_2",
           "Oeste"
          ],
          [
           "Producto_4",
           "Sur"
          ],
          [
           "Producto_5",
           "Norte"
          ],
          [
           "Producto_10",
           "Norte"
          ],
          [
           "Producto_13",
           "Sur"
          ],
          [
           "Producto_18",
           "Sur"
          ],
          [
           "Producto_22",
           "Norte"
          ],
          [
           "Producto_36",
           "Sur"
          ],
          [
           "Producto_38",
           "Oeste"
          ],
          [
           "Producto_48",
           "Este"
          ],
          [
           "Producto_54",
           "Norte"
          ],
          [
           "Producto_63",
           "Sur"
          ],
          [
           "Producto_72",
           "Este"
          ],
          [
           "Producto_73",
           "Norte"
          ],
          [
           "Producto_75",
           "Oeste"
          ],
          [
           "Producto_81",
           "Norte"
          ],
          [
           "Producto_83",
           "Este"
          ],
          [
           "Producto_84",
           "Oeste"
          ],
          [
           "Producto_97",
           "Oeste"
          ],
          [
           "Producto_106",
           "Este"
          ],
          [
           "Producto_113",
           "Sur"
          ],
          [
           "Producto_116",
           "Sur"
          ],
          [
           "Producto_123",
           "Este"
          ],
          [
           "Producto_127",
           "Este"
          ],
          [
           "Producto_129",
           "Sur"
          ],
          [
           "Producto_130",
           "Norte"
          ],
          [
           "Producto_132",
           "Este"
          ],
          [
           "Producto_134",
           "Este"
          ],
          [
           "Producto_140",
           "Este"
          ],
          [
           "Producto_142",
           "Este"
          ],
          [
           "Producto_158",
           "Este"
          ],
          [
           "Producto_163",
           "Norte"
          ],
          [
           "Producto_179",
           "Oeste"
          ],
          [
           "Producto_187",
           "Oeste"
          ],
          [
           "Producto_192",
           "Norte"
          ],
          [
           "Producto_199",
           "Norte"
          ]
         ],
         "hovertemplate": "Categoria=Deportes<br>Precio (USD)=%{x}<br>Ventas (unidades)=%{y}<br>Satisfacción (1-5)=%{z}<br>Ingresos=%{marker.size}<br>Producto=%{customdata[0]}<br>Region=%{customdata[1]}<extra></extra>",
         "legendgroup": "Deportes",
         "marker": {
          "color": "rgb(17, 165, 121)",
          "line": {
           "color": "white",
           "width": 0.8
          },
          "size": {
           "bdata": "zLBR0uZ2IEG/rR4nBDQWQb8in2gEQwFBNbKlV0YbF0EChDz0CjwQQT4jMG7YhCFBd0oo6n45EkEolC7IbpgwQdCAr8kfVSZBjQo2mtojKUE3AMMfrokrQa01oT2WCyRBleuQ97PbJEEkxGktBicaQdLdG3OcCiBB+jpCc+JkJkEkhdWeL5UYQW7ePJ21OwxBUTYlr/jBE0E37mte4NQpQV03WXtXYSxBqFs7LFiJG0Glws3bWpgWQSBCIkA5BxhBht5Q3zrPJEHtqYAYMbkyQbION3rAozVB+uadMxvvBEE86OGiTovnQA/iHjsehhFBhS1VuEmsGUHdd0nQOqkIQbVpEXo3Py1BsCrUTaa1E0GxVWkgqMYZQTfEdMGD6htB",
           "dtype": "f8"
          },
          "sizemode": "area",
          "sizeref": 2548.4632879984206,
          "symbol": "circle"
         },
         "mode": "markers",
         "name": "Deportes",
         "scene": "scene",
         "showlegend": true,
         "type": "scatter3d",
         "x": {
          "bdata": "e/gUYE3SWEB6u0hqr+FNQDiYABul9ztACNbjxbwIWkDSmXawla5SQGZ7Cuvz91tA69I1nuepYUCeDvnvSLNfQIhWuuRYlWNAoHQ+oI+QXEAKT1PzUwlmQKy8sQ/NE09ATau5mXS/YECGpel0E3dXQOOnFLVwYGFAcgeMA/hBXUAlCwryzRNlQFxf86EVh1BARtSwm3CCT0CXZOtEhRRiQCe3My4X61tAY1vEqh8BXEBIgZljoLVVQOenGB8OkVZAUoZFzlvCXkDlzg7bxClgQIxZb952CWRAsGmn66drP0A7N0WhFa1NQCCeehBhMktAfriToHeITUA7KgfCQllDQNzc3zS7q1xAUi6hRvXkZEAKNI1QHstmQKRVd3oS3FhA",
          "dtype": "f8"
         },
         "y": {
          "bdata": "I1GSmt85tUA2EL01+sa3QFsn3OwywLNAHOPTMstmrEDTw/Xazs6rQEqzc15MC7RAwcBADBGCoEBanwgHmMDAQKPxF8f/PrJA3t1yP9spvEC6onYEkP6zQPqT0CPwo8RAm4aTdkLts0BhjB8HFtWxQFCNwKmBiq1ARpZFoDl+uEBMuWS0NamiQKUuad/zVKtAQkcv17MQtEAu7Go+Ddy2QAvZ6xDFQ8BAyPHXfyF3r0ApygebGaewQPybPTNKCbFALvmHnR+mtUAgRLt9zojCQDNvedmfR8FAbkl+3PBRtUA4yGzCS2OJQJA4O4FonrRAwaPN80bRu0BA4l5imWS0QPFJ5DVOUsBA+i0Mo3ovnkDURkmF+BeiQO4f6BeX97FA",
          "dtype": "f8"
         },
         "z": {
          "bdata": "UCACEL3BDkCbAFdYzmsBQB9lN49MjRJAHkpI6mypEkDXCpCTMD4NQDALzdze2RBAGhYPitgIEEBJFP4wZw8SQAV+fzQ2Ew9AlCRcLp+8B0D1mPAWTnMNQP7DEh+aWQFAAAAAAAAAFEBkSiIOsBoTQO73DTAUvw1AzsIiax2iAUAAAAAAAAAUQO9DXMtTBgpA050c/ilwEkByDBKxWtQMQAAAAAAAABRA4ZDrxyH3C0Bc7SNXj7ASQL2Ps+o1xw5AKlparU5bCEDT4LowEeMQQISm0GYa5hJAOpldDKvOC0CIeuyqaJ0TQG6l5FskLApA5BexcrRT8j8I6tugU7IKQMe6YGemChBAAAAAAAAAFEBObU5gncAMQLy4zkjApg1A",
          "dtype": "f8"
         }
        },
        {
         "customdata": [
          [
           "Producto_3",
           "Norte"
          ],
          [
           "Producto_7",
           "Sur"
          ],
          [
           "Producto_8",
           "Norte"
          ],
          [
           "Producto_9",
           "Oeste"
          ],
          [
           "Producto_12",
           "Oeste"
          ],
          [
           "Producto_26",
           "Oeste"
          ],
          [
           "Producto_27",
           "Este"
          ],
          [
           "Producto_31",
           "Oeste"
          ],
          [
           "Producto_35",
           "Norte"
          ],
          [
           "Producto_37",
           "Norte"
          ],
          [
           "Producto_55",
           "Este"
          ],
          [
           "Producto_90",
           "Oeste"
          ],
          [
           "Producto_91",
           "Este"
          ],
          [
           "Producto_93",
           "Norte"
          ],
          [
           "Producto_94",
           "Sur"
          ],
          [
           "Producto_96",
           "Este"
          ],
          [
           "Producto_107",
           "Norte"
          ],
          [
           "Producto_109",
           "Sur"
          ],
          [
           "Producto_110",
           "Este"
          ],
          [
           "Producto_112",
           "Norte"
          ],
          [
           "Producto_114",
           "Norte"
          ],
          [
           "Producto_118",
           "Oeste"
          ],
          [
           "Producto_124",
           "Este"
          ],
          [
           "Producto_131",
           "Norte"
          ],
          [
           "Producto_135",
           "Sur"
          ],
          [
           "Producto_136",
           "Sur"
          ],
          [
           "Producto_148",
           "Norte"
          ],
          [
           "Producto_155",
           "Norte"
          ],
          [
           "Producto_160",
           "Norte"
          ],
          [
           "Producto_161",
           "Norte"
          ],
          [
           "Producto_165",
           "Oeste"
          ],
          [
           "Producto_168",
           "Este"
          ],
          [
           "Producto_177",
           "Este"
          ],
          [
           "Producto_182",
           "Oeste"
          ],
          [
           "Producto_190",
           "Oeste"
          ],
          [
           "Producto_196",
           "Norte"
          ],
          [
           "Producto_197",
           "Oeste"
          ]
         ],
         "hovertemplate": "Categoria=Alimentos<br>Precio (USD)=%{x}<br>Ventas (unidades)=%{y}<br>Satisfacción (1-5)=%{z}<br>Ingresos=%{marker.size}<br>Producto=%{customdata[0]}<br>Region=%{customdata[1]}<extra></extra>",
         "legendgroup": "Alimentos",
         "marker": {
          "color": "rgb(57, 105, 172)",
          "line": {
           "color": "white",
           "width": 0.8
          },
          "size": {
           "bdata": "vvGWpRc+JEGEtaiFqyQzQaRrVeIJgyVBWfpG0qPmEUEGB+YgoisuQWqGHd7DWRpB+f+YbrjzFEEdkZNMwtscQXAGtc5sGStBiaBT0RSVKkGZ2ImyiqIoQQrbLLpqSxNBHrn4AY5YJkFJ54sEsuYcQVDNRQ0NxidBryj6SPWQIkGM0n2CIi0RQdQkdJ7taylBcKN/blOqHUGP76XQMaQmQWO53TGjHh5BtEVszhiNKUG2ZFX9G44kQRUpkXZd7/NAsFQYrsliIEGdn8KZ0nPgQIGBAgK6PCRBbM/xbtwMKUGqnKZlETIRQU3nNBappidB3AJv4I/LKEGpxmjzAS4TQXzYgIXW2QlBmhb3xns0CkFh6CU9UjMcQRV/idNPewFBE8P9eG+lI0E=",
           "dtype": "f8"
          },
          "sizemode": "area",
          "sizeref": 2548.4632879984206,
          "symbol": "circle"
         },
         "mode": "markers",
         "name": "Alimentos",
         "scene": "scene",
         "showlegend": true,
         "type": "scatter3d",
         "x": {
          "bdata": "fwaKkxqGW0AjzVjU3dVnQHQixE6qDl5AheeXdjsgWkCxf7tbkuVjQNBO+A0Vm1RAU66o8DaESECksFIsjtJRQJv1K80XjGBAMeVZG0bAYUD30skxHJZdQP0V3oZycmhASI1CL4X+XEDjvVom1HlmQJOAD7KvQWBAIEVGeI35ZECWV6WLkvVRQJaBXabeOmVAxwdeaEkgVEAPjF5vrZBfQEVXKF0+hGFA3OOcpOxTaUBCMzvFY69fQETYqnWK1zdAz8OiGE0QX0AAAAAAAAAkQFbA5lYkTV9AQU4dgqdpYUA5S+vlcpRVQIB26QPOxmhAjiVvzgI6W0CTop1Q0dxZQNSz5GV7wURADmhegF65QUBN1eV+JTNRQETKCPh1mkVA0TyJ9zDTW0A=",
          "dtype": "f8"
         },
         "y": {
          "bdata": "lgxz89iIt0B2Qd15WLO5QLjG7Zr65rZAkxhxpf3spUDoLO1c90K4QFHJ4/z0dbRA2aGUofhYu0CtibExTui5QPwX393+M7pAsm2lw8n1t0ACpoBBBqW6QJwpETZ0QZlAwFLKO5ipuECe8O0A8JKkQOneYsb9ZbdANm/WnkxTrECyzS+125quQNnAfWu2KLNAo0T2j2OVt0AjpuORC/S2QEai6eQNg6tAxAu85h0ksED2II1ZZ8K0QBiWz6SXwapA9NHHNzrhsEAuzJ2P6lKqQDU05QtdsLRAzdprJZQEt0DwyNDAqX+pQKnJXHvZi65A/nyLNmwkvUD1yVHbMrunQOHRLOh87bNAzFkXveunt0BShY60uju6QA/V3UIP5alAEy+SchWYtkA=",
          "dtype": "f8"
         },
         "z": {
          "bdata": "sDBnHBmuDkAAAAAAAAAUQM8EXzrthQ9A5cU8IvLPEUAAAAAAAAAUQJtn4SDKTwJAAAAAAAAAFEAAAAAAAAAUQH6zjsHhcRFAyvLOJk0wEkDpUMa/9MwQQAAAAAAAABRAuyVALkRMEkBQkXDwUHYIQAXGQZx1pQtAhznqJqogDEC3fc/9HFcRQIk4b8eqGAhAmFgkv9D2CECZpQEW400HQMmMUY3ZlAtA8vTVrpvJEEBCoQhn78APQNk5+bUhZwtAGntO595sEUBrk/hypAsQQCBv7rHgZwJAAAAAAAAAFEDkOShZNsMQQOjbzmDZXQxAiDqU2yA0EEADfAiZlhUCQNMBIi4fwhJAOY26IZE8CkANgMfdvmQSQEV4pv0MQBNAzPt54zb8C0A=",
          "dtype": "f8"
         }
        },
        {
         "customdata": [
          [
           "Producto_6",
           "Norte"
          ],
          [
           "Producto_14",
           "Sur"
          ],
          [
           "Producto_16",
           "Este"
          ],
          [
           "Producto_21",
           "Este"
          ],
          [
           "Producto_28",
           "Este"
          ],
          [
           "Producto_40",
           "Oeste"
          ],
          [
           "Producto_44",
           "Norte"
          ],
          [
           "Producto_45",
           "Sur"
          ],
          [
           "Producto_47",
           "Norte"
          ],
          [
           "Producto_49",
           "Este"
          ],
          [
           "Producto_58",
           "Oeste"
          ],
          [
           "Producto_60",
           "Sur"
          ],
          [
           "Producto_61",
           "Oeste"
          ],
          [
           "Producto_64",
           "Norte"
          ],
          [
           "Producto_65",
           "Norte"
          ],
          [
           "Producto_67",
           "Norte"
          ],
          [
           "Producto_68",
           "Norte"
          ],
          [
           "Producto_74",
           "Norte"
          ],
          [
           "Producto_76",
           "Oeste"
          ],
          [
           "Producto_98",
           "Oeste"
          ],
          [
           "Producto_99",
           "Este"
          ],
          [
           "Producto_104",
           "Sur"
          ],
          [
           "Producto_117",
           "Este"
          ],
          [
           "Producto_120",
           "Norte"
          ],
          [
           "Producto_121",
           "Norte"
          ],
          [
           "Producto_138",
           "Norte"
          ],
          [
           "Producto_139",
           "Oeste"
          ],
          [
           "Producto_149",
           "Norte"
          ],
          [
           "Producto_166",
           "Sur"
          ],
          [
           "Producto_173",
           "Este"
          ],
          [
           "Producto_176",
           "Oeste"
          ],
          [
           "Producto_184",
           "Sur"
          ],
          [
           "Producto_185",
           "Sur"
          ],
          [
           "Producto_191",
           "Norte"
          ],
          [
           "Producto_194",
           "Sur"
          ]
         ],
         "hovertemplate": "Categoria=Ropa<br>Precio (USD)=%{x}<br>Ventas (unidades)=%{y}<br>Satisfacción (1-5)=%{z}<br>Ingresos=%{marker.size}<br>Producto=%{customdata[0]}<br>Region=%{customdata[1]}<extra></extra>",
         "legendgroup": "Ropa",
         "marker": {
          "color": "rgb(242, 183, 1)",
          "line": {
           "color": "white",
           "width": 0.8
          },
          "size": {
           "bdata": "4eTmVOELEkEX7b7GiIIBQTkDGMq3xiNBTz/tJDENIkGa17n+ZOwmQSo9MSOjA+BAQvfMhgy8J0HQi/PT9cPyQIFqvZphOBFB5hgDSmQ7HUH1ImXYEc4RQf2dCTqC6CBBWokt7pGIBEFahOsZaPMQQePwjBxCfARBu2II08OKHEGPFwvk4JsZQZMbzmwZXiBB3gLVY1wkFkFC+U6vTDwRQWIdWE6d2R5BuoN+FyhcIEFVZncLCaIxQT8nnNvFIhJBKrsU4LQW50CrabDpPv4QQVV2Xa1WQCZBN+PT11jGIEF8irU9dQkOQYRUibe1MCZBfh2JVxwiIEFzvyU1W0saQQUKHDie2CFBF8Arttl0G0HfBMd6uH9BQQ==",
           "dtype": "f8"
          },
          "sizemode": "area",
          "sizeref": 2548.4632879984206,
          "symbol": "circle"
         },
         "mode": "markers",
         "name": "Ropa",
         "scene": "scene",
         "showlegend": true,
         "type": "scatter3d",
         "x": {
          "bdata": "SaC5BdFdXEByXo6pkhRAQL9XOS/U/FlAjjzxJuFTW0Awm74SIrNhQPhLlLh9AD1Ajn+UhVykY0AAAAAAAAAkQOLd02gs5lZAmkYSWdsZU0A+bMA+fBBWQADqVdZG3FJA2Fp/4J3FQ0BB+0rbfh9MQPDe5h8Y3EBArQXcTVfQUkB4MbFZqmFYQBgf76s6jmBACZZ6tHTjWkARvyyhaOJQQCK/pa93yUxAeIZP5o6lVUDxm88wXaVhQE9ipcXZU1NAAAAAAAAAJEBicYAYIXRGQB5QHFHekmZA5s0L2qO1UkAD8paRCHJZQHY2bGGzAF5AwEtJP7SRYEDFNxICaJVbQAA7nSSxoFRA503bav4EXkAYX9R40eloQA==",
          "dtype": "f8"
         },
         "y": {
          "bdata": "PEXe2KZbpEDJCwXpIWyxQAL64+4BWrhAVlFd3kwjtUBID0J717i0QFJVVz1wq5FABlVXvGxVs0DnEuwfVga+QEkjj+VrEKhA9KgcCHt8uEAugybkkdKpQEK9eswOsLxAV/uS+cKdsEDnnP1boEmzQHQKHFfVcLNAR180kPNFuECh7iuYMs6wQB4xqXn4oq9AnvqOZepZqkAcY8KtLlWwQCEhMTOMJcFAJLO6jEkvuECat7yt9vm/QOVwqnDkBq5A7shDs5B4skCG4pITyze4QAr8NOkBi69AtaXeHt+wvECizctAGuOiQDgsYvveqrdA3y9T03oor0DgeUgnG4GuQPKUMO5Zr7tAktWlipFErUC0KDkx/HnGQA==",
          "dtype": "f8"
         },
         "z": {
          "bdata": "Ro2gf/N2EEANEUYiJpURQPmubMQOyQpAyIx8TRNyEkAAAAAAAAAUQGoBQo4Ayg5AwVdaUJ8KEkAPA3ppHisNQETKUdtDFxJAvHMzdwE/DkAAAAAAAAAUQEvZXXyxMBNAHln6EKcyEkAAAAAAAAAUQGREAK4Z4xNAUzirLiFbCkAKy+YN7aMRQGh4bBB1ThJAr3k5WCdHDUDXK08lNa4QQC4RYSLxxhJAAAAAAAAAFEBczh/xdyQKQB7Q/3G2ag5AF7GszriUD0DFPk/0jJIFQAyHLtX9WRBAlGY7CgPTBkAfekb2egsTQCGs106mmRJAJhuN6GohE0BU9Rz78WoLQAdeytlLNBJAEuRzM2E3E0CdXGY3XGEPQA==",
          "dtype": "f8"
         }
        },
        {
         "customdata": [
          [
           "Producto_19",
           "Sur"
          ],
          [
           "Producto_24",
           "Sur"
          ],
          [
           "Producto_25",
           "Oeste"
          ],
          [
           "Producto_34",
           "Norte"
          ],
          [
           "Producto_39",
           "Norte"
          ],
          [
           "Producto_42",
           "Oeste"
          ],
          [
           "Producto_46",
           "Sur"
          ],
          [
           "Producto_56",
           "Norte"
          ],
          [
           "Producto_71",
           "Norte"
          ],
          [
           "Producto_77",
           "Oeste"
          ],
          [
           "Producto_82",
           "Norte"
          ],
          [
           "Producto_85",
           "Sur"
          ],
          [
           "Producto_86",
           "Este"
          ],
          [
           "Producto_87",
           "Oeste"
          ],
          [
           "Producto_88",
           "Este"
          ],
          [
           "Producto_92",
           "Sur"
          ],
          [
           "Producto_95",
           "Norte"
          ],
          [
           "Producto_100",
           "Oeste"
          ],
          [
           "Producto_102",
           "Norte"
          ],
          [
           "Producto_105",
           "Norte"
          ],
          [
           "Producto_111",
           "Sur"
          ],
          [
           "Producto_115",
           "Norte"
          ],
          [
           "Producto_119",
           "Sur"
          ],
          [
           "Producto_125",
           "Norte"
          ],
          [
           "Producto_141",
           "Oeste"
          ],
          [
           "Producto_151",
           "Sur"
          ],
          [
           "Producto_152",
           "Norte"
          ],
          [
           "Producto_153",
           "Sur"
          ],
          [
           "Producto_154",
           "Este"
          ],
          [
           "Producto_156",
           "Oeste"
          ],
          [
           "Producto_159",
           "Oeste"
          ],
          [
           "Producto_162",
           "Este"
          ],
          [
           "Producto_164",
           "Sur"
          ],
          [
           "Producto_169",
           "Oeste"
          ],
          [
           "Producto_171",
           "Norte"
          ],
          [
           "Producto_172",
           "Este"
          ],
          [
           "Producto_178",
           "Sur"
          ],
          [
           "Producto_180",
           "Este"
          ],
          [
           "Producto_181",
           "Norte"
          ],
          [
           "Producto_183",
           "Sur"
          ],
          [
           "Producto_188",
           "Oeste"
          ],
          [
           "Producto_189",
           "Norte"
          ],
          [
           "Producto_198",
           "Sur"
          ]
         ],
         "hovertemplate": "Categoria=Electrónica<br>Precio (USD)=%{x}<br>Ventas (unidades)=%{y}<br>Satisfacción (1-5)=%{z}<br>Ingresos=%{marker.size}<br>Producto=%{customdata[0]}<br>Region=%{customdata[1]}<extra></extra>",
         "legendgroup": "Electrónica",
         "marker": {
          "color": "rgb(231, 63, 116)",
          "line": {
           "color": "white",
           "width": 0.8
          },
          "size": {
           "bdata": "dAj9qWDXIkGwYQ5Iba8UQUj3ake01s5AcGcHSnnkKkHE3Mpe3QEVQZrgx9y+ox1BWG0EK6YBHEFS6XzQHKggQR63SHOvzgBB/8Kgxa7B0kDt1kuITjYRQUe4L0NxYRxBLqa7TqUfCkFBGuq+tYIXQRIxZFMSjStBNIeQT1R9DEEC2LMUn1ETQc2fO20NsAdBf6yX6XS+FUFSCuT76GXyQISrQOeBRCRBfebC2qz/HUFdfLbFfUgYQRnH1u5bbCxBdr17l0VAIEFsFByVB34hQcc18kFUSilBxr+5h1CmLkGNmfHAVs4tQXQPcrvqASNB6Bk8y1K6DkHkKxIuLSALQeK5AhxuyxlBTaLz+JVSFUGrdNWQ3K05QVqmqrPV6CBBxhs73obs+EDEAZhrQhT3QI5w7zbqWSxB03yqCOng9kDx63LNdDIIQVOOHYeBbjlBP24bqx2WJEE=",
           "dtype": "f8"
          },
          "sizemode": "area",
          "sizeref": 2548.4632879984206,
          "symbol": "circle"
         },
         "mode": "markers",
         "name": "Electrónica",
         "scene": "scene",
         "showlegend": true,
         "type": "scatter3d",
         "x": {
          "bdata": "SyS5fWsIVUAC2J025yNKQAAAAAAAACRAITPOFkHlXkDsKQWa0EBSQJyKG4Izb1hA2oxSoIw+YEDfQXLUY55bQGA/2yZxRThAPrV9T+w0Q0BQBVsZ6dNYQO1Ln6emtWNAkL0RS/dPVECl7oeiu1JQQCi2MF+NX1pAnHdlY31qW0BMbbzFUfJQQO6WSiUImEpAMHn7i7bGVUAW97BHroZSQN5385xlr2NAvK813AatWUADitbr0iNcQNzRr5pzaWhAJbyCc1wAYEBtZimlPw1WQKAgdwFbClhAetcHrq4EZ0ASA1hunmJrQC50CtUmaVVAf9ZJ4TwvUUA/RdoB5IhWQGUI1C9UhVlAM27hx/ZNYUAaHSLHKqFnQHD1TnHvJ1xA6FDkrqALMUC+VbjC7+NSQPBT4qq/P1xAuJdBOIb5NUAgMNSo/k5BQB6Yf+ZRlWxAwrDxjJi/YUA=",
          "dtype": "f8"
         },
         "y": {
          "bdata": "Qo2zUGqqvED3QoQ0e1K5QKCSVWzDq5hA6AB6vpXau0BnvTSkBGqyQEVWZ/ORaLNA3ybaNM+Vq0CEzeqdjEyzQJFZxCrMKLZAAAAAAABAf0B6xR9PMi+mQK3uJiIACqdAmE0gcNeTpEDq1cVOjAu3QHYIzaHstsBAuCObj2WgoEArhDN6YT2yQISUwPPHgKxATWGjB97zr0CQNfM5ZcePQMrSr0UyebBAKW7AbZyxskD21pQvO52rQO/nNp0NobJANGK3suc/sEBsg0obNmK5QHYlv/L01MBAClVU9vdNtUDFhl9SE2qxQP5M/RB8aLxAXC7exhmcrEA9zfOFeEKjQKk5oADzK7BAYK7BmxO3o0Ak47KzR2PBQJLO32jUN7NAM1oHJTNlt0DYo4m+P4yTQGbdy//RDsBAllaNdHmosEDecgyjI162QCTS5Tm+eLxAplW/EvOOskA=",
          "dtype": "f8"
         },
         "z": {
          "bdata": "prUlFj+iDkCQOqFngTcFQPr04aWGNgtA1b6AlLCCEEAZT7rsTiMSQHqHB6VhlxFAbZrQfsZ3EUBYO4LwDpQSQPrr02jfiBFAtd1VtTKrD0Ayc+xcnykSQAAAAAAAABRAWGn2n0qVEEAgfSvXBBH/Px8Ts4pViA1AAAAAAAAAFEBGkbi4X0AFQJStEI2dAQpA16363p2nEECZhERyCfwLQMShDbKJuBFAybLD0s34EUDrlOr6nl0TQHowIg1nKQ1Av+paj31MDECaB4rdTfgQQKDpcPSYuxNAf+b2OPZTE0AKCntvlZgJQAAAAAAAABRAvcdXmtu3DUBXJfzlDpUOQMRmLc8A8xJAsTSXj5MRC0AAAAAAAAAUQGXZuLAQehBANPiHVrD+EUAzjCbgbzIQQIKr57DAKQVA0Ko/dTC9EEDmsY5kABETQEua/yssuhBAAAAAAAAAFEA=",
          "dtype": "f8"
         }
        }
       ],
       "layout": {
        "font": {
         "size": 12
        },
        "height": 700,
        "legend": {
         "itemsizing": "constant",
         "title": {
          "text": "Categoria"
         },
         "tracegroupgap": 0
        },
        "scene": {
         "domain": {
          "x": [
           0,
           1
          ],
          "y": [
           0,
           1
          ]
         },
         "xaxis": {
          "backgroundcolor": "rgb(230, 230,230)",
          "gridcolor": "white",
          "showbackground": true,
          "title": {
           "text": "Precio (USD)"
          }
         },
         "yaxis": {
          "backgroundcolor": "rgb(230, 230,230)",
          "gridcolor": "white",
          "showbackground": true,
          "title": {
           "text": "Ventas (unidades)"
          }
         },
         "zaxis": {
          "backgroundcolor": "rgb(230, 230,230)",
          "gridcolor": "white",
          "showbackground": true,
          "title": {
           "text": "Satisfacción (1-5)"
          }
         }
        },
        "template": {
         "data": {
          "bar": [
           {
            "error_x": {
             "color": "#2a3f5f"
            },
            "error_y": {
             "color": "#2a3f5f"
            },
            "marker": {
             "line": {
              "color": "#E5ECF6",
              "width": 0.5
             },
             "pattern": {
              "fillmode": "overlay",
              "size": 10,
              "solidity": 0.2
             }
            },
            "type": "bar"
           }
          ],
          "barpolar": [
           {
            "marker": {
             "line": {
              "color": "#E5ECF6",
              "width": 0.5
             },
             "pattern": {
              "fillmode": "overlay",
              "size": 10,
              "solidity": 0.2
             }
            },
            "type": "barpolar"
           }
          ],
          "carpet": [
           {
            "aaxis": {
             "endlinecolor": "#2a3f5f",
             "gridcolor": "white",
             "linecolor": "white",
             "minorgridcolor": "white",
             "startlinecolor": "#2a3f5f"
            },
            "baxis": {
             "endlinecolor": "#2a3f5f",
             "gridcolor": "white",
             "linecolor": "white",
             "minorgridcolor": "white",
             "startlinecolor": "#2a3f5f"
            },
            "type": "carpet"
           }
          ],
          "choropleth": [
           {
            "colorbar": {
             "outlinewidth": 0,
             "ticks": ""
            },
            "type": "choropleth"
           }
          ],
          "contour": [
           {
            "colorbar": {
             "outlinewidth": 0,
             "ticks": ""
            },
            "colorscale": [
             [
              0,
              "#0d0887"
             ],
             [
              0.1111111111111111,
              "#46039f"
             ],
             [
              0.2222222222222222,
              "#7201a8"
             ],
             [
              0.3333333333333333,
              "#9c179e"
             ],
             [
              0.4444444444444444,
              "#bd3786"
             ],
             [
              0.5555555555555556,
              "#d8576b"
             ],
             [
              0.6666666666666666,
              "#ed7953"
             ],
             [
              0.7777777777777778,
              "#fb9f3a"
             ],
             [
              0.8888888888888888,
              "#fdca26"
             ],
             [
              1,
              "#f0f921"
             ]
            ],
            "type": "contour"
           }
          ],
          "contourcarpet": [
           {
            "colorbar": {
             "outlinewidth": 0,
             "ticks": ""
            },
            "type": "contourcarpet"
           }
          ],
          "heatmap": [
           {
            "colorbar": {
             "outlinewidth": 0,
             "ticks": ""
            },
            "colorscale": [
             [
              0,
              "#0d0887"
             ],
             [
              0.1111111111111111,
              "#46039f"
             ],
             [
              0.2222222222222222,
              "#7201a8"
             ],
             [
              0.3333333333333333,
              "#9c179e"
             ],
             [
              0.4444444444444444,
              "#bd3786"
             ],
             [
              0.5555555555555556,
              "#d8576b"
             ],
             [
              0.6666666666666666,
              "#ed7953"
             ],
             [
              0.7777777777777778,
              "#fb9f3a"
             ],
             [
              0.8888888888888888,
              "#fdca26"
             ],
             [
              1,
              "#f0f921"
             ]
            ],
            "type": "heatmap"
           }
          ],
          "histogram": [
           {
            "marker": {
             "pattern": {
              "fillmode": "overlay",
              "size": 10,
              "solidity": 0.2
             }
            },
            "type": "histogram"
           }
          ],
          "histogram2d": [
           {
            "colorbar": {
             "outlinewidth": 0,
             "ticks": ""
            },
            "colorscale": [
             [
              0,
              "#0d0887"
             ],
             [
              0.1111111111111111,
              "#46039f"
             ],
             [
              0.2222222222222222,
              "#7201a8"
             ],
             [
              0.3333333333333333,
              "#9c179e"
             ],
             [
              0.4444444444444444,
              "#bd3786"
             ],
             [
              0.5555555555555556,
              "#d8576b"
             ],
             [
              0.6666666666666666,
              "#ed7953"
             ],
             [
              0.7777777777777778,
              "#fb9f3a"
             ],
             [
              0.8888888888888888,
              "#fdca26"
             ],
             [
              1,
              "#f0f921"
             ]
            ],
            "type": "histogram2d"
           }
          ],
          "histogram2dcontour": [
           {
            "colorbar": {
             "outlinewidth": 0,
             "ticks": ""
            },
            "colorscale": [
             [
              0,
              "#0d0887"
             ],
             [
              0.1111111111111111,
              "#46039f"
             ],
             [
              0.2222222222222222,
              "#7201a8"
             ],
             [
              0.3333333333333333,
              "#9c179e"
             ],
             [
              0.4444444444444444,
              "#bd3786"
             ],
             [
              0.5555555555555556,
              "#d8576b"
             ],
             [
              0.6666666666666666,
              "#ed7953"
             ],
             [
              0.7777777777777778,
              "#fb9f3a"
             ],
             [
              0.8888888888888888,
              "#fdca26"
             ],
             [
              1,
              "#f0f921"
             ]
            ],
            "type": "histogram2dcontour"
           }
          ],
          "mesh3d": [
           {
            "colorbar": {
             "outlinewidth": 0,
             "ticks": ""
            },
            "type": "mesh3d"
           }
          ],
          "parcoords": [
           {
            "line": {
             "colorbar": {
              "outlinewidth": 0,
              "ticks": ""
             }
            },
            "type": "parcoords"
           }
          ],
          "pie": [
           {
            "automargin": true,
            "type": "pie"
           }
          ],
          "scatter": [
           {
            "fillpattern": {
             "fillmode": "overlay",
             "size": 10,
             "solidity": 0.2
            },
            "type": "scatter"
           }
          ],
          "scatter3d": [
           {
            "line": {
             "colorbar": {
              "outlinewidth": 0,
              "ticks": ""
             }
            },
            "marker": {
             "colorbar": {
              "outlinewidth": 0,
              "ticks": ""
             }
            },
            "type": "scatter3d"
           }
          ],
          "scattercarpet": [
           {
            "marker": {
             "colorbar": {
              "outlinewidth": 0,
              "ticks": ""
             }
            },
            "type": "scattercarpet"
           }
          ],
          "scattergeo": [
           {
            "marker": {
             "colorbar": {
              "outlinewidth": 0,
              "ticks": ""
             }
            },
            "type": "scattergeo"
           }
          ],
          "scattergl": [
           {
            "marker": {
             "colorbar": {
              "outlinewidth": 0,
              "ticks": ""
             }
            },
            "type": "scattergl"
           }
          ],
          "scattermap": [
           {
            "marker": {
             "colorbar": {
              "outlinewidth": 0,
              "ticks": ""
             }
            },
            "type": "scattermap"
           }
          ],
          "scattermapbox": [
           {
            "marker": {
             "colorbar": {
              "outlinewidth": 0,
              "ticks": ""
             }
            },
            "type": "scattermapbox"
           }
          ],
          "scatterpolar": [
           {
            "marker": {
             "colorbar": {
              "outlinewidth": 0,
              "ticks": ""
             }
            },
            "type": "scatterpolar"
           }
          ],
          "scatterpolargl": [
           {
            "marker": {
             "colorbar": {
              "outlinewidth": 0,
              "ticks": ""
             }
            },
            "type": "scatterpolargl"
           }
          ],
          "scatterternary": [
           {
            "marker": {
             "colorbar": {
              "outlinewidth": 0,
              "ticks": ""
             }
            },
            "type": "scatterternary"
           }
          ],
          "surface": [
           {
            "colorbar": {
             "outlinewidth": 0,
             "ticks": ""
            },
            "colorscale": [
             [
              0,
              "#0d0887"
             ],
             [
              0.1111111111111111,
              "#46039f"
             ],
             [
              0.2222222222222222,
              "#7201a8"
             ],
             [
              0.3333333333333333,
              "#9c179e"
             ],
             [
              0.4444444444444444,
              "#bd3786"
             ],
             [
              0.5555555555555556,
              "#d8576b"
             ],
             [
              0.6666666666666666,
              "#ed7953"
             ],
             [
              0.7777777777777778,
              "#fb9f3a"
             ],
             [
              0.8888888888888888,
              "#fdca26"
             ],
             [
              1,
              "#f0f921"
             ]
            ],
            "type": "surface"
           }
          ],
          "table": [
           {
            "cells": {
             "fill": {
              "color": "#EBF0F8"
             },
             "line": {
              "color": "white"
             }
            },
            "header": {
             "fill": {
              "color": "#C8D4E3"
             },
             "line": {
              "color": "white"
             }
            },
            "type": "table"
           }
          ]
         },
         "layout": {
          "annotationdefaults": {
           "arrowcolor": "#2a3f5f",
           "arrowhead": 0,
           "arrowwidth": 1
          },
          "autotypenumbers": "strict",
          "coloraxis": {
           "colorbar": {
            "outlinewidth": 0,
            "ticks": ""
           }
          },
          "colorscale": {
           "diverging": [
            [
             0,
             "#8e0152"
            ],
            [
             0.1,
             "#c51b7d"
            ],
            [
             0.2,
             "#de77ae"
            ],
            [
             0.3,
             "#f1b6da"
            ],
            [
             0.4,
             "#fde0ef"
            ],
            [
             0.5,
             "#f7f7f7"
            ],
            [
             0.6,
             "#e6f5d0"
            ],
            [
             0.7,
             "#b8e186"
            ],
            [
             0.8,
             "#7fbc41"
            ],
            [
             0.9,
             "#4d9221"
            ],
            [
             1,
             "#276419"
            ]
           ],
           "sequential": [
            [
             0,
             "#0d0887"
            ],
            [
             0.1111111111111111,
             "#46039f"
            ],
            [
             0.2222222222222222,
             "#7201a8"
            ],
            [
             0.3333333333333333,
             "#9c179e"
            ],
            [
             0.4444444444444444,
             "#bd3786"
            ],
            [
             0.5555555555555556,
             "#d8576b"
            ],
            [
             0.6666666666666666,
             "#ed7953"
            ],
            [
             0.7777777777777778,
             "#fb9f3a"
            ],
            [
             0.8888888888888888,
             "#fdca26"
            ],
            [
             1,
             "#f0f921"
            ]
           ],
           "sequentialminus": [
            [
             0,
             "#0d0887"
            ],
            [
             0.1111111111111111,
             "#46039f"
            ],
            [
             0.2222222222222222,
             "#7201a8"
            ],
            [
             0.3333333333333333,
             "#9c179e"
            ],
            [
             0.4444444444444444,
             "#bd3786"
            ],
            [
             0.5555555555555556,
             "#d8576b"
            ],
            [
             0.6666666666666666,
             "#ed7953"
            ],
            [
             0.7777777777777778,
             "#fb9f3a"
            ],
            [
             0.8888888888888888,
             "#fdca26"
            ],
            [
             1,
             "#f0f921"
            ]
           ]
          },
          "colorway": [
           "#636efa",
           "#EF553B",
           "#00cc96",
           "#ab63fa",
           "#FFA15A",
           "#19d3f3",
           "#FF6692",
           "#B6E880",
           "#FF97FF",
           "#FECB52"
          ],
          "font": {
           "color": "#2a3f5f"
          },
          "geo": {
           "bgcolor": "white",
           "lakecolor": "white",
           "landcolor": "#E5ECF6",
           "showlakes": true,
           "showland": true,
           "subunitcolor": "white"
          },
          "hoverlabel": {
           "align": "left"
          },
          "hovermode": "closest",
          "mapbox": {
           "style": "light"
          },
          "paper_bgcolor": "white",
          "plot_bgcolor": "#E5ECF6",
          "polar": {
           "angularaxis": {
            "gridcolor": "white",
            "linecolor": "white",
            "ticks": ""
           },
           "bgcolor": "#E5ECF6",
           "radialaxis": {
            "gridcolor": "white",
            "linecolor": "white",
            "ticks": ""
           }
          },
          "scene": {
           "xaxis": {
            "backgroundcolor": "#E5ECF6",
            "gridcolor": "white",
            "gridwidth": 2,
            "linecolor": "white",
            "showbackground": true,
            "ticks": "",
            "zerolinecolor": "white"
           },
           "yaxis": {
            "backgroundcolor": "#E5ECF6",
            "gridcolor": "white",
            "gridwidth": 2,
            "linecolor": "white",
            "showbackground": true,
            "ticks": "",
            "zerolinecolor": "white"
           },
           "zaxis": {
            "backgroundcolor": "#E5ECF6",
            "gridcolor": "white",
            "gridwidth": 2,
            "linecolor": "white",
            "showbackground": true,
            "ticks": "",
            "zerolinecolor": "white"
           }
          },
          "shapedefaults": {
           "line": {
            "color": "#2a3f5f"
           }
          },
          "ternary": {
           "aaxis": {
            "gridcolor": "white",
            "linecolor": "white",
            "ticks": ""
           },
           "baxis": {
            "gridcolor": "white",
            "linecolor": "white",
            "ticks": ""
           },
           "bgcolor": "#E5ECF6",
           "caxis": {
            "gridcolor": "white",
            "linecolor": "white",
            "ticks": ""
           }
          },
          "title": {
           "x": 0.05
          },
          "xaxis": {
           "automargin": true,
           "gridcolor": "white",
           "linecolor": "white",
           "ticks": "",
           "title": {
            "standoff": 15
           },
           "zerolinecolor": "white",
           "zerolinewidth": 2
          },
          "yaxis": {
           "automargin": true,
           "gridcolor": "white",
           "linecolor": "white",
           "ticks": "",
           "title": {
            "standoff": 15
           },
           "zerolinecolor": "white",
           "zerolinewidth": 2
          }
         }
        },
        "title": {
         "font": {
          "family": "Arial Black",
          "size": 16
         },
         "text": "<b>Análisis Tridimensional: Precio vs Ventas vs Satisfacción</b><br><sub>Rotación 360° con el mouse</sub>"
        }
       }
      },
      "text/html": [
       "<div>            <script src=\"https://cdnjs.cloudflare.com/ajax/libs/mathjax/2.7.5/MathJax.js?config=TeX-AMS-MML_SVG\"></script><script type=\"text/javascript\">if (window.MathJax && window.MathJax.Hub && window.MathJax.Hub.Config) {window.MathJax.Hub.Config({SVG: {font: \"STIX-Web\"}});}</script>                <script type=\"text/javascript\">window.PlotlyConfig = {MathJaxConfig: 'local'};</script>\n",
       "        <script charset=\"utf-8\" src=\"https://cdn.plot.ly/plotly-3.1.1.min.js\" integrity=\"sha256-HUEFyfiTnZJxCxur99FjbKYTvKSzwDaD3/x5TqHpFu4=\" crossorigin=\"anonymous\"></script>                <div id=\"b7371565-a405-44fa-9695-a986d1c598a9\" class=\"plotly-graph-div\" style=\"height:700px; width:100%;\"></div>            <script type=\"text/javascript\">                window.PLOTLYENV=window.PLOTLYENV || {};                                if (document.getElementById(\"b7371565-a405-44fa-9695-a986d1c598a9\")) {                    Plotly.newPlot(                        \"b7371565-a405-44fa-9695-a986d1c598a9\",                        [{\"customdata\":[[\"Producto_1\",\"Norte\"],[\"Producto_11\",\"Sur\"],[\"Producto_15\",\"Este\"],[\"Producto_17\",\"Sur\"],[\"Producto_20\",\"Este\"],[\"Producto_23\",\"Norte\"],[\"Producto_29\",\"Este\"],[\"Producto_30\",\"Sur\"],[\"Producto_32\",\"Norte\"],[\"Producto_33\",\"Sur\"],[\"Producto_41\",\"Oeste\"],[\"Producto_43\",\"Este\"],[\"Producto_50\",\"Oeste\"],[\"Producto_51\",\"Norte\"],[\"Producto_52\",\"Norte\"],[\"Producto_53\",\"Sur\"],[\"Producto_57\",\"Sur\"],[\"Producto_59\",\"Sur\"],[\"Producto_62\",\"Sur\"],[\"Producto_66\",\"Oeste\"],[\"Producto_69\",\"Sur\"],[\"Producto_70\",\"Este\"],[\"Producto_78\",\"Este\"],[\"Producto_79\",\"Sur\"],[\"Producto_80\",\"Norte\"],[\"Producto_89\",\"Sur\"],[\"Producto_101\",\"Oeste\"],[\"Producto_103\",\"Este\"],[\"Producto_108\",\"Sur\"],[\"Producto_122\",\"Sur\"],[\"Producto_126\",\"Norte\"],[\"Producto_128\",\"Oeste\"],[\"Producto_133\",\"Sur\"],[\"Producto_137\",\"Sur\"],[\"Producto_143\",\"Sur\"],[\"Producto_144\",\"Norte\"],[\"Producto_145\",\"Oeste\"],[\"Producto_146\",\"Norte\"],[\"Producto_147\",\"Este\"],[\"Producto_150\",\"Oeste\"],[\"Producto_157\",\"Este\"],[\"Producto_167\",\"Norte\"],[\"Producto_170\",\"Norte\"],[\"Producto_174\",\"Sur\"],[\"Producto_175\",\"Oeste\"],[\"Producto_186\",\"Norte\"],[\"Producto_193\",\"Norte\"],[\"Producto_195\",\"Oeste\"],[\"Producto_200\",\"Este\"]],\"hovertemplate\":\"Categoria=Hogar\\u003cbr\\u003ePrecio (USD)=%{x}\\u003cbr\\u003eVentas (unidades)=%{y}\\u003cbr\\u003eSatisfacci\\u00f3n (1-5)=%{z}\\u003cbr\\u003eIngresos=%{marker.size}\\u003cbr\\u003eProducto=%{customdata[0]}\\u003cbr\\u003eRegion=%{customdata[1]}\\u003cextra\\u003e\\u003c\\u002fextra\\u003e\",\"legendgroup\":\"Hogar\",\"marker\":{\"color\":\"rgb(127, 60, 141)\",\"size\":{\"dtype\":\"f8\",\"bdata\":\"AdNgChouEUGevIsHFgEiQd3YElKNEfhABXtLdCuCMUHEgUBZ\\u002fE4pQZmNrzZ25B1BngcnsrKQDUEQcsXPdiXgQIi4jOHSbQJB8u41iUhDKEEHd\\u002fM0mqcSQTBNNjKh2dZAFTkjonHQMkHq9sKXxwkGQQoQwFMWYRxBeaX53\\u002fjzEkEmHcRnAPLuQHVSNiFK4xdB9rUfRxJzMEFF0ZMy7S0UQTxIEcmxrhlByvpc7Dat1UBFBvNXHdQdQWB+2BHPpzJBBvS9EhCDFEElng54JjUaQfv1LWYJmBZBuoBLkRhi5ED8gnFvSrI2QVYxUeY0oSRB0RgMWjimJkGlnY4uZPQnQbFOXCZjFhNBN66w+u0xNUH3\\u002fDW7\\u002fOEmQey9B5jRiCFBXc\\u002fxlNSxMEHmjVIUOeshQewTVM06wQdBe5svPygsLEEjLcf9ZcYdQSS0gSSVUjFBaycvHXjxCEEEyHPRwC4RQbj9e7zVLSJBLGKyQ3Km6kC5OQqQrBUnQVOyW55IPeZAbSNYyqz+A0E=\"},\"sizemode\":\"area\",\"sizeref\":2548.4632879984206,\"symbol\":\"circle\",\"line\":{\"color\":\"white\",\"width\":0.8}},\"mode\":\"markers\",\"name\":\"Hogar\",\"scene\":\"scene\",\"showlegend\":true,\"x\":{\"dtype\":\"f8\",\"bdata\":\"OAA16SKrTEDKeNkwEMVVQIjGomrU6jRA7vQGohshY0CFXjIcA7teQH78Bv5nymRAkep7gkPkT0AAAAAAAAAkQAwhxIe6ZjlAsnUJmkBwZkBGDtDDn9NMQAAAAAAAACRAMeDziw+3W0ApdKfu\\u002fRlTQLCbxWc4DFJAG4Gk\\u002fq+RS0DYYgWRZxxMQEm4iKq7UUlAasDBb6FuZkC1P8T4SLhOQNht1Qv47lBACHB62C34M0BnznL3q15bQPI9dslaP2VAsDdo9jpoU0DuIw213EddQFx4KZAnKl1AAAAAAAAAJEBehsT9z15sQB8Y8eYVwmhAgiBB0lPYW0CGyDUNel9lQDbmy77hsV1AErr+Cikja0DgdxdlYrtiQPYn+uL6DlZAeL8WAeXYXkD+s8u9NDBZQJyxraB9tz9A+Fy5HoAIY0A5bpdwFVFUQMJiV4aBf2FAdcfecs19TkCWuJK2H2NOQJi91qvY5V5AAAAAAAAAJEA03AcjGL9lQMC1ysef2DdAnGXOJK0ZMkA=\"},\"y\":{\"dtype\":\"f8\",\"bdata\":\"9I4q1zEts0AUJFPyBXe6QOVJo1YTabJAllJRo+FJvUDcwcVJolq6QCiQPhMoAadA0PN0OGmqrUCAtgjmitWpQDlyHSJqN7dAn1NXegVNsUCqviVuUbW0QPNwKyi0R6JAvDD4Xxi5xUDGOccnuHWiQGKjlkTGKLlA8HX7JMj\\u002ftUC0nZ6F\\u002fZyRQJ2izuzdML5ANj9ksjF3t0CmDXqJMgW1QMJP4TtCRLhA1JDAyilekUAVVpaa9m+xQBS7LNqoGLxAwMNAji3psECmV+r7OaSsQGTv0I9ZyqhAlQDWDXpOsEDcCNZgpZm5QPCwpdz6qapA7fOZymoHukDo32RZxO6xQGFcdhO1kaRAy9asTC\\u002f+uECWgaWRoIuzQGJHQd3eb7lAqSfD6YpRwUAVC6vqv8O2QJmsf2eJ97dAUJE8zsyut0C4nOV\\u002f2nK3QPp1EmnYrb9Apz5dCmUtqkAWCyduNxiyQENNZL3X07JAVhv1AvVRtUA4HHfADfywQBbsPCcC2J1AzjJTk7iswUA=\"},\"z\":{\"dtype\":\"f8\",\"bdata\":\"d4To\\u002fMuWEUD26UzCFtMEQPnOoMjDDBJAAAAAAAAAFEAX0ps5d3EQQGvfhxt60hJAHwz36VIBEkAgYI0y7YQJQFNzlDG6IQxAkxMRc66iDkAkpXK8kNoRQNqfEqzscBJAVhXwuSryEUAAAAAAAAAUQAQKhhvCoxJAAAAAAAAAFEBkwslegRwBQDjtBdMVFwRAt8k0ks8GAUAVAF4Cy1wKQD3MQrce6w9A9TcdtMJfE0AAAAAAAAAUQA8cGgdcZg1A3kF942zVEEAAAAAAAAAUQFZJEzCKZQpA9lOhMJ8kDEBE\\u002frGyMIINQAI8gLFvlRJAV28INrZDEEAS89RvYwARQDvKe4o6sgtAAAAAAAAAFEBmWHrkLG0KQMZHRnr2rgVAAAAAAAAAFEBTLmt39OMNQLXCK8zzIQ1AAAAAAAAAFEA7ZTY3U2QMQJBHg5466RNABjzNJJcBDEBcgO2yrPYDQFM6D3VSdRBASb1YZWN+EUDqAVGRbOQNQFs3nQjk9AxAgY2lwfyCEUA=\"},\"type\":\"scatter3d\"},{\"customdata\":[[\"Producto_2\",\"Oeste\"],[\"Producto_4\",\"Sur\"],[\"Producto_5\",\"Norte\"],[\"Producto_10\",\"Norte\"],[\"Producto_13\",\"Sur\"],[\"Producto_18\",\"Sur\"],[\"Producto_22\",\"Norte\"],[\"Producto_36\",\"Sur\"],[\"Producto_38\",\"Oeste\"],[\"Producto_48\",\"Este\"],[\"Producto_54\",\"Norte\"],[\"Producto_63\",\"Sur\"],[\"Producto_72\",\"Este\"],[\"Producto_73\",\"Norte\"],[\"Producto_75\",\"Oeste\"],[\"Producto_81\",\"Norte\"],[\"Producto_83\",\"Este\"],[\"Producto_84\",\"Oeste\"],[\"Producto_97\",\"Oeste\"],[\"Producto_106\",\"Este\"],[\"Producto_113\",\"Sur\"],[\"Producto_116\",\"Sur\"],[\"Producto_123\",\"Este\"],[\"Producto_127\",\"Este\"],[\"Producto_129\",\"Sur\"],[\"Producto_130\",\"Norte\"],[\"Producto_132\",\"Este\"],[\"Producto_134\",\"Este\"],[\"Producto_140\",\"Este\"],[\"Producto_142\",\"Este\"],[\"Producto_158\",\"Este\"],[\"Producto_163\",\"Norte\"],[\"Producto_179\",\"Oeste\"],[\"Producto_187\",\"Oeste\"],[\"Producto_192\",\"Norte\"],[\"Producto_199\",\"Norte\"]],\"hovertemplate\":\"Categoria=Deportes\\u003cbr\\u003ePrecio (USD)=%{x}\\u003cbr\\u003eVentas (unidades)=%{y}\\u003cbr\\u003eSatisfacci\\u00f3n (1-5)=%{z}\\u003cbr\\u003eIngresos=%{marker.size}\\u003cbr\\u003eProducto=%{customdata[0]}\\u003cbr\\u003eRegion=%{customdata[1]}\\u003cextra\\u003e\\u003c\\u002fextra\\u003e\",\"legendgroup\":\"Deportes\",\"marker\":{\"color\":\"rgb(17, 165, 121)\",\"size\":{\"dtype\":\"f8\",\"bdata\":\"zLBR0uZ2IEG\\u002frR4nBDQWQb8in2gEQwFBNbKlV0YbF0EChDz0CjwQQT4jMG7YhCFBd0oo6n45EkEolC7IbpgwQdCAr8kfVSZBjQo2mtojKUE3AMMfrokrQa01oT2WCyRBleuQ97PbJEEkxGktBicaQdLdG3OcCiBB+jpCc+JkJkEkhdWeL5UYQW7ePJ21OwxBUTYlr\\u002fjBE0E37mte4NQpQV03WXtXYSxBqFs7LFiJG0Glws3bWpgWQSBCIkA5BxhBht5Q3zrPJEHtqYAYMbkyQbION3rAozVB+uadMxvvBEE86OGiTovnQA\\u002fiHjsehhFBhS1VuEmsGUHdd0nQOqkIQbVpEXo3Py1BsCrUTaa1E0GxVWkgqMYZQTfEdMGD6htB\"},\"sizemode\":\"area\",\"sizeref\":2548.4632879984206,\"symbol\":\"circle\",\"line\":{\"color\":\"white\",\"width\":0.8}},\"mode\":\"markers\",\"name\":\"Deportes\",\"scene\":\"scene\",\"showlegend\":true,\"x\":{\"dtype\":\"f8\",\"bdata\":\"e\\u002fgUYE3SWEB6u0hqr+FNQDiYABul9ztACNbjxbwIWkDSmXawla5SQGZ7Cuvz91tA69I1nuepYUCeDvnvSLNfQIhWuuRYlWNAoHQ+oI+QXEAKT1PzUwlmQKy8sQ\\u002fNE09ATau5mXS\\u002fYECGpel0E3dXQOOnFLVwYGFAcgeMA\\u002fhBXUAlCwryzRNlQFxf86EVh1BARtSwm3CCT0CXZOtEhRRiQCe3My4X61tAY1vEqh8BXEBIgZljoLVVQOenGB8OkVZAUoZFzlvCXkDlzg7bxClgQIxZb952CWRAsGmn66drP0A7N0WhFa1NQCCeehBhMktAfriToHeITUA7KgfCQllDQNzc3zS7q1xAUi6hRvXkZEAKNI1QHstmQKRVd3oS3FhA\"},\"y\":{\"dtype\":\"f8\",\"bdata\":\"I1GSmt85tUA2EL01+sa3QFsn3OwywLNAHOPTMstmrEDTw\\u002fXazs6rQEqzc15MC7RAwcBADBGCoEBanwgHmMDAQKPxF8f\\u002fPrJA3t1yP9spvEC6onYEkP6zQPqT0CPwo8RAm4aTdkLts0BhjB8HFtWxQFCNwKmBiq1ARpZFoDl+uEBMuWS0NamiQKUuad\\u002fzVKtAQkcv17MQtEAu7Go+Ddy2QAvZ6xDFQ8BAyPHXfyF3r0ApygebGaewQPybPTNKCbFALvmHnR+mtUAgRLt9zojCQDNvedmfR8FAbkl+3PBRtUA4yGzCS2OJQJA4O4FonrRAwaPN80bRu0BA4l5imWS0QPFJ5DVOUsBA+i0Mo3ovnkDURkmF+BeiQO4f6BeX97FA\"},\"z\":{\"dtype\":\"f8\",\"bdata\":\"UCACEL3BDkCbAFdYzmsBQB9lN49MjRJAHkpI6mypEkDXCpCTMD4NQDALzdze2RBAGhYPitgIEEBJFP4wZw8SQAV+fzQ2Ew9AlCRcLp+8B0D1mPAWTnMNQP7DEh+aWQFAAAAAAAAAFEBkSiIOsBoTQO73DTAUvw1AzsIiax2iAUAAAAAAAAAUQO9DXMtTBgpA050c\\u002filwEkByDBKxWtQMQAAAAAAAABRA4ZDrxyH3C0Bc7SNXj7ASQL2Ps+o1xw5AKlparU5bCEDT4LowEeMQQISm0GYa5hJAOpldDKvOC0CIeuyqaJ0TQG6l5FskLApA5BexcrRT8j8I6tugU7IKQMe6YGemChBAAAAAAAAAFEBObU5gncAMQLy4zkjApg1A\"},\"type\":\"scatter3d\"},{\"customdata\":[[\"Producto_3\",\"Norte\"],[\"Producto_7\",\"Sur\"],[\"Producto_8\",\"Norte\"],[\"Producto_9\",\"Oeste\"],[\"Producto_12\",\"Oeste\"],[\"Producto_26\",\"Oeste\"],[\"Producto_27\",\"Este\"],[\"Producto_31\",\"Oeste\"],[\"Producto_35\",\"Norte\"],[\"Producto_37\",\"Norte\"],[\"Producto_55\",\"Este\"],[\"Producto_90\",\"Oeste\"],[\"Producto_91\",\"Este\"],[\"Producto_93\",\"Norte\"],[\"Producto_94\",\"Sur\"],[\"Producto_96\",\"Este\"],[\"Producto_107\",\"Norte\"],[\"Producto_109\",\"Sur\"],[\"Producto_110\",\"Este\"],[\"Producto_112\",\"Norte\"],[\"Producto_114\",\"Norte\"],[\"Producto_118\",\"Oeste\"],[\"Producto_124\",\"Este\"],[\"Producto_131\",\"Norte\"],[\"Producto_135\",\"Sur\"],[\"Producto_136\",\"Sur\"],[\"Producto_148\",\"Norte\"],[\"Producto_155\",\"Norte\"],[\"Producto_160\",\"Norte\"],[\"Producto_161\",\"Norte\"],[\"Producto_165\",\"Oeste\"],[\"Producto_168\",\"Este\"],[\"Producto_177\",\"Este\"],[\"Producto_182\",\"Oeste\"],[\"Producto_190\",\"Oeste\"],[\"Producto_196\",\"Norte\"],[\"Producto_197\",\"Oeste\"]],\"hovertemplate\":\"Categoria=Alimentos\\u003cbr\\u003ePrecio (USD)=%{x}\\u003cbr\\u003eVentas (unidades)=%{y}\\u003cbr\\u003eSatisfacci\\u00f3n (1-5)=%{z}\\u003cbr\\u003eIngresos=%{marker.size}\\u003cbr\\u003eProducto=%{customdata[0]}\\u003cbr\\u003eRegion=%{customdata[1]}\\u003cextra\\u003e\\u003c\\u002fextra\\u003e\",\"legendgroup\":\"Alimentos\",\"marker\":{\"color\":\"rgb(57, 105, 172)\",\"size\":{\"dtype\":\"f8\",\"bdata\":\"vvGWpRc+JEGEtaiFqyQzQaRrVeIJgyVBWfpG0qPmEUEGB+YgoisuQWqGHd7DWRpB+f+YbrjzFEEdkZNMwtscQXAGtc5sGStBiaBT0RSVKkGZ2ImyiqIoQQrbLLpqSxNBHrn4AY5YJkFJ54sEsuYcQVDNRQ0NxidBryj6SPWQIkGM0n2CIi0RQdQkdJ7taylBcKN\\u002fblOqHUGP76XQMaQmQWO53TGjHh5BtEVszhiNKUG2ZFX9G44kQRUpkXZd7\\u002fNAsFQYrsliIEGdn8KZ0nPgQIGBAgK6PCRBbM\\u002fxbtwMKUGqnKZlETIRQU3nNBappidB3AJv4I\\u002fLKEGpxmjzAS4TQXzYgIXW2QlBmhb3xns0CkFh6CU9UjMcQRV\\u002fidNPewFBE8P9eG+lI0E=\"},\"sizemode\":\"area\",\"sizeref\":2548.4632879984206,\"symbol\":\"circle\",\"line\":{\"color\":\"white\",\"width\":0.8}},\"mode\":\"markers\",\"name\":\"Alimentos\",\"scene\":\"scene\",\"showlegend\":true,\"x\":{\"dtype\":\"f8\",\"bdata\":\"fwaKkxqGW0AjzVjU3dVnQHQixE6qDl5AheeXdjsgWkCxf7tbkuVjQNBO+A0Vm1RAU66o8DaESECksFIsjtJRQJv1K80XjGBAMeVZG0bAYUD30skxHJZdQP0V3oZycmhASI1CL4X+XEDjvVom1HlmQJOAD7KvQWBAIEVGeI35ZECWV6WLkvVRQJaBXabeOmVAxwdeaEkgVEAPjF5vrZBfQEVXKF0+hGFA3OOcpOxTaUBCMzvFY69fQETYqnWK1zdAz8OiGE0QX0AAAAAAAAAkQFbA5lYkTV9AQU4dgqdpYUA5S+vlcpRVQIB26QPOxmhAjiVvzgI6W0CTop1Q0dxZQNSz5GV7wURADmhegF65QUBN1eV+JTNRQETKCPh1mkVA0TyJ9zDTW0A=\"},\"y\":{\"dtype\":\"f8\",\"bdata\":\"lgxz89iIt0B2Qd15WLO5QLjG7Zr65rZAkxhxpf3spUDoLO1c90K4QFHJ4\\u002fz0dbRA2aGUofhYu0CtibExTui5QPwX393+M7pAsm2lw8n1t0ACpoBBBqW6QJwpETZ0QZlAwFLKO5ipuECe8O0A8JKkQOneYsb9ZbdANm\\u002fWnkxTrECyzS+125quQNnAfWu2KLNAo0T2j2OVt0AjpuORC\\u002fS2QEai6eQNg6tAxAu85h0ksED2II1ZZ8K0QBiWz6SXwapA9NHHNzrhsEAuzJ2P6lKqQDU05QtdsLRAzdprJZQEt0DwyNDAqX+pQKnJXHvZi65A\\u002fnyLNmwkvUD1yVHbMrunQOHRLOh87bNAzFkXveunt0BShY60uju6QA\\u002fV3UIP5alAEy+SchWYtkA=\"},\"z\":{\"dtype\":\"f8\",\"bdata\":\"sDBnHBmuDkAAAAAAAAAUQM8EXzrthQ9A5cU8IvLPEUAAAAAAAAAUQJtn4SDKTwJAAAAAAAAAFEAAAAAAAAAUQH6zjsHhcRFAyvLOJk0wEkDpUMa\\u002f9MwQQAAAAAAAABRAuyVALkRMEkBQkXDwUHYIQAXGQZx1pQtAhznqJqogDEC3fc\\u002f9HFcRQIk4b8eqGAhAmFgkv9D2CECZpQEW400HQMmMUY3ZlAtA8vTVrpvJEEBCoQhn78APQNk5+bUhZwtAGntO595sEUBrk\\u002fhypAsQQCBv7rHgZwJAAAAAAAAAFEDkOShZNsMQQOjbzmDZXQxAiDqU2yA0EEADfAiZlhUCQNMBIi4fwhJAOY26IZE8CkANgMfdvmQSQEV4pv0MQBNAzPt54zb8C0A=\"},\"type\":\"scatter3d\"},{\"customdata\":[[\"Producto_6\",\"Norte\"],[\"Producto_14\",\"Sur\"],[\"Producto_16\",\"Este\"],[\"Producto_21\",\"Este\"],[\"Producto_28\",\"Este\"],[\"Producto_40\",\"Oeste\"],[\"Producto_44\",\"Norte\"],[\"Producto_45\",\"Sur\"],[\"Producto_47\",\"Norte\"],[\"Producto_49\",\"Este\"],[\"Producto_58\",\"Oeste\"],[\"Producto_60\",\"Sur\"],[\"Producto_61\",\"Oeste\"],[\"Producto_64\",\"Norte\"],[\"Producto_65\",\"Norte\"],[\"Producto_67\",\"Norte\"],[\"Producto_68\",\"Norte\"],[\"Producto_74\",\"Norte\"],[\"Producto_76\",\"Oeste\"],[\"Producto_98\",\"Oeste\"],[\"Producto_99\",\"Este\"],[\"Producto_104\",\"Sur\"],[\"Producto_117\",\"Este\"],[\"Producto_120\",\"Norte\"],[\"Producto_121\",\"Norte\"],[\"Producto_138\",\"Norte\"],[\"Producto_139\",\"Oeste\"],[\"Producto_149\",\"Norte\"],[\"Producto_166\",\"Sur\"],[\"Producto_173\",\"Este\"],[\"Producto_176\",\"Oeste\"],[\"Producto_184\",\"Sur\"],[\"Producto_185\",\"Sur\"],[\"Producto_191\",\"Norte\"],[\"Producto_194\",\"Sur\"]],\"hovertemplate\":\"Categoria=Ropa\\u003cbr\\u003ePrecio (USD)=%{x}\\u003cbr\\u003eVentas (unidades)=%{y}\\u003cbr\\u003eSatisfacci\\u00f3n (1-5)=%{z}\\u003cbr\\u003eIngresos=%{marker.size}\\u003cbr\\u003eProducto=%{customdata[0]}\\u003cbr\\u003eRegion=%{customdata[1]}\\u003cextra\\u003e\\u003c\\u002fextra\\u003e\",\"legendgroup\":\"Ropa\",\"marker\":{\"color\":\"rgb(242, 183, 1)\",\"size\":{\"dtype\":\"f8\",\"bdata\":\"4eTmVOELEkEX7b7GiIIBQTkDGMq3xiNBTz\\u002ftJDENIkGa17n+ZOwmQSo9MSOjA+BAQvfMhgy8J0HQi\\u002fPT9cPyQIFqvZphOBFB5hgDSmQ7HUH1ImXYEc4RQf2dCTqC6CBBWokt7pGIBEFahOsZaPMQQePwjBxCfARBu2II08OKHEGPFwvk4JsZQZMbzmwZXiBB3gLVY1wkFkFC+U6vTDwRQWIdWE6d2R5BuoN+FyhcIEFVZncLCaIxQT8nnNvFIhJBKrsU4LQW50CrabDpPv4QQVV2Xa1WQCZBN+PT11jGIEF8irU9dQkOQYRUibe1MCZBfh2JVxwiIEFzvyU1W0saQQUKHDie2CFBF8Arttl0G0HfBMd6uH9BQQ==\"},\"sizemode\":\"area\",\"sizeref\":2548.4632879984206,\"symbol\":\"circle\",\"line\":{\"color\":\"white\",\"width\":0.8}},\"mode\":\"markers\",\"name\":\"Ropa\",\"scene\":\"scene\",\"showlegend\":true,\"x\":{\"dtype\":\"f8\",\"bdata\":\"SaC5BdFdXEByXo6pkhRAQL9XOS\\u002fU\\u002fFlAjjzxJuFTW0Awm74SIrNhQPhLlLh9AD1Ajn+UhVykY0AAAAAAAAAkQOLd02gs5lZAmkYSWdsZU0A+bMA+fBBWQADqVdZG3FJA2Fp\\u002f4J3FQ0BB+0rbfh9MQPDe5h8Y3EBArQXcTVfQUkB4MbFZqmFYQBgf76s6jmBACZZ6tHTjWkARvyyhaOJQQCK\\u002fpa93yUxAeIZP5o6lVUDxm88wXaVhQE9ipcXZU1NAAAAAAAAAJEBicYAYIXRGQB5QHFHekmZA5s0L2qO1UkAD8paRCHJZQHY2bGGzAF5AwEtJP7SRYEDFNxICaJVbQAA7nSSxoFRA503bav4EXkAYX9R40eloQA==\"},\"y\":{\"dtype\":\"f8\",\"bdata\":\"PEXe2KZbpEDJCwXpIWyxQAL64+4BWrhAVlFd3kwjtUBID0J717i0QFJVVz1wq5FABlVXvGxVs0DnEuwfVga+QEkjj+VrEKhA9KgcCHt8uEAugybkkdKpQEK9eswOsLxAV\\u002fuS+cKdsEDnnP1boEmzQHQKHFfVcLNAR180kPNFuECh7iuYMs6wQB4xqXn4oq9AnvqOZepZqkAcY8KtLlWwQCEhMTOMJcFAJLO6jEkvuECat7yt9vm\\u002fQOVwqnDkBq5A7shDs5B4skCG4pITyze4QAr8NOkBi69AtaXeHt+wvECizctAGuOiQDgsYvveqrdA3y9T03oor0DgeUgnG4GuQPKUMO5Zr7tAktWlipFErUC0KDkx\\u002fHnGQA==\"},\"z\":{\"dtype\":\"f8\",\"bdata\":\"Ro2gf\\u002fN2EEANEUYiJpURQPmubMQOyQpAyIx8TRNyEkAAAAAAAAAUQGoBQo4Ayg5AwVdaUJ8KEkAPA3ppHisNQETKUdtDFxJAvHMzdwE\\u002fDkAAAAAAAAAUQEvZXXyxMBNAHln6EKcyEkAAAAAAAAAUQGREAK4Z4xNAUzirLiFbCkAKy+YN7aMRQGh4bBB1ThJAr3k5WCdHDUDXK08lNa4QQC4RYSLxxhJAAAAAAAAAFEBczh\\u002fxdyQKQB7Q\\u002f3G2ag5AF7GszriUD0DFPk\\u002f0jJIFQAyHLtX9WRBAlGY7CgPTBkAfekb2egsTQCGs106mmRJAJhuN6GohE0BU9Rz78WoLQAdeytlLNBJAEuRzM2E3E0CdXGY3XGEPQA==\"},\"type\":\"scatter3d\"},{\"customdata\":[[\"Producto_19\",\"Sur\"],[\"Producto_24\",\"Sur\"],[\"Producto_25\",\"Oeste\"],[\"Producto_34\",\"Norte\"],[\"Producto_39\",\"Norte\"],[\"Producto_42\",\"Oeste\"],[\"Producto_46\",\"Sur\"],[\"Producto_56\",\"Norte\"],[\"Producto_71\",\"Norte\"],[\"Producto_77\",\"Oeste\"],[\"Producto_82\",\"Norte\"],[\"Producto_85\",\"Sur\"],[\"Producto_86\",\"Este\"],[\"Producto_87\",\"Oeste\"],[\"Producto_88\",\"Este\"],[\"Producto_92\",\"Sur\"],[\"Producto_95\",\"Norte\"],[\"Producto_100\",\"Oeste\"],[\"Producto_102\",\"Norte\"],[\"Producto_105\",\"Norte\"],[\"Producto_111\",\"Sur\"],[\"Producto_115\",\"Norte\"],[\"Producto_119\",\"Sur\"],[\"Producto_125\",\"Norte\"],[\"Producto_141\",\"Oeste\"],[\"Producto_151\",\"Sur\"],[\"Producto_152\",\"Norte\"],[\"Producto_153\",\"Sur\"],[\"Producto_154\",\"Este\"],[\"Producto_156\",\"Oeste\"],[\"Producto_159\",\"Oeste\"],[\"Producto_162\",\"Este\"],[\"Producto_164\",\"Sur\"],[\"Producto_169\",\"Oeste\"],[\"Producto_171\",\"Norte\"],[\"Producto_172\",\"Este\"],[\"Producto_178\",\"Sur\"],[\"Producto_180\",\"Este\"],[\"Producto_181\",\"Norte\"],[\"Producto_183\",\"Sur\"],[\"Producto_188\",\"Oeste\"],[\"Producto_189\",\"Norte\"],[\"Producto_198\",\"Sur\"]],\"hovertemplate\":\"Categoria=Electr\\u00f3nica\\u003cbr\\u003ePrecio (USD)=%{x}\\u003cbr\\u003eVentas (unidades)=%{y}\\u003cbr\\u003eSatisfacci\\u00f3n (1-5)=%{z}\\u003cbr\\u003eIngresos=%{marker.size}\\u003cbr\\u003eProducto=%{customdata[0]}\\u003cbr\\u003eRegion=%{customdata[1]}\\u003cextra\\u003e\\u003c\\u002fextra\\u003e\",\"legendgroup\":\"Electr\\u00f3nica\",\"marker\":{\"color\":\"rgb(231, 63, 116)\",\"size\":{\"dtype\":\"f8\",\"bdata\":\"dAj9qWDXIkGwYQ5Iba8UQUj3ake01s5AcGcHSnnkKkHE3Mpe3QEVQZrgx9y+ox1BWG0EK6YBHEFS6XzQHKggQR63SHOvzgBB\\u002f8Kgxa7B0kDt1kuITjYRQUe4L0NxYRxBLqa7TqUfCkFBGuq+tYIXQRIxZFMSjStBNIeQT1R9DEEC2LMUn1ETQc2fO20NsAdBf6yX6XS+FUFSCuT76GXyQISrQOeBRCRBfebC2qz\\u002fHUFdfLbFfUgYQRnH1u5bbCxBdr17l0VAIEFsFByVB34hQcc18kFUSilBxr+5h1CmLkGNmfHAVs4tQXQPcrvqASNB6Bk8y1K6DkHkKxIuLSALQeK5AhxuyxlBTaLz+JVSFUGrdNWQ3K05QVqmqrPV6CBBxhs73obs+EDEAZhrQhT3QI5w7zbqWSxB03yqCOng9kDx63LNdDIIQVOOHYeBbjlBP24bqx2WJEE=\"},\"sizemode\":\"area\",\"sizeref\":2548.4632879984206,\"symbol\":\"circle\",\"line\":{\"color\":\"white\",\"width\":0.8}},\"mode\":\"markers\",\"name\":\"Electr\\u00f3nica\",\"scene\":\"scene\",\"showlegend\":true,\"x\":{\"dtype\":\"f8\",\"bdata\":\"SyS5fWsIVUAC2J025yNKQAAAAAAAACRAITPOFkHlXkDsKQWa0EBSQJyKG4Izb1hA2oxSoIw+YEDfQXLUY55bQGA\\u002f2yZxRThAPrV9T+w0Q0BQBVsZ6dNYQO1Ln6emtWNAkL0RS\\u002fdPVECl7oeiu1JQQCi2MF+NX1pAnHdlY31qW0BMbbzFUfJQQO6WSiUImEpAMHn7i7bGVUAW97BHroZSQN5385xlr2NAvK813AatWUADitbr0iNcQNzRr5pzaWhAJbyCc1wAYEBtZimlPw1WQKAgdwFbClhAetcHrq4EZ0ASA1hunmJrQC50CtUmaVVAf9ZJ4TwvUUA\\u002fRdoB5IhWQGUI1C9UhVlAM27hx\\u002fZNYUAaHSLHKqFnQHD1TnHvJ1xA6FDkrqALMUC+VbjC7+NSQPBT4qq\\u002fP1xAuJdBOIb5NUAgMNSo\\u002fk5BQB6Yf+ZRlWxAwrDxjJi\\u002fYUA=\"},\"y\":{\"dtype\":\"f8\",\"bdata\":\"Qo2zUGqqvED3QoQ0e1K5QKCSVWzDq5hA6AB6vpXau0BnvTSkBGqyQEVWZ\\u002fORaLNA3ybaNM+Vq0CEzeqdjEyzQJFZxCrMKLZAAAAAAABAf0B6xR9PMi+mQK3uJiIACqdAmE0gcNeTpEDq1cVOjAu3QHYIzaHstsBAuCObj2WgoEArhDN6YT2yQISUwPPHgKxATWGjB97zr0CQNfM5ZcePQMrSr0UyebBAKW7AbZyxskD21pQvO52rQO\\u002fnNp0NobJANGK3suc\\u002fsEBsg0obNmK5QHYlv\\u002fL01MBAClVU9vdNtUDFhl9SE2qxQP5M\\u002fRB8aLxAXC7exhmcrEA9zfOFeEKjQKk5oADzK7BAYK7BmxO3o0Ak47KzR2PBQJLO32jUN7NAM1oHJTNlt0DYo4m+P4yTQGbdy\\u002f\\u002fRDsBAllaNdHmosEDecgyjI162QCTS5Tm+eLxAplW\\u002fEvOOskA=\"},\"z\":{\"dtype\":\"f8\",\"bdata\":\"prUlFj+iDkCQOqFngTcFQPr04aWGNgtA1b6AlLCCEEAZT7rsTiMSQHqHB6VhlxFAbZrQfsZ3EUBYO4LwDpQSQPrr02jfiBFAtd1VtTKrD0Ayc+xcnykSQAAAAAAAABRAWGn2n0qVEEAgfSvXBBH\\u002fPx8Ts4pViA1AAAAAAAAAFEBGkbi4X0AFQJStEI2dAQpA16363p2nEECZhERyCfwLQMShDbKJuBFAybLD0s34EUDrlOr6nl0TQHowIg1nKQ1Av+paj31MDECaB4rdTfgQQKDpcPSYuxNAf+b2OPZTE0AKCntvlZgJQAAAAAAAABRAvcdXmtu3DUBXJfzlDpUOQMRmLc8A8xJAsTSXj5MRC0AAAAAAAAAUQGXZuLAQehBANPiHVrD+EUAzjCbgbzIQQIKr57DAKQVA0Ko\\u002fdTC9EEDmsY5kABETQEua\\u002fyssuhBAAAAAAAAAFEA=\"},\"type\":\"scatter3d\"}],                        {\"template\":{\"data\":{\"histogram2dcontour\":[{\"type\":\"histogram2dcontour\",\"colorbar\":{\"outlinewidth\":0,\"ticks\":\"\"},\"colorscale\":[[0.0,\"#0d0887\"],[0.1111111111111111,\"#46039f\"],[0.2222222222222222,\"#7201a8\"],[0.3333333333333333,\"#9c179e\"],[0.4444444444444444,\"#bd3786\"],[0.5555555555555556,\"#d8576b\"],[0.6666666666666666,\"#ed7953\"],[0.7777777777777778,\"#fb9f3a\"],[0.8888888888888888,\"#fdca26\"],[1.0,\"#f0f921\"]]}],\"choropleth\":[{\"type\":\"choropleth\",\"colorbar\":{\"outlinewidth\":0,\"ticks\":\"\"}}],\"histogram2d\":[{\"type\":\"histogram2d\",\"colorbar\":{\"outlinewidth\":0,\"ticks\":\"\"},\"colorscale\":[[0.0,\"#0d0887\"],[0.1111111111111111,\"#46039f\"],[0.2222222222222222,\"#7201a8\"],[0.3333333333333333,\"#9c179e\"],[0.4444444444444444,\"#bd3786\"],[0.5555555555555556,\"#d8576b\"],[0.6666666666666666,\"#ed7953\"],[0.7777777777777778,\"#fb9f3a\"],[0.8888888888888888,\"#fdca26\"],[1.0,\"#f0f921\"]]}],\"heatmap\":[{\"type\":\"heatmap\",\"colorbar\":{\"outlinewidth\":0,\"ticks\":\"\"},\"colorscale\":[[0.0,\"#0d0887\"],[0.1111111111111111,\"#46039f\"],[0.2222222222222222,\"#7201a8\"],[0.3333333333333333,\"#9c179e\"],[0.4444444444444444,\"#bd3786\"],[0.5555555555555556,\"#d8576b\"],[0.6666666666666666,\"#ed7953\"],[0.7777777777777778,\"#fb9f3a\"],[0.8888888888888888,\"#fdca26\"],[1.0,\"#f0f921\"]]}],\"contourcarpet\":[{\"type\":\"contourcarpet\",\"colorbar\":{\"outlinewidth\":0,\"ticks\":\"\"}}],\"contour\":[{\"type\":\"contour\",\"colorbar\":{\"outlinewidth\":0,\"ticks\":\"\"},\"colorscale\":[[0.0,\"#0d0887\"],[0.1111111111111111,\"#46039f\"],[0.2222222222222222,\"#7201a8\"],[0.3333333333333333,\"#9c179e\"],[0.4444444444444444,\"#bd3786\"],[0.5555555555555556,\"#d8576b\"],[0.6666666666666666,\"#ed7953\"],[0.7777777777777778,\"#fb9f3a\"],[0.8888888888888888,\"#fdca26\"],[1.0,\"#f0f921\"]]}],\"surface\":[{\"type\":\"surface\",\"colorbar\":{\"outlinewidth\":0,\"ticks\":\"\"},\"colorscale\":[[0.0,\"#0d0887\"],[0.1111111111111111,\"#46039f\"],[0.2222222222222222,\"#7201a8\"],[0.3333333333333333,\"#9c179e\"],[0.4444444444444444,\"#bd3786\"],[0.5555555555555556,\"#d8576b\"],[0.6666666666666666,\"#ed7953\"],[0.7777777777777778,\"#fb9f3a\"],[0.8888888888888888,\"#fdca26\"],[1.0,\"#f0f921\"]]}],\"mesh3d\":[{\"type\":\"mesh3d\",\"colorbar\":{\"outlinewidth\":0,\"ticks\":\"\"}}],\"scatter\":[{\"fillpattern\":{\"fillmode\":\"overlay\",\"size\":10,\"solidity\":0.2},\"type\":\"scatter\"}],\"parcoords\":[{\"type\":\"parcoords\",\"line\":{\"colorbar\":{\"outlinewidth\":0,\"ticks\":\"\"}}}],\"scatterpolargl\":[{\"type\":\"scatterpolargl\",\"marker\":{\"colorbar\":{\"outlinewidth\":0,\"ticks\":\"\"}}}],\"bar\":[{\"error_x\":{\"color\":\"#2a3f5f\"},\"error_y\":{\"color\":\"#2a3f5f\"},\"marker\":{\"line\":{\"color\":\"#E5ECF6\",\"width\":0.5},\"pattern\":{\"fillmode\":\"overlay\",\"size\":10,\"solidity\":0.2}},\"type\":\"bar\"}],\"scattergeo\":[{\"type\":\"scattergeo\",\"marker\":{\"colorbar\":{\"outlinewidth\":0,\"ticks\":\"\"}}}],\"scatterpolar\":[{\"type\":\"scatterpolar\",\"marker\":{\"colorbar\":{\"outlinewidth\":0,\"ticks\":\"\"}}}],\"histogram\":[{\"marker\":{\"pattern\":{\"fillmode\":\"overlay\",\"size\":10,\"solidity\":0.2}},\"type\":\"histogram\"}],\"scattergl\":[{\"type\":\"scattergl\",\"marker\":{\"colorbar\":{\"outlinewidth\":0,\"ticks\":\"\"}}}],\"scatter3d\":[{\"type\":\"scatter3d\",\"line\":{\"colorbar\":{\"outlinewidth\":0,\"ticks\":\"\"}},\"marker\":{\"colorbar\":{\"outlinewidth\":0,\"ticks\":\"\"}}}],\"scattermap\":[{\"type\":\"scattermap\",\"marker\":{\"colorbar\":{\"outlinewidth\":0,\"ticks\":\"\"}}}],\"scattermapbox\":[{\"type\":\"scattermapbox\",\"marker\":{\"colorbar\":{\"outlinewidth\":0,\"ticks\":\"\"}}}],\"scatterternary\":[{\"type\":\"scatterternary\",\"marker\":{\"colorbar\":{\"outlinewidth\":0,\"ticks\":\"\"}}}],\"scattercarpet\":[{\"type\":\"scattercarpet\",\"marker\":{\"colorbar\":{\"outlinewidth\":0,\"ticks\":\"\"}}}],\"carpet\":[{\"aaxis\":{\"endlinecolor\":\"#2a3f5f\",\"gridcolor\":\"white\",\"linecolor\":\"white\",\"minorgridcolor\":\"white\",\"startlinecolor\":\"#2a3f5f\"},\"baxis\":{\"endlinecolor\":\"#2a3f5f\",\"gridcolor\":\"white\",\"linecolor\":\"white\",\"minorgridcolor\":\"white\",\"startlinecolor\":\"#2a3f5f\"},\"type\":\"carpet\"}],\"table\":[{\"cells\":{\"fill\":{\"color\":\"#EBF0F8\"},\"line\":{\"color\":\"white\"}},\"header\":{\"fill\":{\"color\":\"#C8D4E3\"},\"line\":{\"color\":\"white\"}},\"type\":\"table\"}],\"barpolar\":[{\"marker\":{\"line\":{\"color\":\"#E5ECF6\",\"width\":0.5},\"pattern\":{\"fillmode\":\"overlay\",\"size\":10,\"solidity\":0.2}},\"type\":\"barpolar\"}],\"pie\":[{\"automargin\":true,\"type\":\"pie\"}]},\"layout\":{\"autotypenumbers\":\"strict\",\"colorway\":[\"#636efa\",\"#EF553B\",\"#00cc96\",\"#ab63fa\",\"#FFA15A\",\"#19d3f3\",\"#FF6692\",\"#B6E880\",\"#FF97FF\",\"#FECB52\"],\"font\":{\"color\":\"#2a3f5f\"},\"hovermode\":\"closest\",\"hoverlabel\":{\"align\":\"left\"},\"paper_bgcolor\":\"white\",\"plot_bgcolor\":\"#E5ECF6\",\"polar\":{\"bgcolor\":\"#E5ECF6\",\"angularaxis\":{\"gridcolor\":\"white\",\"linecolor\":\"white\",\"ticks\":\"\"},\"radialaxis\":{\"gridcolor\":\"white\",\"linecolor\":\"white\",\"ticks\":\"\"}},\"ternary\":{\"bgcolor\":\"#E5ECF6\",\"aaxis\":{\"gridcolor\":\"white\",\"linecolor\":\"white\",\"ticks\":\"\"},\"baxis\":{\"gridcolor\":\"white\",\"linecolor\":\"white\",\"ticks\":\"\"},\"caxis\":{\"gridcolor\":\"white\",\"linecolor\":\"white\",\"ticks\":\"\"}},\"coloraxis\":{\"colorbar\":{\"outlinewidth\":0,\"ticks\":\"\"}},\"colorscale\":{\"sequential\":[[0.0,\"#0d0887\"],[0.1111111111111111,\"#46039f\"],[0.2222222222222222,\"#7201a8\"],[0.3333333333333333,\"#9c179e\"],[0.4444444444444444,\"#bd3786\"],[0.5555555555555556,\"#d8576b\"],[0.6666666666666666,\"#ed7953\"],[0.7777777777777778,\"#fb9f3a\"],[0.8888888888888888,\"#fdca26\"],[1.0,\"#f0f921\"]],\"sequentialminus\":[[0.0,\"#0d0887\"],[0.1111111111111111,\"#46039f\"],[0.2222222222222222,\"#7201a8\"],[0.3333333333333333,\"#9c179e\"],[0.4444444444444444,\"#bd3786\"],[0.5555555555555556,\"#d8576b\"],[0.6666666666666666,\"#ed7953\"],[0.7777777777777778,\"#fb9f3a\"],[0.8888888888888888,\"#fdca26\"],[1.0,\"#f0f921\"]],\"diverging\":[[0,\"#8e0152\"],[0.1,\"#c51b7d\"],[0.2,\"#de77ae\"],[0.3,\"#f1b6da\"],[0.4,\"#fde0ef\"],[0.5,\"#f7f7f7\"],[0.6,\"#e6f5d0\"],[0.7,\"#b8e186\"],[0.8,\"#7fbc41\"],[0.9,\"#4d9221\"],[1,\"#276419\"]]},\"xaxis\":{\"gridcolor\":\"white\",\"linecolor\":\"white\",\"ticks\":\"\",\"title\":{\"standoff\":15},\"zerolinecolor\":\"white\",\"automargin\":true,\"zerolinewidth\":2},\"yaxis\":{\"gridcolor\":\"white\",\"linecolor\":\"white\",\"ticks\":\"\",\"title\":{\"standoff\":15},\"zerolinecolor\":\"white\",\"automargin\":true,\"zerolinewidth\":2},\"scene\":{\"xaxis\":{\"backgroundcolor\":\"#E5ECF6\",\"gridcolor\":\"white\",\"linecolor\":\"white\",\"showbackground\":true,\"ticks\":\"\",\"zerolinecolor\":\"white\",\"gridwidth\":2},\"yaxis\":{\"backgroundcolor\":\"#E5ECF6\",\"gridcolor\":\"white\",\"linecolor\":\"white\",\"showbackground\":true,\"ticks\":\"\",\"zerolinecolor\":\"white\",\"gridwidth\":2},\"zaxis\":{\"backgroundcolor\":\"#E5ECF6\",\"gridcolor\":\"white\",\"linecolor\":\"white\",\"showbackground\":true,\"ticks\":\"\",\"zerolinecolor\":\"white\",\"gridwidth\":2}},\"shapedefaults\":{\"line\":{\"color\":\"#2a3f5f\"}},\"annotationdefaults\":{\"arrowcolor\":\"#2a3f5f\",\"arrowhead\":0,\"arrowwidth\":1},\"geo\":{\"bgcolor\":\"white\",\"landcolor\":\"#E5ECF6\",\"subunitcolor\":\"white\",\"showland\":true,\"showlakes\":true,\"lakecolor\":\"white\"},\"title\":{\"x\":0.05},\"mapbox\":{\"style\":\"light\"}}},\"scene\":{\"domain\":{\"x\":[0.0,1.0],\"y\":[0.0,1.0]},\"xaxis\":{\"title\":{\"text\":\"Precio (USD)\"},\"backgroundcolor\":\"rgb(230, 230,230)\",\"gridcolor\":\"white\",\"showbackground\":true},\"yaxis\":{\"title\":{\"text\":\"Ventas (unidades)\"},\"backgroundcolor\":\"rgb(230, 230,230)\",\"gridcolor\":\"white\",\"showbackground\":true},\"zaxis\":{\"title\":{\"text\":\"Satisfacci\\u00f3n (1-5)\"},\"backgroundcolor\":\"rgb(230, 230,230)\",\"gridcolor\":\"white\",\"showbackground\":true}},\"legend\":{\"title\":{\"text\":\"Categoria\"},\"tracegroupgap\":0,\"itemsizing\":\"constant\"},\"title\":{\"text\":\"\\u003cb\\u003eAn\\u00e1lisis Tridimensional: Precio vs Ventas vs Satisfacci\\u00f3n\\u003c\\u002fb\\u003e\\u003cbr\\u003e\\u003csub\\u003eRotaci\\u00f3n 360\\u00b0 con el mouse\\u003c\\u002fsub\\u003e\",\"font\":{\"size\":16,\"family\":\"Arial Black\"}},\"font\":{\"size\":12},\"height\":700},                        {\"responsive\": true}                    ).then(function(){\n",
       "                            \n",
       "var gd = document.getElementById('b7371565-a405-44fa-9695-a986d1c598a9');\n",
       "var x = new MutationObserver(function (mutations, observer) {{\n",
       "        var display = window.getComputedStyle(gd).display;\n",
       "        if (!display || display === 'none') {{\n",
       "            console.log([gd, 'removed!']);\n",
       "            Plotly.purge(gd);\n",
       "            observer.disconnect();\n",
       "        }}\n",
       "}});\n",
       "\n",
       "// Listen for the removal of the full notebook cells\n",
       "var notebookContainer = gd.closest('#notebook-container');\n",
       "if (notebookContainer) {{\n",
       "    x.observe(notebookContainer, {childList: true});\n",
       "}}\n",
       "\n",
       "// Listen for the clearing of the current output cell\n",
       "var outputEl = gd.closest('.output');\n",
       "if (outputEl) {{\n",
       "    x.observe(outputEl, {childList: true});\n",
       "}}\n",
       "\n",
       "                        })                };            </script>        </div>"
      ]
     },
     "metadata": {},
     "output_type": "display_data"
    },
    {
     "name": "stdout",
     "output_type": "stream",
     "text": [
      "Ventajas de la visualización 3D interactiva:\n",
      "- Rotación libre en 360° para explorar todas las perspectivas\n",
      "- Zoom dinámico en el espacio tridimensional\n",
      "- Hover muestra información contextual sin saturar el gráfico\n",
      "- Tamaño de burbuja representa una cuarta dimensión (Ingresos)\n",
      "- Color representa una quinta dimensión (Categoría)\n",
      "\n",
      "Caso de uso: Identificar patrones multivariados difíciles de ver en 2D\n"
     ]
    }
   ],
   "source": [
    "# Gráfico 3D: Relación entre Precio, Ventas y Satisfacción\n",
    "fig = px.scatter_3d(df, x='Precio', y='Ventas', z='Satisfaccion',\n",
    "                    color='Categoria', size='Ingresos',\n",
    "                    hover_data=['Producto', 'Region'],\n",
    "                    title='<b>Análisis Tridimensional: Precio vs Ventas vs Satisfacción</b><br><sub>Rotación 360° con el mouse</sub>',\n",
    "                    labels={'Precio': 'Precio (USD)', \n",
    "                           'Ventas': 'Ventas (unidades)', \n",
    "                           'Satisfaccion': 'Satisfacción (1-5)'},\n",
    "                    color_discrete_sequence=px.colors.qualitative.Bold,\n",
    "                    size_max=30)\n",
    "\n",
    "fig.update_traces(marker=dict(line=dict(width=0.8, color='white')))\n",
    "\n",
    "fig.update_layout(\n",
    "    scene=dict(\n",
    "        xaxis=dict(backgroundcolor=\"rgb(230, 230,230)\", gridcolor=\"white\", showbackground=True),\n",
    "        yaxis=dict(backgroundcolor=\"rgb(230, 230,230)\", gridcolor=\"white\", showbackground=True),\n",
    "        zaxis=dict(backgroundcolor=\"rgb(230, 230,230)\", gridcolor=\"white\", showbackground=True),\n",
    "    ),\n",
    "    font=dict(size=12),\n",
    "    title_font=dict(size=16, family='Arial Black'),\n",
    "    height=700\n",
    ")\n",
    "\n",
    "fig.show()\n",
    "\n",
    "print(\"Ventajas de la visualización 3D interactiva:\")\n",
    "print(\"- Rotación libre en 360° para explorar todas las perspectivas\")\n",
    "print(\"- Zoom dinámico en el espacio tridimensional\")\n",
    "print(\"- Hover muestra información contextual sin saturar el gráfico\")\n",
    "print(\"- Tamaño de burbuja representa una cuarta dimensión (Ingresos)\")\n",
    "print(\"- Color representa una quinta dimensión (Categoría)\")\n",
    "print(\"\\nCaso de uso: Identificar patrones multivariados difíciles de ver en 2D\")"
   ]
  },
  {
   "cell_type": "markdown",
   "id": "9834e999",
   "metadata": {},
   "source": [
    "---\n",
    "\n",
    "## 6. Análisis Comparativo: Tabla Resumen\n",
    "\n",
    "A continuación se presenta una tabla comparativa exhaustiva de las tres librerías evaluadas."
   ]
  },
  {
   "cell_type": "code",
   "execution_count": 22,
   "id": "775383a3",
   "metadata": {},
   "outputs": [
    {
     "name": "stdout",
     "output_type": "stream",
     "text": [
      "========================================================================================================================\n",
      "                                   TABLA COMPARATIVA: MATPLOTLIB vs SEABORN vs PLOTLY                                   \n",
      "========================================================================================================================\n",
      "                Criterio              Matplotlib                     Seaborn                  Plotly\n",
      "    Nivel de abstracción              Bajo nivel                  Alto nivel              Alto nivel\n",
      "                Sintaxis Verbosa, múltiples APIs        Concisa, declarativa    Concisa, declarativa\n",
      "    Curva de aprendizaje                Empinada                    Moderada                Moderada\n",
      "          Interactividad   Limitada (mplcursors)               No (estática)       Nativa y completa\n",
      "         Personalización                  Máxima                    Moderada      Alta (JSON layout)\n",
      "      Integración Pandas Buena (vía Pandas.plot)          Excelente (nativa) Excelente (Express API)\n",
      "    Estética por defecto      Básica (mejorable)         Moderna y atractiva     Profesional moderna\n",
      "             Rendimiento               Excelente                       Bueno     Bueno (optimizable)\n",
      "        Tamaño de salida      Pequeño (PNG, PDF)          Pequeño (PNG, PDF)      Grande (HTML + JS)\n",
      "             Gráficos 3D   Básico (mpl_toolkits)               No disponible               Excelente\n",
      "   Gráficos estadísticos                  Manual          Excelente (nativo)                   Bueno\n",
      "              Dashboards               No nativo                   No nativo        Excelente (Dash)\n",
      "Publicaciones académicas               Excelente                   Muy bueno                Limitado\n",
      "     Reportes ejecutivos                   Bueno                   Excelente               Excelente\n",
      "    Exploración de datos                Moderado                   Excelente               Excelente\n",
      "           Documentación            Muy completa                       Buena            Muy completa\n",
      "               Comunidad              Muy grande                      Grande      Grande y creciente\n",
      "              Ecosistema     Base del ecosistema Construido sobre Matplotlib   Independiente (D3.js)\n",
      "========================================================================================================================\n"
     ]
    }
   ],
   "source": [
    "# Crear tabla comparativa\n",
    "comparison_data = {\n",
    "    'Criterio': [\n",
    "        'Nivel de abstracción',\n",
    "        'Sintaxis',\n",
    "        'Curva de aprendizaje',\n",
    "        'Interactividad',\n",
    "        'Personalización',\n",
    "        'Integración Pandas',\n",
    "        'Estética por defecto',\n",
    "        'Rendimiento',\n",
    "        'Tamaño de salida',\n",
    "        'Gráficos 3D',\n",
    "        'Gráficos estadísticos',\n",
    "        'Dashboards',\n",
    "        'Publicaciones académicas',\n",
    "        'Reportes ejecutivos',\n",
    "        'Exploración de datos',\n",
    "        'Documentación',\n",
    "        'Comunidad',\n",
    "        'Ecosistema'\n",
    "    ],\n",
    "    'Matplotlib': [\n",
    "        'Bajo nivel',\n",
    "        'Verbosa, múltiples APIs',\n",
    "        'Empinada',\n",
    "        'Limitada (mplcursors)',\n",
    "        'Máxima',\n",
    "        'Buena (vía Pandas.plot)',\n",
    "        'Básica (mejorable)',\n",
    "        'Excelente',\n",
    "        'Pequeño (PNG, PDF)',\n",
    "        'Básico (mpl_toolkits)',\n",
    "        'Manual',\n",
    "        'No nativo',\n",
    "        'Excelente',\n",
    "        'Bueno',\n",
    "        'Moderado',\n",
    "        'Muy completa',\n",
    "        'Muy grande',\n",
    "        'Base del ecosistema'\n",
    "    ],\n",
    "    'Seaborn': [\n",
    "        'Alto nivel',\n",
    "        'Concisa, declarativa',\n",
    "        'Moderada',\n",
    "        'No (estática)',\n",
    "        'Moderada',\n",
    "        'Excelente (nativa)',\n",
    "        'Moderna y atractiva',\n",
    "        'Bueno',\n",
    "        'Pequeño (PNG, PDF)',\n",
    "        'No disponible',\n",
    "        'Excelente (nativo)',\n",
    "        'No nativo',\n",
    "        'Muy bueno',\n",
    "        'Excelente',\n",
    "        'Excelente',\n",
    "        'Buena',\n",
    "        'Grande',\n",
    "        'Construido sobre Matplotlib'\n",
    "    ],\n",
    "    'Plotly': [\n",
    "        'Alto nivel',\n",
    "        'Concisa, declarativa',\n",
    "        'Moderada',\n",
    "        'Nativa y completa',\n",
    "        'Alta (JSON layout)',\n",
    "        'Excelente (Express API)',\n",
    "        'Profesional moderna',\n",
    "        'Bueno (optimizable)',\n",
    "        'Grande (HTML + JS)',\n",
    "        'Excelente',\n",
    "        'Bueno',\n",
    "        'Excelente (Dash)',\n",
    "        'Limitado',\n",
    "        'Excelente',\n",
    "        'Excelente',\n",
    "        'Muy completa',\n",
    "        'Grande y creciente',\n",
    "        'Independiente (D3.js)'\n",
    "    ]\n",
    "}\n",
    "\n",
    "df_comparison = pd.DataFrame(comparison_data)\n",
    "\n",
    "# Mostrar tabla con estilo\n",
    "print(\"=\" * 120)\n",
    "print(\"TABLA COMPARATIVA: MATPLOTLIB vs SEABORN vs PLOTLY\".center(120))\n",
    "print(\"=\" * 120)\n",
    "print(df_comparison.to_string(index=False))\n",
    "print(\"=\" * 120)"
   ]
  },
  {
   "cell_type": "markdown",
   "id": "27ca87c7",
   "metadata": {},
   "source": [
    "---\n",
    "\n",
    "## 7. Recomendaciones por Escenario de Uso\n",
    "\n",
    "### Escenario 1: Publicación Académica o Paper Científico\n",
    "**Recomendación: Matplotlib**\n",
    "\n",
    "**Justificación:**\n",
    "- Control total sobre cada elemento visual (fuentes, espaciado, DPI)\n",
    "- Formatos de alta calidad (PDF vectorial, EPS)\n",
    "- Estándar aceptado en journals científicos\n",
    "- Reproducibilidad garantizada\n",
    "- Sin dependencias de JavaScript\n",
    "\n",
    "**Ejemplo de uso:**\n",
    "```python\n",
    "plt.figure(figsize=(8, 6), dpi=300)\n",
    "# ... gráfico ...\n",
    "plt.savefig('figure_1.pdf', bbox_inches='tight', format='pdf')\n",
    "```\n",
    "\n",
    "---\n",
    "\n",
    "### Escenario 2: Análisis Exploratorio de Datos (EDA)\n",
    "**Recomendación: Seaborn (primaria) + Plotly (exploración interactiva)**\n",
    "\n",
    "**Justificación:**\n",
    "- Seaborn: visualizaciones estadísticas rápidas (pairplot, heatmap, distplot)\n",
    "- Sintaxis mínima para gráficos complejos\n",
    "- Integración perfecta con Pandas\n",
    "- Plotly: cuando se necesita zoom/hover para explorar outliers\n",
    "\n",
    "**Ejemplo de uso:**\n",
    "```python\n",
    "# Visión general rápida\n",
    "sns.pairplot(df, hue='Categoria')\n",
    "\n",
    "# Exploración interactiva de outliers\n",
    "px.scatter(df, x='x', y='y', hover_data=df.columns)\n",
    "```\n",
    "\n",
    "---\n",
    "\n",
    "### Escenario 3: Dashboard Ejecutivo o Aplicación Web\n",
    "**Recomendación: Plotly + Dash**\n",
    "\n",
    "**Justificación:**\n",
    "- Interactividad nativa sin JavaScript manual\n",
    "- Framework Dash para aplicaciones completas\n",
    "- Actualización en tiempo real\n",
    "- Aspecto profesional y moderno\n",
    "- Exportable a HTML standalone\n",
    "\n",
    "**Ejemplo de uso:**\n",
    "```python\n",
    "import dash\n",
    "from dash import dcc, html\n",
    "\n",
    "app = dash.Dash(__name__)\n",
    "app.layout = html.Div([\n",
    "    dcc.Graph(figure=px.scatter(df, x='x', y='y'))\n",
    "])\n",
    "app.run_server()\n",
    "```\n",
    "\n",
    "---\n",
    "\n",
    "### Escenario 4: Reporte Estático PDF/PowerPoint\n",
    "**Recomendación: Seaborn**\n",
    "\n",
    "**Justificación:**\n",
    "- Estética moderna lista para presentaciones\n",
    "- Menos código que Matplotlib\n",
    "- Gráficos estadísticos comunes predefinidos\n",
    "- Exportación a imágenes de alta calidad\n",
    "\n",
    "**Ejemplo de uso:**\n",
    "```python\n",
    "sns.set_style('whitegrid')\n",
    "fig, ax = plt.subplots(figsize=(10, 6))\n",
    "sns.barplot(data=df, x='categoria', y='valor', ax=ax)\n",
    "plt.savefig('reporte_ejecutivo.png', dpi=300, bbox_inches='tight')\n",
    "```\n",
    "\n",
    "---\n",
    "\n",
    "### Escenario 5: Visualización 3D o Geoespacial\n",
    "**Recomendación: Plotly**\n",
    "\n",
    "**Justificación:**\n",
    "- Soporte robusto para gráficos 3D interactivos\n",
    "- Mapas geográficos nativos (Mapbox, Choropleth)\n",
    "- Rotación y zoom en 3D\n",
    "- Integración con Mapbox y otras fuentes geográficas\n",
    "\n",
    "**Ejemplo de uso:**\n",
    "```python\n",
    "fig = px.scatter_3d(df, x='x', y='y', z='z', color='categoria')\n",
    "fig.show()\n",
    "\n",
    "# Mapa geográfico\n",
    "fig = px.scatter_mapbox(df, lat='lat', lon='lon', zoom=10)\n",
    "```\n",
    "\n",
    "---\n",
    "\n",
    "### Escenario 6: Prototipado Rápido en Jupyter\n",
    "**Recomendación: Seaborn (estático) o Plotly Express (interactivo)**\n",
    "\n",
    "**Justificación:**\n",
    "- Ambas ofrecen sintaxis de una línea\n",
    "- Resultados inmediatos sin configuración\n",
    "- Plotly Express: interactividad sin esfuerzo\n",
    "- Seaborn: integración perfecta con análisis estadístico\n",
    "\n",
    "---\n",
    "\n",
    "### Escenario 7: Personalización Extrema o Gráficos No Convencionales\n",
    "**Recomendación: Matplotlib**\n",
    "\n",
    "**Justificación:**\n",
    "- Control granular sobre cada pixel\n",
    "- Creación de tipos de gráficos personalizados\n",
    "- Transformaciones avanzadas\n",
    "- Arte generativo o visualizaciones no estándar"
   ]
  },
  {
   "cell_type": "markdown",
   "id": "c1591044",
   "metadata": {},
   "source": [
    "---\n",
    "\n",
    "## 8. Conclusiones y Mejores Prácticas\n",
    "\n",
    "### Conclusiones Principales\n",
    "\n",
    "1. **No existe una librería superior universal**: La elección depende del contexto, audiencia y requisitos del proyecto.\n",
    "\n",
    "2. **Matplotlib es la base**: Entender Matplotlib es fundamental, ya que Seaborn se construye sobre ella y muchos conceptos aplican a otras librerías.\n",
    "\n",
    "3. **Seaborn optimiza el flujo estadístico**: Para análisis exploratorio y visualizaciones estadísticas, Seaborn reduce significativamente el código necesario.\n",
    "\n",
    "4. **Plotly domina la interactividad**: Cuando se requiere exploración dinámica, dashboards o presentaciones interactivas, Plotly es la opción clara.\n",
    "\n",
    "5. **La combinación es válida**: Es común usar Seaborn para EDA inicial, Matplotlib para ajustes finos de publicación, y Plotly para dashboards finales.\n",
    "\n",
    "### Matriz de Decisión Rápida\n",
    "\n",
    "| Requisito Principal | Librería Recomendada | Razón |\n",
    "|---------------------|----------------------|-------|\n",
    "| Publicación científica | Matplotlib | Control total, formatos vectoriales |\n",
    "| EDA rápido | Seaborn | Sintaxis concisa, gráficos estadísticos |\n",
    "| Dashboard web | Plotly + Dash | Interactividad nativa |\n",
    "| Reporte ejecutivo | Seaborn | Estética moderna |\n",
    "| Visualización 3D | Plotly | Soporte robusto |\n",
    "| Máxima personalización | Matplotlib | Control granular |\n",
    "| Prototipado rápido | Seaborn o Plotly Express | Una línea de código |\n",
    "| Integración Pandas | Seaborn o Plotly | API declarativa |\n",
    "\n",
    "### Mejores Prácticas Generales\n",
    "\n",
    "1. **Consistencia**: Mantener un estilo visual coherente en todo el proyecto\n",
    "2. **Simplicidad**: Evitar sobrecarga visual (menos es más)\n",
    "3. **Accesibilidad**: Usar paletas de colores amigables para daltonismo\n",
    "4. **Etiquetas claras**: Siempre incluir títulos, ejes y leyendas descriptivas\n",
    "5. **Contexto**: Adaptar el tipo de visualización al mensaje que se desea transmitir\n",
    "6. **Documentación**: Incluir código reproducible con versiones de librerías\n",
    "\n",
    "### Recursos Adicionales\n",
    "\n",
    "- **Matplotlib**: https://matplotlib.org/stable/tutorials/index.html\n",
    "- **Seaborn**: https://seaborn.pydata.org/tutorial.html\n",
    "- **Plotly**: https://plotly.com/python/\n",
    "- **From Data to Viz**: https://www.data-to-viz.com/ (guía de selección de gráficos)\n",
    "- **Colorbrewer**: https://colorbrewer2.org/ (paletas de colores accesibles)"
   ]
  },
  {
   "cell_type": "markdown",
   "id": "b29a4394",
   "metadata": {},
   "source": [
    "---\n",
    "\n",
    "## 9. Resumen Ejecutivo\n",
    "\n",
    "### Hallazgos Clave del Análisis Comparativo\n",
    "\n",
    "Este notebook ha demostrado mediante ejemplos prácticos las diferencias fundamentales entre tres pilares de la visualización de datos en Python:\n",
    "\n",
    "#### Matplotlib\n",
    "- **Fortaleza**: Control absoluto y personalización máxima\n",
    "- **Debilidad**: Sintaxis verbosa y curva de aprendizaje empinada\n",
    "- **Caso de uso óptimo**: Publicaciones académicas y gráficos altamente personalizados\n",
    "\n",
    "#### Seaborn\n",
    "- **Fortaleza**: Sintaxis concisa y visualizaciones estadísticas integradas\n",
    "- **Debilidad**: Menor control granular que Matplotlib\n",
    "- **Caso de uso óptimo**: Análisis exploratorio de datos y reportes ejecutivos estáticos\n",
    "\n",
    "#### Plotly\n",
    "- **Fortaleza**: Interactividad nativa y dashboards profesionales\n",
    "- **Debilidad**: Archivos de salida más pesados y dependencia de JavaScript\n",
    "- **Caso de uso óptimo**: Dashboards web, presentaciones interactivas y visualizaciones 3D\n",
    "\n",
    "### Recomendación Final\n",
    "\n",
    "**Estrategia híbrida recomendada:**\n",
    "1. **Exploración inicial**: Seaborn para EDA rápido\n",
    "2. **Análisis interactivo**: Plotly para exploración profunda\n",
    "3. **Publicación final**: Matplotlib para control fino o Plotly para compartir en web\n",
    "\n",
    "La elección no es excluyente; dominar las tres librerías proporciona máxima flexibilidad para enfrentar cualquier desafío de visualización de datos.\n",
    "\n",
    "---\n",
    "\n",
    "**Fin del análisis comparativo**\n",
    "\n",
    "**Autor**: Análisis realizado para INFB6052 - Herramientas para Ciencia de Datos  \n",
    "**Fecha**: Octubre 2025  \n",
    "**Dataset**: Datos sintéticos de ventas (200 muestras, 5 categorías)  \n",
    "**Librerías evaluadas**: Matplotlib 3.x, Seaborn 0.x, Plotly 5.x"
   ]
  }
 ],
 "metadata": {
  "kernelspec": {
   "display_name": ".venv (3.10.11)",
   "language": "python",
   "name": "python3"
  },
  "language_info": {
   "codemirror_mode": {
    "name": "ipython",
    "version": 3
   },
   "file_extension": ".py",
   "mimetype": "text/x-python",
   "name": "python",
   "nbconvert_exporter": "python",
   "pygments_lexer": "ipython3",
   "version": "3.10.11"
  }
 },
 "nbformat": 4,
 "nbformat_minor": 5
}
